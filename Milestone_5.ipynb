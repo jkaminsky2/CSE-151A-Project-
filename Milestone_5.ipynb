{
  "cells": [
    {
      "cell_type": "markdown",
      "metadata": {
        "id": "CTvl2Keb8fME"
      },
      "source": [
        "## CSE 151A Project: Predicting Restaurant Price Categories Based on Review Data\n",
        "\n",
        "Abstract: As food prices continue to surge, amateur and seasoned foodies are left to question: what qualities or features lead a restaurant to establish their prices? Over the next 6 weeks we plan to answer this question. By leveraging the CSE Google Review dataset, we will (A) create a machine learning model that accurately predicts the price bracket of a restaurant, and (B) determine the statistical significance of each input feature. Specifically, we will train a regression model on sklearn, on engineered features such as geolocation and sentiment derived from text reviews. Since many features of a restaurant such as their food suppliers  are not public knowledge, the logic behind restaurant prices is often unseen by its customers. We hope that with the use of feature engineering and machine learning, we can encourage more clarity on what differentiates inexpensive from expensive restaurants.\n"
      ]
    },
    {
      "cell_type": "markdown",
      "metadata": {
        "id": "dfprBNJXzMWe"
      },
      "source": [
        "# Library Imports"
      ]
    },
    {
      "cell_type": "code",
      "execution_count": null,
      "metadata": {
        "id": "N2ra2vtUzLlR"
      },
      "outputs": [],
      "source": [
        "# Add imports here as needed\n",
        "import pandas as pd\n",
        "import numpy as np\n",
        "import json\n",
        "import urllib\n",
        "import requests\n",
        "import gzip\n",
        "import ast\n",
        "from collections import Counter\n",
        "import re\n",
        "\n",
        "# Sentiment analysis\n",
        "# !pip install vaderSentiment\n",
        "# !pip install install googletrans==3.1.0a0\n",
        "from vaderSentiment.vaderSentiment import SentimentIntensityAnalyzer\n",
        "\n",
        "# Geographic object imports\n",
        "from sklearn.cluster import KMeans\n",
        "from geopy.geocoders import Nominatim\n",
        "from sklearn.feature_extraction.text import TfidfVectorizer\n",
        "from googletrans import Translator\n",
        "from sklearn.metrics import confusion_matrix\n",
        "from sklearn.model_selection import train_test_split\n",
        "from sklearn.preprocessing import OrdinalEncoder\n",
        "from sklearn.model_selection import RepeatedKFold, cross_validate\n",
        "from sklearn.naive_bayes import CategoricalNB\n",
        "# from imblearn.over_sampling import RandomOverSampler\n",
        "from sklearn.preprocessing import StandardScaler\n",
        "# import our svm libraries\n",
        "from sklearn.svm import SVC\n",
        "from sklearn.model_selection import GridSearchCV\n",
        "from google.colab import files\n",
        "from xgboost import XGBClassifier\n",
        "from sklearn.metrics import classification_report, confusion_matrix\n",
        "import imblearn\n",
        "from imblearn.over_sampling import RandomOverSampler\n",
        "# from sklearn.model_selection import GridSearchCV\n",
        "from sklearn.metrics import accuracy_score, make_scorer\n",
        "from imblearn.over_sampling import SMOTE\n",
        "# pip install keras_tuner\n",
        "# pip install scikeras\n",
        "import keras\n",
        "from keras.models import Sequential\n",
        "from keras.layers import Dense\n",
        "from scikeras.wrappers import KerasClassifier\n"
      ]
    },
    {
      "cell_type": "code",
      "execution_count": null,
      "metadata": {
        "colab": {
          "base_uri": "https://localhost:8080/"
        },
        "id": "m7j2NGMSdql2",
        "outputId": "5c43deb4-562b-45f5-b522-da60a7d5a61a"
      },
      "outputs": [
        {
          "name": "stdout",
          "output_type": "stream",
          "text": [
            "[==================================================] 100.0% 1662.8/1662.8MB downloaded\n"
          ]
        }
      ],
      "source": [
        "import gensim.downloader as api\n",
        "\n",
        "wv = api.load('word2vec-google-news-300') #Download Google API to compute word similarity to\n",
        "#Download time: 11 minutes"
      ]
    },
    {
      "cell_type": "markdown",
      "metadata": {
        "id": "ooYpUGZ1Oemd"
      },
      "source": [
        "# Load Preprocessed Data in Database"
      ]
    },
    {
      "cell_type": "markdown",
      "metadata": {
        "id": "ToSBc3TzOjuu"
      },
      "source": [
        "### Loading Place Data\n",
        "- Filter by prices are not None; standardize prices by $; one-hot encode\n",
        "- Get geographical location"
      ]
    },
    {
      "cell_type": "markdown",
      "metadata": {
        "id": "Zr33Z1c6Uyrd"
      },
      "source": [
        "Load data:"
      ]
    },
    {
      "cell_type": "code",
      "execution_count": null,
      "metadata": {
        "id": "8iSToh-t8ejU"
      },
      "outputs": [],
      "source": [
        "data_link = 'https://datarepo.eng.ucsd.edu/mcauley_group/data/googlelocal/places.clean.json.gz'"
      ]
    },
    {
      "cell_type": "code",
      "execution_count": null,
      "metadata": {
        "id": "HuIWygpOOmwJ"
      },
      "outputs": [],
      "source": [
        "def load_place(line, place_list):\n",
        "  #Read a line, remove parsing characters like u\"\n",
        "  place = line.decode('utf-8').strip().replace('u\"', '\"')\n",
        "\n",
        "  #Place is now a dictionary\n",
        "  place = ast.literal_eval(place)\n",
        "\n",
        "  if (place['price'] is not None) and (place['price'] != '         '):\n",
        "    #Remove unnecessary keys (hours, phone)\n",
        "    place.pop('hours', None)\n",
        "    place.pop('phone', None)\n",
        "\n",
        "    #Append place to the list\n",
        "    place_list.append(place)"
      ]
    },
    {
      "cell_type": "code",
      "execution_count": null,
      "metadata": {
        "id": "BhvZpa7KO8n3"
      },
      "outputs": [],
      "source": [
        "place_list = [] #Store in empty list\n",
        "\n",
        "response = urllib.request.urlopen(data_link) #Open the file at the link\n",
        "\n",
        "with gzip.open(response, 'rb') as f:\n",
        "  for line in f:\n",
        "    load_place(line, place_list=place_list)\n",
        "\n",
        "#Time to load: 5m 41s\n",
        "#You may have to restart your runtime to get 5m runtime! If it's 8m>, something is wrong -- you should try again. Make sure your RAM graph looks accurate/fine."
      ]
    },
    {
      "cell_type": "code",
      "execution_count": null,
      "metadata": {
        "id": "PU7HCu90P0ni"
      },
      "outputs": [],
      "source": [
        "places = pd.DataFrame(place_list) #Converting to dataframe #Time = 9s"
      ]
    },
    {
      "cell_type": "markdown",
      "metadata": {
        "id": "zyYeGc2YPJr8"
      },
      "source": [
        "Standardize price from foreign currency to USD"
      ]
    },
    {
      "cell_type": "code",
      "execution_count": null,
      "metadata": {
        "id": "BEY_GHWVPI0a"
      },
      "outputs": [],
      "source": [
        "def convert_to_usd(symbol):\n",
        "  conversion = { '$': 1, '€': 1.08, '£': 1.26, '₴': 0.027, '₩':0.00075, '฿':0.028, 'R':0.052, '₱':0.01788}\n",
        "  if len(symbol) > 0 and symbol[0] in conversion:\n",
        "    return 10 * len(symbol) * conversion[symbol[0]]\n",
        "  else:\n",
        "    return None\n",
        "\n",
        "def convert_to_symbol(dollars):\n",
        "  # $ = Inexpensive, usually $10 and under\n",
        "  # $$ = Moderately expensive, usually between $10-$25\n",
        "  # $$$ = Expensive, usually between $25-$45\n",
        "  # $$$$ = Very Expensive, usually $50 and up'\n",
        "  if dollars < 10:\n",
        "    return '$'\n",
        "  elif dollars < 25:\n",
        "    return '$$'\n",
        "  elif dollars < 45:\n",
        "    return '$$$'\n",
        "  return '$$$$'"
      ]
    },
    {
      "cell_type": "code",
      "execution_count": null,
      "metadata": {
        "id": "DvmXWBZxQYpw"
      },
      "outputs": [],
      "source": [
        "places['price'] = places['price'].apply(convert_to_usd) #Convert into USD\n",
        "places['price'] = places['price'].apply(convert_to_symbol) #Convert into $, $$, $$$, etc."
      ]
    },
    {
      "cell_type": "code",
      "execution_count": null,
      "metadata": {
        "colab": {
          "base_uri": "https://localhost:8080/"
        },
        "id": "k_gl8ifVTaNT",
        "outputId": "4a44ccae-f3be-47bc-ba44-71878726c7bb"
      },
      "outputs": [
        {
          "data": {
            "text/plain": [
              "$$      209259\n",
              "$$$     192061\n",
              "$$$$      2543\n",
              "$          821\n",
              "Name: price, dtype: int64"
            ]
          },
          "execution_count": 17,
          "metadata": {},
          "output_type": "execute_result"
        }
      ],
      "source": [
        "places['price'].value_counts()"
      ]
    },
    {
      "cell_type": "markdown",
      "metadata": {
        "id": "5Alw___QzpaI"
      },
      "source": [
        "One-Hot Encode Price:"
      ]
    },
    {
      "cell_type": "code",
      "execution_count": null,
      "metadata": {
        "id": "LWSVa4-vzqsO"
      },
      "outputs": [],
      "source": [
        "places = pd.get_dummies(places, columns=['price'], prefix='Class')"
      ]
    },
    {
      "cell_type": "markdown",
      "metadata": {
        "id": "kOI3y3qoPgNr"
      },
      "source": [
        "Get geographical objects and save to `places`"
      ]
    },
    {
      "cell_type": "code",
      "execution_count": null,
      "metadata": {
        "colab": {
          "base_uri": "https://localhost:8080/"
        },
        "id": "lRh9d5POPhaa",
        "outputId": "963c46f7-8cab-4d25-d8b8-bf8cfe464321"
      },
      "outputs": [
        {
          "name": "stderr",
          "output_type": "stream",
          "text": [
            "/usr/local/lib/python3.10/dist-packages/sklearn/cluster/_kmeans.py:870: FutureWarning: The default value of `n_init` will change from 10 to 'auto' in 1.4. Set the value of `n_init` explicitly to suppress the warning\n",
            "  warnings.warn(\n"
          ]
        }
      ],
      "source": [
        "df_geo = pd.DataFrame(places[['gPlusPlaceId', 'address']])\n",
        "df_geo = df_geo.assign(latitude = places[places['gps'].notna()]['gps'].apply(lambda x: x[0]))\n",
        "df_geo = df_geo.assign(longitude = places[places['gps'].notna()]['gps'].apply(lambda x: x[1]))\n",
        "\n",
        "#Filter for only not-null\n",
        "df_geo = df_geo[df_geo['latitude'].notna()]\n",
        "\n",
        "#Get location kmeans cluster\n",
        "## can adjust k based on needs\n",
        "kmeans = KMeans(n_clusters = 200, random_state=42)\n",
        "df_geo['location_cluster'] = kmeans.fit_predict(df_geo[['latitude', 'longitude']])\n",
        "#Runtime: 1m34s"
      ]
    },
    {
      "cell_type": "code",
      "execution_count": null,
      "metadata": {
        "id": "0eFQ7gGeUGUo"
      },
      "outputs": [],
      "source": [
        "#Add location_cluster to the places database\n",
        "places['location_cluster'] = pd.Series(df_geo.location_cluster).astype(int)"
      ]
    },
    {
      "cell_type": "code",
      "execution_count": null,
      "metadata": {
        "colab": {
          "base_uri": "https://localhost:8080/",
          "height": 289
        },
        "id": "qf_ldZZJUU22",
        "outputId": "017dc6d2-6c71-4782-cc21-5d3c6c9875ce"
      },
      "outputs": [
        {
          "data": {
            "application/vnd.google.colaboratory.intrinsic+json": {
              "type": "dataframe",
              "variable_name": "places"
            },
            "text/html": [
              "\n",
              "  <div id=\"df-e7f6f5af-a397-472f-a183-bc46506b0e13\" class=\"colab-df-container\">\n",
              "    <div>\n",
              "<style scoped>\n",
              "    .dataframe tbody tr th:only-of-type {\n",
              "        vertical-align: middle;\n",
              "    }\n",
              "\n",
              "    .dataframe tbody tr th {\n",
              "        vertical-align: top;\n",
              "    }\n",
              "\n",
              "    .dataframe thead th {\n",
              "        text-align: right;\n",
              "    }\n",
              "</style>\n",
              "<table border=\"1\" class=\"dataframe\">\n",
              "  <thead>\n",
              "    <tr style=\"text-align: right;\">\n",
              "      <th></th>\n",
              "      <th>name</th>\n",
              "      <th>address</th>\n",
              "      <th>closed</th>\n",
              "      <th>gPlusPlaceId</th>\n",
              "      <th>gps</th>\n",
              "      <th>Class_$</th>\n",
              "      <th>Class_$$</th>\n",
              "      <th>Class_$$$</th>\n",
              "      <th>Class_$$$$</th>\n",
              "      <th>location_cluster</th>\n",
              "    </tr>\n",
              "  </thead>\n",
              "  <tbody>\n",
              "    <tr>\n",
              "      <th>0</th>\n",
              "      <td>T C's Referee Sports Bar</td>\n",
              "      <td>[5322 W 26th St, Sioux Falls, SD 57106]</td>\n",
              "      <td>False</td>\n",
              "      <td>100327153115986850675</td>\n",
              "      <td>[43.529494, -96.792244]</td>\n",
              "      <td>0</td>\n",
              "      <td>1</td>\n",
              "      <td>0</td>\n",
              "      <td>0</td>\n",
              "      <td>0.0</td>\n",
              "    </tr>\n",
              "    <tr>\n",
              "      <th>1</th>\n",
              "      <td>Old Chicago</td>\n",
              "      <td>[17960 NW Evergreen Pkwy, Beaverton, OR 97006]</td>\n",
              "      <td>False</td>\n",
              "      <td>118222137795476771294</td>\n",
              "      <td>[45.535176, -122.862242]</td>\n",
              "      <td>0</td>\n",
              "      <td>1</td>\n",
              "      <td>0</td>\n",
              "      <td>0</td>\n",
              "      <td>0.0</td>\n",
              "    </tr>\n",
              "    <tr>\n",
              "      <th>2</th>\n",
              "      <td>China Cottage</td>\n",
              "      <td>[3718 Wilmington Pike, Dayton, OH 45429]</td>\n",
              "      <td>False</td>\n",
              "      <td>106432060150136868000</td>\n",
              "      <td>[39.692899, -84.136173]</td>\n",
              "      <td>0</td>\n",
              "      <td>1</td>\n",
              "      <td>0</td>\n",
              "      <td>0</td>\n",
              "      <td>0.0</td>\n",
              "    </tr>\n",
              "    <tr>\n",
              "      <th>3</th>\n",
              "      <td>Smokey Mountain Wings</td>\n",
              "      <td>[3607 Outdoor Sportsman Pl, Kodak, TN 37764]</td>\n",
              "      <td>False</td>\n",
              "      <td>100184392614713668281</td>\n",
              "      <td>[35.98598, -83.610598]</td>\n",
              "      <td>0</td>\n",
              "      <td>1</td>\n",
              "      <td>0</td>\n",
              "      <td>0</td>\n",
              "      <td>0.0</td>\n",
              "    </tr>\n",
              "    <tr>\n",
              "      <th>4</th>\n",
              "      <td>Sabatinos Italian Kitchen</td>\n",
              "      <td>[242 Massachusetts Ave, Arlington, MA 02474]</td>\n",
              "      <td>False</td>\n",
              "      <td>110300304875024740707</td>\n",
              "      <td>[42.406904, -71.143994]</td>\n",
              "      <td>0</td>\n",
              "      <td>0</td>\n",
              "      <td>1</td>\n",
              "      <td>0</td>\n",
              "      <td>0.0</td>\n",
              "    </tr>\n",
              "  </tbody>\n",
              "</table>\n",
              "</div>\n",
              "    <div class=\"colab-df-buttons\">\n",
              "\n",
              "  <div class=\"colab-df-container\">\n",
              "    <button class=\"colab-df-convert\" onclick=\"convertToInteractive('df-e7f6f5af-a397-472f-a183-bc46506b0e13')\"\n",
              "            title=\"Convert this dataframe to an interactive table.\"\n",
              "            style=\"display:none;\">\n",
              "\n",
              "  <svg xmlns=\"http://www.w3.org/2000/svg\" height=\"24px\" viewBox=\"0 -960 960 960\">\n",
              "    <path d=\"M120-120v-720h720v720H120Zm60-500h600v-160H180v160Zm220 220h160v-160H400v160Zm0 220h160v-160H400v160ZM180-400h160v-160H180v160Zm440 0h160v-160H620v160ZM180-180h160v-160H180v160Zm440 0h160v-160H620v160Z\"/>\n",
              "  </svg>\n",
              "    </button>\n",
              "\n",
              "  <style>\n",
              "    .colab-df-container {\n",
              "      display:flex;\n",
              "      gap: 12px;\n",
              "    }\n",
              "\n",
              "    .colab-df-convert {\n",
              "      background-color: #E8F0FE;\n",
              "      border: none;\n",
              "      border-radius: 50%;\n",
              "      cursor: pointer;\n",
              "      display: none;\n",
              "      fill: #1967D2;\n",
              "      height: 32px;\n",
              "      padding: 0 0 0 0;\n",
              "      width: 32px;\n",
              "    }\n",
              "\n",
              "    .colab-df-convert:hover {\n",
              "      background-color: #E2EBFA;\n",
              "      box-shadow: 0px 1px 2px rgba(60, 64, 67, 0.3), 0px 1px 3px 1px rgba(60, 64, 67, 0.15);\n",
              "      fill: #174EA6;\n",
              "    }\n",
              "\n",
              "    .colab-df-buttons div {\n",
              "      margin-bottom: 4px;\n",
              "    }\n",
              "\n",
              "    [theme=dark] .colab-df-convert {\n",
              "      background-color: #3B4455;\n",
              "      fill: #D2E3FC;\n",
              "    }\n",
              "\n",
              "    [theme=dark] .colab-df-convert:hover {\n",
              "      background-color: #434B5C;\n",
              "      box-shadow: 0px 1px 3px 1px rgba(0, 0, 0, 0.15);\n",
              "      filter: drop-shadow(0px 1px 2px rgba(0, 0, 0, 0.3));\n",
              "      fill: #FFFFFF;\n",
              "    }\n",
              "  </style>\n",
              "\n",
              "    <script>\n",
              "      const buttonEl =\n",
              "        document.querySelector('#df-e7f6f5af-a397-472f-a183-bc46506b0e13 button.colab-df-convert');\n",
              "      buttonEl.style.display =\n",
              "        google.colab.kernel.accessAllowed ? 'block' : 'none';\n",
              "\n",
              "      async function convertToInteractive(key) {\n",
              "        const element = document.querySelector('#df-e7f6f5af-a397-472f-a183-bc46506b0e13');\n",
              "        const dataTable =\n",
              "          await google.colab.kernel.invokeFunction('convertToInteractive',\n",
              "                                                    [key], {});\n",
              "        if (!dataTable) return;\n",
              "\n",
              "        const docLinkHtml = 'Like what you see? Visit the ' +\n",
              "          '<a target=\"_blank\" href=https://colab.research.google.com/notebooks/data_table.ipynb>data table notebook</a>'\n",
              "          + ' to learn more about interactive tables.';\n",
              "        element.innerHTML = '';\n",
              "        dataTable['output_type'] = 'display_data';\n",
              "        await google.colab.output.renderOutput(dataTable, element);\n",
              "        const docLink = document.createElement('div');\n",
              "        docLink.innerHTML = docLinkHtml;\n",
              "        element.appendChild(docLink);\n",
              "      }\n",
              "    </script>\n",
              "  </div>\n",
              "\n",
              "\n",
              "<div id=\"df-975c9aa6-5d23-4f17-a8eb-70ea9a9a3a82\">\n",
              "  <button class=\"colab-df-quickchart\" onclick=\"quickchart('df-975c9aa6-5d23-4f17-a8eb-70ea9a9a3a82')\"\n",
              "            title=\"Suggest charts\"\n",
              "            style=\"display:none;\">\n",
              "\n",
              "<svg xmlns=\"http://www.w3.org/2000/svg\" height=\"24px\"viewBox=\"0 0 24 24\"\n",
              "     width=\"24px\">\n",
              "    <g>\n",
              "        <path d=\"M19 3H5c-1.1 0-2 .9-2 2v14c0 1.1.9 2 2 2h14c1.1 0 2-.9 2-2V5c0-1.1-.9-2-2-2zM9 17H7v-7h2v7zm4 0h-2V7h2v10zm4 0h-2v-4h2v4z\"/>\n",
              "    </g>\n",
              "</svg>\n",
              "  </button>\n",
              "\n",
              "<style>\n",
              "  .colab-df-quickchart {\n",
              "      --bg-color: #E8F0FE;\n",
              "      --fill-color: #1967D2;\n",
              "      --hover-bg-color: #E2EBFA;\n",
              "      --hover-fill-color: #174EA6;\n",
              "      --disabled-fill-color: #AAA;\n",
              "      --disabled-bg-color: #DDD;\n",
              "  }\n",
              "\n",
              "  [theme=dark] .colab-df-quickchart {\n",
              "      --bg-color: #3B4455;\n",
              "      --fill-color: #D2E3FC;\n",
              "      --hover-bg-color: #434B5C;\n",
              "      --hover-fill-color: #FFFFFF;\n",
              "      --disabled-bg-color: #3B4455;\n",
              "      --disabled-fill-color: #666;\n",
              "  }\n",
              "\n",
              "  .colab-df-quickchart {\n",
              "    background-color: var(--bg-color);\n",
              "    border: none;\n",
              "    border-radius: 50%;\n",
              "    cursor: pointer;\n",
              "    display: none;\n",
              "    fill: var(--fill-color);\n",
              "    height: 32px;\n",
              "    padding: 0;\n",
              "    width: 32px;\n",
              "  }\n",
              "\n",
              "  .colab-df-quickchart:hover {\n",
              "    background-color: var(--hover-bg-color);\n",
              "    box-shadow: 0 1px 2px rgba(60, 64, 67, 0.3), 0 1px 3px 1px rgba(60, 64, 67, 0.15);\n",
              "    fill: var(--button-hover-fill-color);\n",
              "  }\n",
              "\n",
              "  .colab-df-quickchart-complete:disabled,\n",
              "  .colab-df-quickchart-complete:disabled:hover {\n",
              "    background-color: var(--disabled-bg-color);\n",
              "    fill: var(--disabled-fill-color);\n",
              "    box-shadow: none;\n",
              "  }\n",
              "\n",
              "  .colab-df-spinner {\n",
              "    border: 2px solid var(--fill-color);\n",
              "    border-color: transparent;\n",
              "    border-bottom-color: var(--fill-color);\n",
              "    animation:\n",
              "      spin 1s steps(1) infinite;\n",
              "  }\n",
              "\n",
              "  @keyframes spin {\n",
              "    0% {\n",
              "      border-color: transparent;\n",
              "      border-bottom-color: var(--fill-color);\n",
              "      border-left-color: var(--fill-color);\n",
              "    }\n",
              "    20% {\n",
              "      border-color: transparent;\n",
              "      border-left-color: var(--fill-color);\n",
              "      border-top-color: var(--fill-color);\n",
              "    }\n",
              "    30% {\n",
              "      border-color: transparent;\n",
              "      border-left-color: var(--fill-color);\n",
              "      border-top-color: var(--fill-color);\n",
              "      border-right-color: var(--fill-color);\n",
              "    }\n",
              "    40% {\n",
              "      border-color: transparent;\n",
              "      border-right-color: var(--fill-color);\n",
              "      border-top-color: var(--fill-color);\n",
              "    }\n",
              "    60% {\n",
              "      border-color: transparent;\n",
              "      border-right-color: var(--fill-color);\n",
              "    }\n",
              "    80% {\n",
              "      border-color: transparent;\n",
              "      border-right-color: var(--fill-color);\n",
              "      border-bottom-color: var(--fill-color);\n",
              "    }\n",
              "    90% {\n",
              "      border-color: transparent;\n",
              "      border-bottom-color: var(--fill-color);\n",
              "    }\n",
              "  }\n",
              "</style>\n",
              "\n",
              "  <script>\n",
              "    async function quickchart(key) {\n",
              "      const quickchartButtonEl =\n",
              "        document.querySelector('#' + key + ' button');\n",
              "      quickchartButtonEl.disabled = true;  // To prevent multiple clicks.\n",
              "      quickchartButtonEl.classList.add('colab-df-spinner');\n",
              "      try {\n",
              "        const charts = await google.colab.kernel.invokeFunction(\n",
              "            'suggestCharts', [key], {});\n",
              "      } catch (error) {\n",
              "        console.error('Error during call to suggestCharts:', error);\n",
              "      }\n",
              "      quickchartButtonEl.classList.remove('colab-df-spinner');\n",
              "      quickchartButtonEl.classList.add('colab-df-quickchart-complete');\n",
              "    }\n",
              "    (() => {\n",
              "      let quickchartButtonEl =\n",
              "        document.querySelector('#df-975c9aa6-5d23-4f17-a8eb-70ea9a9a3a82 button');\n",
              "      quickchartButtonEl.style.display =\n",
              "        google.colab.kernel.accessAllowed ? 'block' : 'none';\n",
              "    })();\n",
              "  </script>\n",
              "</div>\n",
              "    </div>\n",
              "  </div>\n"
            ],
            "text/plain": [
              "                        name                                         address  \\\n",
              "0   T C's Referee Sports Bar         [5322 W 26th St, Sioux Falls, SD 57106]   \n",
              "1                Old Chicago  [17960 NW Evergreen Pkwy, Beaverton, OR 97006]   \n",
              "2              China Cottage        [3718 Wilmington Pike, Dayton, OH 45429]   \n",
              "3      Smokey Mountain Wings    [3607 Outdoor Sportsman Pl, Kodak, TN 37764]   \n",
              "4  Sabatinos Italian Kitchen    [242 Massachusetts Ave, Arlington, MA 02474]   \n",
              "\n",
              "   closed           gPlusPlaceId                       gps  Class_$  Class_$$  \\\n",
              "0   False  100327153115986850675   [43.529494, -96.792244]        0         1   \n",
              "1   False  118222137795476771294  [45.535176, -122.862242]        0         1   \n",
              "2   False  106432060150136868000   [39.692899, -84.136173]        0         1   \n",
              "3   False  100184392614713668281    [35.98598, -83.610598]        0         1   \n",
              "4   False  110300304875024740707   [42.406904, -71.143994]        0         0   \n",
              "\n",
              "   Class_$$$  Class_$$$$  location_cluster  \n",
              "0          0           0               0.0  \n",
              "1          0           0               0.0  \n",
              "2          0           0               0.0  \n",
              "3          0           0               0.0  \n",
              "4          1           0               0.0  "
            ]
          },
          "execution_count": 21,
          "metadata": {},
          "output_type": "execute_result"
        }
      ],
      "source": [
        "places.head()"
      ]
    },
    {
      "cell_type": "markdown",
      "metadata": {
        "id": "8BSA71mHUmSZ"
      },
      "source": [
        "### Loading Review Data\n",
        "- Group by category\n",
        "- Get rid of non-restaurant google locations\n",
        "- Translate reviews"
      ]
    },
    {
      "cell_type": "markdown",
      "metadata": {
        "id": "t0vEF3SWVymH"
      },
      "source": [
        "Load data:"
      ]
    },
    {
      "cell_type": "code",
      "execution_count": null,
      "metadata": {
        "id": "n2x7fV-6UsZl"
      },
      "outputs": [],
      "source": [
        "data_link = 'https://datarepo.eng.ucsd.edu/mcauley_group/data/googlelocal/reviews.clean.json.gz'"
      ]
    },
    {
      "cell_type": "code",
      "execution_count": null,
      "metadata": {
        "id": "ZTkKSecYUs0V"
      },
      "outputs": [],
      "source": [
        "def load_review(line, review_list):\n",
        "  #Read a line, remove parsing characters like /n, 'b, u\"\n",
        "  review = line.decode('utf-8').strip().replace(\"u'\", \"'\")\n",
        "\n",
        "  #Place is now a dictionary\n",
        "  review = ast.literal_eval(review)\n",
        "\n",
        "  if review['gPlusPlaceId'] is not None:\n",
        "    #Remove unnecessary keys (hours, phone)\n",
        "    review.pop('reviewerName', None)\n",
        "    review.pop('phone', None)\n",
        "    review.pop('gPlusUserId')\n",
        "\n",
        "    #Append place to the list\n",
        "    review_list.append(review)"
      ]
    },
    {
      "cell_type": "code",
      "execution_count": null,
      "metadata": {
        "id": "EoOmeEEJVDFy"
      },
      "outputs": [],
      "source": [
        "review_list = [] #Store in empty list\n",
        "\n",
        "response = urllib.request.urlopen(data_link) #Open the file at the link\n",
        "\n",
        "with gzip.open(response, 'rb') as f:\n",
        "  #We want to get 1,000 reviews to start\n",
        "  for i in range(5000):\n",
        "    line = f.readline()\n",
        "    load_review(line, review_list=review_list)\n",
        "\n",
        "#Time to load data: 1s"
      ]
    },
    {
      "cell_type": "code",
      "execution_count": null,
      "metadata": {
        "id": "qwFYozlaWRa8"
      },
      "outputs": [],
      "source": [
        "reviews = pd.DataFrame(review_list)"
      ]
    },
    {
      "cell_type": "code",
      "execution_count": null,
      "metadata": {
        "colab": {
          "base_uri": "https://localhost:8080/",
          "height": 238
        },
        "id": "J-MlEaNkWUc4",
        "outputId": "4ad6951c-cffc-4315-e357-57da4ee77449"
      },
      "outputs": [
        {
          "data": {
            "application/vnd.google.colaboratory.intrinsic+json": {
              "repr_error": "'str' object has no attribute 'empty'",
              "type": "dataframe",
              "variable_name": "reviews"
            },
            "text/html": [
              "\n",
              "  <div id=\"df-e5a5523c-083b-42ef-9c84-657ff61b8a6f\" class=\"colab-df-container\">\n",
              "    <div>\n",
              "<style scoped>\n",
              "    .dataframe tbody tr th:only-of-type {\n",
              "        vertical-align: middle;\n",
              "    }\n",
              "\n",
              "    .dataframe tbody tr th {\n",
              "        vertical-align: top;\n",
              "    }\n",
              "\n",
              "    .dataframe thead th {\n",
              "        text-align: right;\n",
              "    }\n",
              "</style>\n",
              "<table border=\"1\" class=\"dataframe\">\n",
              "  <thead>\n",
              "    <tr style=\"text-align: right;\">\n",
              "      <th></th>\n",
              "      <th>rating</th>\n",
              "      <th>reviewText</th>\n",
              "      <th>categories</th>\n",
              "      <th>gPlusPlaceId</th>\n",
              "      <th>unixReviewTime</th>\n",
              "      <th>reviewTime</th>\n",
              "    </tr>\n",
              "  </thead>\n",
              "  <tbody>\n",
              "    <tr>\n",
              "      <th>0</th>\n",
              "      <td>3.0</td>\n",
              "      <td>Chất lượng tạm ổn</td>\n",
              "      <td>[Giải Trí - Café]</td>\n",
              "      <td>108103314380004200232</td>\n",
              "      <td>1.372687e+09</td>\n",
              "      <td>Jul 1, 2013</td>\n",
              "    </tr>\n",
              "    <tr>\n",
              "      <th>1</th>\n",
              "      <td>5.0</td>\n",
              "      <td>Wc si temiz duzenli..</td>\n",
              "      <td>[Turkish Cuisine]</td>\n",
              "      <td>102194128241608748649</td>\n",
              "      <td>1.342871e+09</td>\n",
              "      <td>Jul 21, 2012</td>\n",
              "    </tr>\n",
              "    <tr>\n",
              "      <th>2</th>\n",
              "      <td>5.0</td>\n",
              "      <td>何回も私は予定に休みがセルバに行ったので覚えて見て、分かります❗</td>\n",
              "      <td>[Fishing, Pond Fish Supplier, Seafood Market]</td>\n",
              "      <td>101409858828175402384</td>\n",
              "      <td>1.390654e+09</td>\n",
              "      <td>Jan 25, 2014</td>\n",
              "    </tr>\n",
              "    <tr>\n",
              "      <th>3</th>\n",
              "      <td>5.0</td>\n",
              "      <td>今度は予定に休みが登米市に行きたい❗☀😅🌌 楽しいに日帰りに登米の見学の観光(*^)(*^-...</td>\n",
              "      <td>[Museum]</td>\n",
              "      <td>101477177500158511502</td>\n",
              "      <td>1.389188e+09</td>\n",
              "      <td>Jan 8, 2014</td>\n",
              "    </tr>\n",
              "    <tr>\n",
              "      <th>4</th>\n",
              "      <td>4.0</td>\n",
              "      <td>気仙沼警察署に移転中に絆 👮🐎☺🙋🚓頑張ろう❗</td>\n",
              "      <td>[Police]</td>\n",
              "      <td>106994170641063333085</td>\n",
              "      <td>1.390486e+09</td>\n",
              "      <td>Jan 23, 2014</td>\n",
              "    </tr>\n",
              "  </tbody>\n",
              "</table>\n",
              "</div>\n",
              "    <div class=\"colab-df-buttons\">\n",
              "\n",
              "  <div class=\"colab-df-container\">\n",
              "    <button class=\"colab-df-convert\" onclick=\"convertToInteractive('df-e5a5523c-083b-42ef-9c84-657ff61b8a6f')\"\n",
              "            title=\"Convert this dataframe to an interactive table.\"\n",
              "            style=\"display:none;\">\n",
              "\n",
              "  <svg xmlns=\"http://www.w3.org/2000/svg\" height=\"24px\" viewBox=\"0 -960 960 960\">\n",
              "    <path d=\"M120-120v-720h720v720H120Zm60-500h600v-160H180v160Zm220 220h160v-160H400v160Zm0 220h160v-160H400v160ZM180-400h160v-160H180v160Zm440 0h160v-160H620v160ZM180-180h160v-160H180v160Zm440 0h160v-160H620v160Z\"/>\n",
              "  </svg>\n",
              "    </button>\n",
              "\n",
              "  <style>\n",
              "    .colab-df-container {\n",
              "      display:flex;\n",
              "      gap: 12px;\n",
              "    }\n",
              "\n",
              "    .colab-df-convert {\n",
              "      background-color: #E8F0FE;\n",
              "      border: none;\n",
              "      border-radius: 50%;\n",
              "      cursor: pointer;\n",
              "      display: none;\n",
              "      fill: #1967D2;\n",
              "      height: 32px;\n",
              "      padding: 0 0 0 0;\n",
              "      width: 32px;\n",
              "    }\n",
              "\n",
              "    .colab-df-convert:hover {\n",
              "      background-color: #E2EBFA;\n",
              "      box-shadow: 0px 1px 2px rgba(60, 64, 67, 0.3), 0px 1px 3px 1px rgba(60, 64, 67, 0.15);\n",
              "      fill: #174EA6;\n",
              "    }\n",
              "\n",
              "    .colab-df-buttons div {\n",
              "      margin-bottom: 4px;\n",
              "    }\n",
              "\n",
              "    [theme=dark] .colab-df-convert {\n",
              "      background-color: #3B4455;\n",
              "      fill: #D2E3FC;\n",
              "    }\n",
              "\n",
              "    [theme=dark] .colab-df-convert:hover {\n",
              "      background-color: #434B5C;\n",
              "      box-shadow: 0px 1px 3px 1px rgba(0, 0, 0, 0.15);\n",
              "      filter: drop-shadow(0px 1px 2px rgba(0, 0, 0, 0.3));\n",
              "      fill: #FFFFFF;\n",
              "    }\n",
              "  </style>\n",
              "\n",
              "    <script>\n",
              "      const buttonEl =\n",
              "        document.querySelector('#df-e5a5523c-083b-42ef-9c84-657ff61b8a6f button.colab-df-convert');\n",
              "      buttonEl.style.display =\n",
              "        google.colab.kernel.accessAllowed ? 'block' : 'none';\n",
              "\n",
              "      async function convertToInteractive(key) {\n",
              "        const element = document.querySelector('#df-e5a5523c-083b-42ef-9c84-657ff61b8a6f');\n",
              "        const dataTable =\n",
              "          await google.colab.kernel.invokeFunction('convertToInteractive',\n",
              "                                                    [key], {});\n",
              "        if (!dataTable) return;\n",
              "\n",
              "        const docLinkHtml = 'Like what you see? Visit the ' +\n",
              "          '<a target=\"_blank\" href=https://colab.research.google.com/notebooks/data_table.ipynb>data table notebook</a>'\n",
              "          + ' to learn more about interactive tables.';\n",
              "        element.innerHTML = '';\n",
              "        dataTable['output_type'] = 'display_data';\n",
              "        await google.colab.output.renderOutput(dataTable, element);\n",
              "        const docLink = document.createElement('div');\n",
              "        docLink.innerHTML = docLinkHtml;\n",
              "        element.appendChild(docLink);\n",
              "      }\n",
              "    </script>\n",
              "  </div>\n",
              "\n",
              "\n",
              "<div id=\"df-45ced0f6-d469-45bd-aa2e-030d9d7670df\">\n",
              "  <button class=\"colab-df-quickchart\" onclick=\"quickchart('df-45ced0f6-d469-45bd-aa2e-030d9d7670df')\"\n",
              "            title=\"Suggest charts\"\n",
              "            style=\"display:none;\">\n",
              "\n",
              "<svg xmlns=\"http://www.w3.org/2000/svg\" height=\"24px\"viewBox=\"0 0 24 24\"\n",
              "     width=\"24px\">\n",
              "    <g>\n",
              "        <path d=\"M19 3H5c-1.1 0-2 .9-2 2v14c0 1.1.9 2 2 2h14c1.1 0 2-.9 2-2V5c0-1.1-.9-2-2-2zM9 17H7v-7h2v7zm4 0h-2V7h2v10zm4 0h-2v-4h2v4z\"/>\n",
              "    </g>\n",
              "</svg>\n",
              "  </button>\n",
              "\n",
              "<style>\n",
              "  .colab-df-quickchart {\n",
              "      --bg-color: #E8F0FE;\n",
              "      --fill-color: #1967D2;\n",
              "      --hover-bg-color: #E2EBFA;\n",
              "      --hover-fill-color: #174EA6;\n",
              "      --disabled-fill-color: #AAA;\n",
              "      --disabled-bg-color: #DDD;\n",
              "  }\n",
              "\n",
              "  [theme=dark] .colab-df-quickchart {\n",
              "      --bg-color: #3B4455;\n",
              "      --fill-color: #D2E3FC;\n",
              "      --hover-bg-color: #434B5C;\n",
              "      --hover-fill-color: #FFFFFF;\n",
              "      --disabled-bg-color: #3B4455;\n",
              "      --disabled-fill-color: #666;\n",
              "  }\n",
              "\n",
              "  .colab-df-quickchart {\n",
              "    background-color: var(--bg-color);\n",
              "    border: none;\n",
              "    border-radius: 50%;\n",
              "    cursor: pointer;\n",
              "    display: none;\n",
              "    fill: var(--fill-color);\n",
              "    height: 32px;\n",
              "    padding: 0;\n",
              "    width: 32px;\n",
              "  }\n",
              "\n",
              "  .colab-df-quickchart:hover {\n",
              "    background-color: var(--hover-bg-color);\n",
              "    box-shadow: 0 1px 2px rgba(60, 64, 67, 0.3), 0 1px 3px 1px rgba(60, 64, 67, 0.15);\n",
              "    fill: var(--button-hover-fill-color);\n",
              "  }\n",
              "\n",
              "  .colab-df-quickchart-complete:disabled,\n",
              "  .colab-df-quickchart-complete:disabled:hover {\n",
              "    background-color: var(--disabled-bg-color);\n",
              "    fill: var(--disabled-fill-color);\n",
              "    box-shadow: none;\n",
              "  }\n",
              "\n",
              "  .colab-df-spinner {\n",
              "    border: 2px solid var(--fill-color);\n",
              "    border-color: transparent;\n",
              "    border-bottom-color: var(--fill-color);\n",
              "    animation:\n",
              "      spin 1s steps(1) infinite;\n",
              "  }\n",
              "\n",
              "  @keyframes spin {\n",
              "    0% {\n",
              "      border-color: transparent;\n",
              "      border-bottom-color: var(--fill-color);\n",
              "      border-left-color: var(--fill-color);\n",
              "    }\n",
              "    20% {\n",
              "      border-color: transparent;\n",
              "      border-left-color: var(--fill-color);\n",
              "      border-top-color: var(--fill-color);\n",
              "    }\n",
              "    30% {\n",
              "      border-color: transparent;\n",
              "      border-left-color: var(--fill-color);\n",
              "      border-top-color: var(--fill-color);\n",
              "      border-right-color: var(--fill-color);\n",
              "    }\n",
              "    40% {\n",
              "      border-color: transparent;\n",
              "      border-right-color: var(--fill-color);\n",
              "      border-top-color: var(--fill-color);\n",
              "    }\n",
              "    60% {\n",
              "      border-color: transparent;\n",
              "      border-right-color: var(--fill-color);\n",
              "    }\n",
              "    80% {\n",
              "      border-color: transparent;\n",
              "      border-right-color: var(--fill-color);\n",
              "      border-bottom-color: var(--fill-color);\n",
              "    }\n",
              "    90% {\n",
              "      border-color: transparent;\n",
              "      border-bottom-color: var(--fill-color);\n",
              "    }\n",
              "  }\n",
              "</style>\n",
              "\n",
              "  <script>\n",
              "    async function quickchart(key) {\n",
              "      const quickchartButtonEl =\n",
              "        document.querySelector('#' + key + ' button');\n",
              "      quickchartButtonEl.disabled = true;  // To prevent multiple clicks.\n",
              "      quickchartButtonEl.classList.add('colab-df-spinner');\n",
              "      try {\n",
              "        const charts = await google.colab.kernel.invokeFunction(\n",
              "            'suggestCharts', [key], {});\n",
              "      } catch (error) {\n",
              "        console.error('Error during call to suggestCharts:', error);\n",
              "      }\n",
              "      quickchartButtonEl.classList.remove('colab-df-spinner');\n",
              "      quickchartButtonEl.classList.add('colab-df-quickchart-complete');\n",
              "    }\n",
              "    (() => {\n",
              "      let quickchartButtonEl =\n",
              "        document.querySelector('#df-45ced0f6-d469-45bd-aa2e-030d9d7670df button');\n",
              "      quickchartButtonEl.style.display =\n",
              "        google.colab.kernel.accessAllowed ? 'block' : 'none';\n",
              "    })();\n",
              "  </script>\n",
              "</div>\n",
              "    </div>\n",
              "  </div>\n"
            ],
            "text/plain": [
              "   rating                                         reviewText  \\\n",
              "0     3.0                                  Chất lượng tạm ổn   \n",
              "1     5.0                              Wc si temiz duzenli..   \n",
              "2     5.0                   何回も私は予定に休みがセルバに行ったので覚えて見て、分かります❗   \n",
              "3     5.0  今度は予定に休みが登米市に行きたい❗☀😅🌌 楽しいに日帰りに登米の見学の観光(*^)(*^-...   \n",
              "4     4.0                            気仙沼警察署に移転中に絆 👮🐎☺🙋🚓頑張ろう❗   \n",
              "\n",
              "                                      categories           gPlusPlaceId  \\\n",
              "0                              [Giải Trí - Café]  108103314380004200232   \n",
              "1                              [Turkish Cuisine]  102194128241608748649   \n",
              "2  [Fishing, Pond Fish Supplier, Seafood Market]  101409858828175402384   \n",
              "3                                       [Museum]  101477177500158511502   \n",
              "4                                       [Police]  106994170641063333085   \n",
              "\n",
              "   unixReviewTime    reviewTime  \n",
              "0    1.372687e+09   Jul 1, 2013  \n",
              "1    1.342871e+09  Jul 21, 2012  \n",
              "2    1.390654e+09  Jan 25, 2014  \n",
              "3    1.389188e+09   Jan 8, 2014  \n",
              "4    1.390486e+09  Jan 23, 2014  "
            ]
          },
          "execution_count": 26,
          "metadata": {},
          "output_type": "execute_result"
        }
      ],
      "source": [
        "reviews.head()"
      ]
    },
    {
      "cell_type": "markdown",
      "metadata": {
        "id": "uTzw0Yn-da8V"
      },
      "source": [
        "Clean categories and pick the most important one"
      ]
    },
    {
      "cell_type": "code",
      "execution_count": null,
      "metadata": {
        "id": "UDOnObM7dhtC"
      },
      "outputs": [],
      "source": [
        "#Clean categories/translate them\n",
        "def trans(cats):\n",
        "  translator=Translator()\n",
        "  if cats is not None:\n",
        "    return translator.translate(cats[0]).text\n",
        "  else:\n",
        "    return None"
      ]
    },
    {
      "cell_type": "code",
      "execution_count": null,
      "metadata": {
        "id": "jEP2NZNIdlkn"
      },
      "outputs": [],
      "source": [
        "#Apply translation to the first word in the categories column\n",
        "reviews['top_category'] = reviews['categories'].apply(trans)\n",
        "#Runtime: 8 minutes"
      ]
    },
    {
      "cell_type": "markdown",
      "metadata": {
        "id": "T26pxflvdrls"
      },
      "source": [
        "Pick which categories are 'relevant'"
      ]
    },
    {
      "cell_type": "code",
      "execution_count": null,
      "metadata": {
        "id": "m02nkUGyduhp"
      },
      "outputs": [],
      "source": [
        "def similar(category, threshold=0.5):\n",
        "  sims = []\n",
        "  if category is None:\n",
        "    return False\n",
        "\n",
        "  for word in category.split():\n",
        "    if word in wv:\n",
        "      sims.append(wv.similarity(word, 'restaurant'))\n",
        "    else:\n",
        "      sims.append(0)\n",
        "\n",
        "  return max(sims) > threshold"
      ]
    },
    {
      "cell_type": "code",
      "execution_count": null,
      "metadata": {
        "id": "scVFl-5gdz-U"
      },
      "outputs": [],
      "source": [
        "#Apply threshhold to reviews\n",
        "relevant_category = reviews['top_category'].apply(similar)\n",
        "reviews['relevant_cat'] = relevant_category"
      ]
    },
    {
      "cell_type": "code",
      "execution_count": null,
      "metadata": {
        "id": "yvKEL3jAjnc1"
      },
      "outputs": [],
      "source": [
        "#Drop non-relevant places/review tags\n",
        "indexRel = reviews[reviews.relevant_cat == False].index\n",
        "reviews.drop(indexRel, inplace=True)"
      ]
    },
    {
      "cell_type": "code",
      "execution_count": null,
      "metadata": {
        "id": "UFK5_2MAjySP"
      },
      "outputs": [],
      "source": []
    },
    {
      "cell_type": "markdown",
      "metadata": {
        "id": "_zCg6S1iVz4D"
      },
      "source": [
        "Translate reviews:"
      ]
    },
    {
      "cell_type": "code",
      "execution_count": null,
      "metadata": {
        "id": "95NJTmrMWBBK"
      },
      "outputs": [],
      "source": [
        "#Check language function\n",
        "def check(word):\n",
        "  translator=Translator()\n",
        "  result = translator.translate(word)\n",
        "  return [result.src, result.text]"
      ]
    },
    {
      "cell_type": "code",
      "execution_count": null,
      "metadata": {
        "id": "jPM4FVNDWEEA"
      },
      "outputs": [],
      "source": [
        "reviewLang = reviews.reviewText.apply(check)\n",
        "#This took 3m 45s to run for 1943 samples (pre-filtered by category)\n",
        "#This took 9m 15s to run for 5000 samples\n",
        "#This took 19m 33s to run for 10,000 samples"
      ]
    },
    {
      "cell_type": "code",
      "execution_count": null,
      "metadata": {
        "id": "4Y320OVaZmym"
      },
      "outputs": [],
      "source": [
        "translated = pd.DataFrame(reviewLang)\n",
        "translated = pd.DataFrame(translated['reviewText'].to_list(), columns = ['language', 'translated']) #Split our [src, text] into two columns\n",
        "#translated.head()"
      ]
    },
    {
      "cell_type": "code",
      "execution_count": null,
      "metadata": {
        "id": "I_o1DDLqcMZj"
      },
      "outputs": [],
      "source": [
        "#Added columns to our main dataframe\n",
        "reviews['language'] = translated['language']\n",
        "reviews['translated'] = translated['translated']"
      ]
    },
    {
      "cell_type": "code",
      "execution_count": null,
      "metadata": {
        "id": "h4k9l0WZcPnr"
      },
      "outputs": [],
      "source": [
        "#Drop the un-translated column\n",
        "reviews.drop('reviewText', axis=1, inplace=True)"
      ]
    },
    {
      "cell_type": "markdown",
      "metadata": {
        "id": "2gKz0BLPclmg"
      },
      "source": [
        "### Use TF-IDF score to find most unique \"defining\" words of restaurant vibe"
      ]
    },
    {
      "cell_type": "code",
      "execution_count": null,
      "metadata": {
        "id": "jr84kJqRcbEt"
      },
      "outputs": [],
      "source": [
        "#Let's find the most unique/defining word in the group using TF-IDF:\n",
        "\n",
        "cats_comp = list(reviews.top_category) #Train on the top_category for every relevant input\n",
        "\n",
        "vectorizer = TfidfVectorizer()\n",
        "X = vectorizer.fit_transform(cats_comp)\n",
        "\n",
        "tfidf_dict = dict(zip(vectorizer.get_feature_names_out(), X.toarray().sum(axis=0)))\n",
        "\n",
        "#tfidf_dict"
      ]
    },
    {
      "cell_type": "code",
      "execution_count": null,
      "metadata": {
        "id": "5-y6MckXr2VF"
      },
      "outputs": [],
      "source": [
        "def def_cat(category):\n",
        "  words = {}\n",
        "\n",
        "  category = category.lower().replace(\"restaurant\", \"\") #Had to edit filtering requirements because too many restaurants were just categorized as \"restaurant\"\n",
        "\n",
        "  if category is None:\n",
        "    return None\n",
        "\n",
        "  for word in category.split():\n",
        "    if word in tfidf_dict:\n",
        "      words[word] = tfidf_dict[word]\n",
        "\n",
        "  if len(words) > 0:\n",
        "    sorted_words = dict(sorted(words.items(), key=lambda item: item[1]))\n",
        "    return list(sorted_words.keys())[-1]\n",
        "  else:\n",
        "    return \"restaurant\" #if the only category word is \"restaurant\" we need a catchall"
      ]
    },
    {
      "cell_type": "code",
      "execution_count": null,
      "metadata": {
        "id": "H3LrcqEatQa7"
      },
      "outputs": [],
      "source": [
        "#Get the defining category\n",
        "kw = reviews.top_category.apply(def_cat)"
      ]
    },
    {
      "cell_type": "code",
      "execution_count": null,
      "metadata": {
        "id": "D1ItvDLIr5-4"
      },
      "outputs": [],
      "source": [
        "# Compute similarity scores between words\n",
        "similarity_matrix = []\n",
        "for word1 in list(kw): #For each word in kw\n",
        "  similarity_scores = []\n",
        "  for word2 in list(kw): #Compare to the other words in kw (kw = keyword in category)\n",
        "    if word2 in wv and word1 in wv:\n",
        "      similarity_scores.append(wv.similarity(word1, word2)) #Return the similarity score if kw is in wv training library\n",
        "    else:\n",
        "      similarity_scores.append(0) #Return a similarity of 0 if can't find it\n",
        "  similarity_matrix.append(similarity_scores)\n",
        "\n",
        "#Runtime should be about 1m"
      ]
    },
    {
      "cell_type": "code",
      "execution_count": null,
      "metadata": {
        "colab": {
          "base_uri": "https://localhost:8080/"
        },
        "id": "6COHHOjFr8QF",
        "outputId": "c4d40a03-646f-423e-cf31-46bf9fd25c0e"
      },
      "outputs": [
        {
          "name": "stderr",
          "output_type": "stream",
          "text": [
            "/usr/local/lib/python3.10/dist-packages/sklearn/cluster/_kmeans.py:870: FutureWarning: The default value of `n_init` will change from 10 to 'auto' in 1.4. Set the value of `n_init` explicitly to suppress the warning\n",
            "  warnings.warn(\n"
          ]
        }
      ],
      "source": [
        "# Perform K-means clustering\n",
        "num_clusters = 5  # I want 5 clusters for now\n",
        "kmeans = KMeans(n_clusters=num_clusters)\n",
        "kmeans.fit(similarity_matrix)\n",
        "cluster_labels = kmeans.labels_\n",
        "\n",
        "#Runtime: 5s"
      ]
    },
    {
      "cell_type": "code",
      "execution_count": null,
      "metadata": {
        "id": "V_X0pr4gsAPW"
      },
      "outputs": [],
      "source": [
        "#Assign each keyword in kw to a cluster\n",
        "word_clusters = {}\n",
        "cat_list = []\n",
        "for i, word in enumerate(list(kw)):\n",
        "  cluster_id = cluster_labels[i] #Get the cluster id = what kmeans grouped as in prev cell\n",
        "  cat_list.append(cluster_id)\n",
        "  if cluster_id not in word_clusters: #If this is a new cluster #, create a list to start storing keywords\n",
        "      word_clusters[cluster_id] = []\n",
        "  word_clusters[cluster_id].append(word) #Add the keyword to word_clusters[number]"
      ]
    },
    {
      "cell_type": "code",
      "execution_count": null,
      "metadata": {
        "id": "KB-5Ei64sA0h"
      },
      "outputs": [],
      "source": [
        "reviews['cat_cluster'] = pd.Series(cat_list)"
      ]
    },
    {
      "cell_type": "markdown",
      "metadata": {
        "id": "XD47UTeCu4G9"
      },
      "source": [
        "### Sentiment Analysis"
      ]
    },
    {
      "cell_type": "code",
      "execution_count": null,
      "metadata": {
        "id": "E5tztX0NuxFB"
      },
      "outputs": [],
      "source": [
        "analyzer = SentimentIntensityAnalyzer()\n",
        "\n",
        "def sentiment_analysis_and_charged_words(review):\n",
        "  if type(review) == str and review is not None:\n",
        "    sentiment = analyzer.polarity_scores(review)\n",
        "    charged_words = [word for word in review.split() if analyzer.polarity_scores(word)['compound'] != 0]\n",
        "    return sentiment, charged_words\n",
        "  else:\n",
        "    return None, None\n",
        "\n",
        "def sentiment_analysis_and_charged_words_2(reviews):\n",
        "    rating_scores = []\n",
        "    all_words = set()\n",
        "    charged_words = []\n",
        "    price_related_keywords = [\n",
        "        'price', 'cost', 'costly', 'expensive', 'cheap', 'cheapest', 'value', 'best-value', 'money', \"money's\",\n",
        "        'worth', 'pricing', 'affordable', 'budget', 'economical', 'budget-friendly',\n",
        "        'pricey', 'pricy', 'economic', 'bargain', 'deal', 'discount', 'charge', 'fee', 'expense',\n",
        "        'worth-it', 'sale', 'sales', 'purchase', 'transaction', 'deals',\n",
        "        'payment', 'payments', 'costly', 'inexpensive', 'cost-effective', 'effective',\n",
        "        'overpriced', 'underpriced', 'overprice', 'underprice', 'overprices', 'underprices', 'cheaper', 'cheapest', 'pricier', 'priciest',\n",
        "        'refund', 'income', 'revenue', 'premium', 'garbage', 'inexpensive', 'extravagant', 'boujee', 'rip-off'\n",
        "        \"an arm and a leg\", \"break the bank\", \"dent in your wallet\", \"dent in the wallet\", \"arm and leg\",\n",
        "         \"expensive proposition\", \"big bucks\", \"high price\", \"high cost\", \"high-price\", \"high-cost\",\n",
        "        \"top dollar\", \"top-dollar\", \"cost a pretty penny\", \"pretty penny\", \"cost a fortune\"\n",
        "    ]\n",
        "    if reviews is not None and type(reviews) == str:\n",
        "      review = reviews.lower()\n",
        "      for word in price_related_keywords:\n",
        "        if word in review.split():\n",
        "          charged_words.append(word)\n",
        "\n",
        "    return list(set(charged_words))\n",
        "\n",
        "\n",
        "reviews['sentiment'], reviews['charged_words'] = zip(*reviews['translated'].apply(lambda x: sentiment_analysis_and_charged_words(x)))\n",
        "reviews['price_words'] = reviews['translated'].apply(sentiment_analysis_and_charged_words_2)"
      ]
    },
    {
      "cell_type": "markdown",
      "metadata": {
        "id": "SlsZeH7zxvN9"
      },
      "source": [
        "## Merge tables together"
      ]
    },
    {
      "cell_type": "code",
      "execution_count": null,
      "metadata": {
        "id": "ZWaTo6pIxw2m"
      },
      "outputs": [],
      "source": [
        "#Left join since we want only restaurants associated with the reviews\n",
        "df = places.merge(reviews, how='inner', on='gPlusPlaceId')\n",
        "\n",
        "#Time to merge: 0s"
      ]
    },
    {
      "cell_type": "markdown",
      "metadata": {
        "id": "P8s8cH5EyEXC"
      },
      "source": [
        "## Cleanup/Standardization"
      ]
    },
    {
      "cell_type": "code",
      "execution_count": null,
      "metadata": {
        "id": "6UFg9pwYyGEW"
      },
      "outputs": [],
      "source": [
        "df['reviewTime'] = pd.to_datetime(df['reviewTime'])\n",
        "df['unixReviewTime'] = pd.to_datetime(df['unixReviewTime'], unit='s')"
      ]
    },
    {
      "cell_type": "code",
      "execution_count": null,
      "metadata": {
        "colab": {
          "base_uri": "https://localhost:8080/"
        },
        "id": "3IDgtulz32ux",
        "outputId": "349987f4-ffdd-4c2d-e27c-78895df2e5f2"
      },
      "outputs": [
        {
          "data": {
            "text/plain": [
              "Index(['rating', 'categories', 'gPlusPlaceId', 'unixReviewTime', 'reviewTime',\n",
              "       'top_category', 'relevant_cat', 'language', 'translated', 'cat_cluster',\n",
              "       'sentiment', 'charged_words', 'price_words'],\n",
              "      dtype='object')"
            ]
          },
          "execution_count": 55,
          "metadata": {},
          "output_type": "execute_result"
        }
      ],
      "source": [
        "reviews.columns"
      ]
    },
    {
      "cell_type": "code",
      "execution_count": null,
      "metadata": {
        "id": "0OA5UoSqyn7z"
      },
      "outputs": [],
      "source": [
        "#make all review text data an empty string\n",
        "#take care of this case in data analysis\n",
        "df['translated'].fillna('', inplace=True)"
      ]
    },
    {
      "cell_type": "code",
      "execution_count": null,
      "metadata": {
        "colab": {
          "base_uri": "https://localhost:8080/"
        },
        "id": "Gs38jNkTLnqC",
        "outputId": "4489f8a3-5519-4806-8e99-3d3b5eb1dee9"
      },
      "outputs": [
        {
          "data": {
            "text/plain": [
              "Index(['name', 'address', 'closed', 'gPlusPlaceId', 'gps', 'Class_$',\n",
              "       'Class_$$', 'Class_$$$', 'Class_$$$$', 'location_cluster', 'rating',\n",
              "       'categories', 'unixReviewTime', 'reviewTime', 'top_category',\n",
              "       'relevant_cat', 'language', 'translated', 'cat_cluster', 'sentiment',\n",
              "       'charged_words', 'price_words'],\n",
              "      dtype='object')"
            ]
          },
          "execution_count": 57,
          "metadata": {},
          "output_type": "execute_result"
        }
      ],
      "source": [
        "df.columns"
      ]
    },
    {
      "cell_type": "code",
      "execution_count": null,
      "metadata": {
        "id": "_fLfB73eLg4r"
      },
      "outputs": [],
      "source": [
        "#fill out this information with unknowns\n",
        "#assume closed is false --> significant amount of data shows that closed is usually false\n",
        "#can use essentially the mode in this case\n",
        "df['name'].fillna('Unknown', inplace=True)\n",
        "df['address'].fillna('Unknown', inplace=True)\n",
        "df['closed'].fillna(False, inplace=True)\n",
        "df['gps'].fillna('Unknown', inplace=True)"
      ]
    },
    {
      "cell_type": "code",
      "execution_count": null,
      "metadata": {
        "id": "DYE4FlEWL00V"
      },
      "outputs": [],
      "source": [
        "df['reviewTime'] = pd.to_datetime(df['reviewTime'])\n",
        "df['unixReviewTime'] = pd.to_datetime(df['unixReviewTime'])"
      ]
    },
    {
      "cell_type": "code",
      "execution_count": null,
      "metadata": {
        "id": "wcG2fPjjLiXI"
      },
      "outputs": [],
      "source": [
        "#imputing missing values for time using the mean\n",
        "#may not be most effective method\n",
        "#making an assumption that a majority of these reviews were made at the same time which could skew data when training\n",
        "df['unixReviewTime'].fillna(df['unixReviewTime'].mean(), inplace=True)\n",
        "df['reviewTime'].fillna(df['reviewTime'].mean(), inplace=True)"
      ]
    },
    {
      "cell_type": "code",
      "execution_count": null,
      "metadata": {
        "id": "AClHI7K5MJjo"
      },
      "outputs": [],
      "source": [
        "#Get the negative sentiment value\n",
        "df['sentiment'] = df['sentiment'].apply(lambda x: None if (type(x) is not str) else int(float(x[8:11])))"
      ]
    },
    {
      "cell_type": "code",
      "execution_count": null,
      "metadata": {
        "id": "z5Q76jFkMqQP"
      },
      "outputs": [],
      "source": [
        "language_ohe = pd.get_dummies(df['language'], prefix='Class') #places = pd.get_dummies(places, columns=['price'], prefix='Class')\n",
        "df = df.join(language_ohe)\n",
        "df.drop(['sentiment', 'language'], axis=1, inplace=True)"
      ]
    },
    {
      "cell_type": "markdown",
      "metadata": {
        "id": "XQNVrOVLywDk"
      },
      "source": [
        "## Save to CSV"
      ]
    },
    {
      "cell_type": "code",
      "execution_count": null,
      "metadata": {
        "id": "wIT3W_IWyMjg"
      },
      "outputs": [],
      "source": [
        "df.to_csv('proc.csv')"
      ]
    },
    {
      "cell_type": "markdown",
      "metadata": {
        "id": "UWy8zo2F_rvQ"
      },
      "source": [
        "# Creating the Model"
      ]
    },
    {
      "cell_type": "markdown",
      "metadata": {
        "id": "4C6mJu-2BKjv"
      },
      "source": [
        "### Loading the data"
      ]
    },
    {
      "cell_type": "code",
      "execution_count": null,
      "metadata": {
        "id": "AKvO-rjYBKPb"
      },
      "outputs": [],
      "source": [
        "df = pd.read_csv('proc.csv', index_col=0)\n",
        "df = df[df.columns.drop(list(df.filter(regex='Unnamed')))] #Copied off stackoverflow here: https://stackoverflow.com/questions/19071199/drop-columns-whose-name-contains-a-specific-string-from-pandas-dataframe"
      ]
    },
    {
      "cell_type": "code",
      "execution_count": null,
      "metadata": {
        "id": "F4x4ix99TcZH"
      },
      "outputs": [],
      "source": [
        "df['cat_cluster'] = df['cat_cluster'].fillna(0) #Fill NAs with 0s (should be in above section but i forgot :/)\n",
        "df['location_cluster'] = df['location_cluster'].fillna(0)"
      ]
    },
    {
      "cell_type": "code",
      "execution_count": null,
      "metadata": {
        "id": "SUQfxdBlOOv8"
      },
      "outputs": [],
      "source": [
        "str_cols = ['name', 'address', 'gps', 'top_category', 'relevant_cat', 'translated', 'charged_words', 'price_words', 'categories', 'unixReviewTime', 'reviewTime']\n",
        "df_num = df[df.columns.drop(str_cols)]"
      ]
    },
    {
      "cell_type": "code",
      "execution_count": null,
      "metadata": {
        "colab": {
          "base_uri": "https://localhost:8080/",
          "height": 444
        },
        "id": "N5Bnzelr4pNA",
        "outputId": "66aebcd0-f867-4991-ded6-9d81d24061fe"
      },
      "outputs": [
        {
          "data": {
            "application/vnd.google.colaboratory.intrinsic+json": {
              "type": "dataframe",
              "variable_name": "df_num"
            },
            "text/html": [
              "\n",
              "  <div id=\"df-07598f51-7876-4500-9611-d7fd7ce59f20\" class=\"colab-df-container\">\n",
              "    <div>\n",
              "<style scoped>\n",
              "    .dataframe tbody tr th:only-of-type {\n",
              "        vertical-align: middle;\n",
              "    }\n",
              "\n",
              "    .dataframe tbody tr th {\n",
              "        vertical-align: top;\n",
              "    }\n",
              "\n",
              "    .dataframe thead th {\n",
              "        text-align: right;\n",
              "    }\n",
              "</style>\n",
              "<table border=\"1\" class=\"dataframe\">\n",
              "  <thead>\n",
              "    <tr style=\"text-align: right;\">\n",
              "      <th></th>\n",
              "      <th>closed</th>\n",
              "      <th>gPlusPlaceId</th>\n",
              "      <th>location_cluster</th>\n",
              "      <th>rating</th>\n",
              "      <th>cat_cluster</th>\n",
              "      <th>sentiment</th>\n",
              "      <th>Class_ca</th>\n",
              "      <th>Class_da</th>\n",
              "      <th>Class_de</th>\n",
              "      <th>Class_en</th>\n",
              "      <th>...</th>\n",
              "      <th>Class_fr</th>\n",
              "      <th>Class_hi</th>\n",
              "      <th>Class_it</th>\n",
              "      <th>Class_ms</th>\n",
              "      <th>Class_nl</th>\n",
              "      <th>Class_pt</th>\n",
              "      <th>Class_tr</th>\n",
              "      <th>Class_$$</th>\n",
              "      <th>Class_$$$</th>\n",
              "      <th>Class_$$$$</th>\n",
              "    </tr>\n",
              "  </thead>\n",
              "  <tbody>\n",
              "    <tr>\n",
              "      <th>0</th>\n",
              "      <td>False</td>\n",
              "      <td>115757957627721988675</td>\n",
              "      <td>0.0</td>\n",
              "      <td>5.0</td>\n",
              "      <td>4.0</td>\n",
              "      <td>None</td>\n",
              "      <td>0</td>\n",
              "      <td>0</td>\n",
              "      <td>0</td>\n",
              "      <td>1</td>\n",
              "      <td>...</td>\n",
              "      <td>0</td>\n",
              "      <td>0</td>\n",
              "      <td>0</td>\n",
              "      <td>0</td>\n",
              "      <td>0</td>\n",
              "      <td>0</td>\n",
              "      <td>0</td>\n",
              "      <td>1</td>\n",
              "      <td>0</td>\n",
              "      <td>0</td>\n",
              "    </tr>\n",
              "    <tr>\n",
              "      <th>1</th>\n",
              "      <td>False</td>\n",
              "      <td>116555416797255000560</td>\n",
              "      <td>0.0</td>\n",
              "      <td>4.0</td>\n",
              "      <td>0.0</td>\n",
              "      <td>None</td>\n",
              "      <td>0</td>\n",
              "      <td>0</td>\n",
              "      <td>0</td>\n",
              "      <td>0</td>\n",
              "      <td>...</td>\n",
              "      <td>0</td>\n",
              "      <td>0</td>\n",
              "      <td>0</td>\n",
              "      <td>0</td>\n",
              "      <td>0</td>\n",
              "      <td>0</td>\n",
              "      <td>0</td>\n",
              "      <td>1</td>\n",
              "      <td>0</td>\n",
              "      <td>0</td>\n",
              "    </tr>\n",
              "    <tr>\n",
              "      <th>2</th>\n",
              "      <td>True</td>\n",
              "      <td>114781865961627441828</td>\n",
              "      <td>0.0</td>\n",
              "      <td>5.0</td>\n",
              "      <td>0.0</td>\n",
              "      <td>None</td>\n",
              "      <td>0</td>\n",
              "      <td>0</td>\n",
              "      <td>0</td>\n",
              "      <td>0</td>\n",
              "      <td>...</td>\n",
              "      <td>0</td>\n",
              "      <td>0</td>\n",
              "      <td>0</td>\n",
              "      <td>0</td>\n",
              "      <td>0</td>\n",
              "      <td>0</td>\n",
              "      <td>0</td>\n",
              "      <td>0</td>\n",
              "      <td>1</td>\n",
              "      <td>0</td>\n",
              "    </tr>\n",
              "    <tr>\n",
              "      <th>3</th>\n",
              "      <td>False</td>\n",
              "      <td>114735143729299990529</td>\n",
              "      <td>0.0</td>\n",
              "      <td>5.0</td>\n",
              "      <td>0.0</td>\n",
              "      <td>None</td>\n",
              "      <td>0</td>\n",
              "      <td>0</td>\n",
              "      <td>0</td>\n",
              "      <td>0</td>\n",
              "      <td>...</td>\n",
              "      <td>0</td>\n",
              "      <td>0</td>\n",
              "      <td>0</td>\n",
              "      <td>0</td>\n",
              "      <td>0</td>\n",
              "      <td>0</td>\n",
              "      <td>0</td>\n",
              "      <td>1</td>\n",
              "      <td>0</td>\n",
              "      <td>0</td>\n",
              "    </tr>\n",
              "    <tr>\n",
              "      <th>4</th>\n",
              "      <td>False</td>\n",
              "      <td>105589668159024738610</td>\n",
              "      <td>0.0</td>\n",
              "      <td>5.0</td>\n",
              "      <td>0.0</td>\n",
              "      <td>None</td>\n",
              "      <td>0</td>\n",
              "      <td>0</td>\n",
              "      <td>0</td>\n",
              "      <td>0</td>\n",
              "      <td>...</td>\n",
              "      <td>0</td>\n",
              "      <td>0</td>\n",
              "      <td>0</td>\n",
              "      <td>0</td>\n",
              "      <td>0</td>\n",
              "      <td>0</td>\n",
              "      <td>0</td>\n",
              "      <td>1</td>\n",
              "      <td>0</td>\n",
              "      <td>0</td>\n",
              "    </tr>\n",
              "    <tr>\n",
              "      <th>...</th>\n",
              "      <td>...</td>\n",
              "      <td>...</td>\n",
              "      <td>...</td>\n",
              "      <td>...</td>\n",
              "      <td>...</td>\n",
              "      <td>...</td>\n",
              "      <td>...</td>\n",
              "      <td>...</td>\n",
              "      <td>...</td>\n",
              "      <td>...</td>\n",
              "      <td>...</td>\n",
              "      <td>...</td>\n",
              "      <td>...</td>\n",
              "      <td>...</td>\n",
              "      <td>...</td>\n",
              "      <td>...</td>\n",
              "      <td>...</td>\n",
              "      <td>...</td>\n",
              "      <td>...</td>\n",
              "      <td>...</td>\n",
              "      <td>...</td>\n",
              "    </tr>\n",
              "    <tr>\n",
              "      <th>882</th>\n",
              "      <td>False</td>\n",
              "      <td>104180837589620084282</td>\n",
              "      <td>0.0</td>\n",
              "      <td>4.0</td>\n",
              "      <td>0.0</td>\n",
              "      <td>None</td>\n",
              "      <td>0</td>\n",
              "      <td>0</td>\n",
              "      <td>0</td>\n",
              "      <td>0</td>\n",
              "      <td>...</td>\n",
              "      <td>0</td>\n",
              "      <td>0</td>\n",
              "      <td>0</td>\n",
              "      <td>0</td>\n",
              "      <td>0</td>\n",
              "      <td>0</td>\n",
              "      <td>0</td>\n",
              "      <td>1</td>\n",
              "      <td>0</td>\n",
              "      <td>0</td>\n",
              "    </tr>\n",
              "    <tr>\n",
              "      <th>883</th>\n",
              "      <td>False</td>\n",
              "      <td>110513581755637073383</td>\n",
              "      <td>0.0</td>\n",
              "      <td>3.0</td>\n",
              "      <td>0.0</td>\n",
              "      <td>None</td>\n",
              "      <td>0</td>\n",
              "      <td>0</td>\n",
              "      <td>0</td>\n",
              "      <td>0</td>\n",
              "      <td>...</td>\n",
              "      <td>0</td>\n",
              "      <td>0</td>\n",
              "      <td>0</td>\n",
              "      <td>0</td>\n",
              "      <td>0</td>\n",
              "      <td>0</td>\n",
              "      <td>0</td>\n",
              "      <td>1</td>\n",
              "      <td>0</td>\n",
              "      <td>0</td>\n",
              "    </tr>\n",
              "    <tr>\n",
              "      <th>884</th>\n",
              "      <td>False</td>\n",
              "      <td>100311016010349448338</td>\n",
              "      <td>0.0</td>\n",
              "      <td>3.0</td>\n",
              "      <td>0.0</td>\n",
              "      <td>None</td>\n",
              "      <td>0</td>\n",
              "      <td>0</td>\n",
              "      <td>0</td>\n",
              "      <td>0</td>\n",
              "      <td>...</td>\n",
              "      <td>0</td>\n",
              "      <td>0</td>\n",
              "      <td>0</td>\n",
              "      <td>0</td>\n",
              "      <td>0</td>\n",
              "      <td>0</td>\n",
              "      <td>0</td>\n",
              "      <td>1</td>\n",
              "      <td>0</td>\n",
              "      <td>0</td>\n",
              "    </tr>\n",
              "    <tr>\n",
              "      <th>885</th>\n",
              "      <td>False</td>\n",
              "      <td>101569325572579174871</td>\n",
              "      <td>0.0</td>\n",
              "      <td>5.0</td>\n",
              "      <td>0.0</td>\n",
              "      <td>None</td>\n",
              "      <td>0</td>\n",
              "      <td>0</td>\n",
              "      <td>0</td>\n",
              "      <td>0</td>\n",
              "      <td>...</td>\n",
              "      <td>0</td>\n",
              "      <td>0</td>\n",
              "      <td>0</td>\n",
              "      <td>0</td>\n",
              "      <td>0</td>\n",
              "      <td>0</td>\n",
              "      <td>0</td>\n",
              "      <td>0</td>\n",
              "      <td>1</td>\n",
              "      <td>0</td>\n",
              "    </tr>\n",
              "    <tr>\n",
              "      <th>886</th>\n",
              "      <td>False</td>\n",
              "      <td>115871945880957731633</td>\n",
              "      <td>0.0</td>\n",
              "      <td>3.0</td>\n",
              "      <td>2.0</td>\n",
              "      <td>None</td>\n",
              "      <td>0</td>\n",
              "      <td>0</td>\n",
              "      <td>0</td>\n",
              "      <td>1</td>\n",
              "      <td>...</td>\n",
              "      <td>0</td>\n",
              "      <td>0</td>\n",
              "      <td>0</td>\n",
              "      <td>0</td>\n",
              "      <td>0</td>\n",
              "      <td>0</td>\n",
              "      <td>0</td>\n",
              "      <td>1</td>\n",
              "      <td>0</td>\n",
              "      <td>0</td>\n",
              "    </tr>\n",
              "  </tbody>\n",
              "</table>\n",
              "<p>887 rows × 21 columns</p>\n",
              "</div>\n",
              "    <div class=\"colab-df-buttons\">\n",
              "\n",
              "  <div class=\"colab-df-container\">\n",
              "    <button class=\"colab-df-convert\" onclick=\"convertToInteractive('df-07598f51-7876-4500-9611-d7fd7ce59f20')\"\n",
              "            title=\"Convert this dataframe to an interactive table.\"\n",
              "            style=\"display:none;\">\n",
              "\n",
              "  <svg xmlns=\"http://www.w3.org/2000/svg\" height=\"24px\" viewBox=\"0 -960 960 960\">\n",
              "    <path d=\"M120-120v-720h720v720H120Zm60-500h600v-160H180v160Zm220 220h160v-160H400v160Zm0 220h160v-160H400v160ZM180-400h160v-160H180v160Zm440 0h160v-160H620v160ZM180-180h160v-160H180v160Zm440 0h160v-160H620v160Z\"/>\n",
              "  </svg>\n",
              "    </button>\n",
              "\n",
              "  <style>\n",
              "    .colab-df-container {\n",
              "      display:flex;\n",
              "      gap: 12px;\n",
              "    }\n",
              "\n",
              "    .colab-df-convert {\n",
              "      background-color: #E8F0FE;\n",
              "      border: none;\n",
              "      border-radius: 50%;\n",
              "      cursor: pointer;\n",
              "      display: none;\n",
              "      fill: #1967D2;\n",
              "      height: 32px;\n",
              "      padding: 0 0 0 0;\n",
              "      width: 32px;\n",
              "    }\n",
              "\n",
              "    .colab-df-convert:hover {\n",
              "      background-color: #E2EBFA;\n",
              "      box-shadow: 0px 1px 2px rgba(60, 64, 67, 0.3), 0px 1px 3px 1px rgba(60, 64, 67, 0.15);\n",
              "      fill: #174EA6;\n",
              "    }\n",
              "\n",
              "    .colab-df-buttons div {\n",
              "      margin-bottom: 4px;\n",
              "    }\n",
              "\n",
              "    [theme=dark] .colab-df-convert {\n",
              "      background-color: #3B4455;\n",
              "      fill: #D2E3FC;\n",
              "    }\n",
              "\n",
              "    [theme=dark] .colab-df-convert:hover {\n",
              "      background-color: #434B5C;\n",
              "      box-shadow: 0px 1px 3px 1px rgba(0, 0, 0, 0.15);\n",
              "      filter: drop-shadow(0px 1px 2px rgba(0, 0, 0, 0.3));\n",
              "      fill: #FFFFFF;\n",
              "    }\n",
              "  </style>\n",
              "\n",
              "    <script>\n",
              "      const buttonEl =\n",
              "        document.querySelector('#df-07598f51-7876-4500-9611-d7fd7ce59f20 button.colab-df-convert');\n",
              "      buttonEl.style.display =\n",
              "        google.colab.kernel.accessAllowed ? 'block' : 'none';\n",
              "\n",
              "      async function convertToInteractive(key) {\n",
              "        const element = document.querySelector('#df-07598f51-7876-4500-9611-d7fd7ce59f20');\n",
              "        const dataTable =\n",
              "          await google.colab.kernel.invokeFunction('convertToInteractive',\n",
              "                                                    [key], {});\n",
              "        if (!dataTable) return;\n",
              "\n",
              "        const docLinkHtml = 'Like what you see? Visit the ' +\n",
              "          '<a target=\"_blank\" href=https://colab.research.google.com/notebooks/data_table.ipynb>data table notebook</a>'\n",
              "          + ' to learn more about interactive tables.';\n",
              "        element.innerHTML = '';\n",
              "        dataTable['output_type'] = 'display_data';\n",
              "        await google.colab.output.renderOutput(dataTable, element);\n",
              "        const docLink = document.createElement('div');\n",
              "        docLink.innerHTML = docLinkHtml;\n",
              "        element.appendChild(docLink);\n",
              "      }\n",
              "    </script>\n",
              "  </div>\n",
              "\n",
              "\n",
              "<div id=\"df-f7e0d281-bc60-47fa-b259-9b121a4009e7\">\n",
              "  <button class=\"colab-df-quickchart\" onclick=\"quickchart('df-f7e0d281-bc60-47fa-b259-9b121a4009e7')\"\n",
              "            title=\"Suggest charts\"\n",
              "            style=\"display:none;\">\n",
              "\n",
              "<svg xmlns=\"http://www.w3.org/2000/svg\" height=\"24px\"viewBox=\"0 0 24 24\"\n",
              "     width=\"24px\">\n",
              "    <g>\n",
              "        <path d=\"M19 3H5c-1.1 0-2 .9-2 2v14c0 1.1.9 2 2 2h14c1.1 0 2-.9 2-2V5c0-1.1-.9-2-2-2zM9 17H7v-7h2v7zm4 0h-2V7h2v10zm4 0h-2v-4h2v4z\"/>\n",
              "    </g>\n",
              "</svg>\n",
              "  </button>\n",
              "\n",
              "<style>\n",
              "  .colab-df-quickchart {\n",
              "      --bg-color: #E8F0FE;\n",
              "      --fill-color: #1967D2;\n",
              "      --hover-bg-color: #E2EBFA;\n",
              "      --hover-fill-color: #174EA6;\n",
              "      --disabled-fill-color: #AAA;\n",
              "      --disabled-bg-color: #DDD;\n",
              "  }\n",
              "\n",
              "  [theme=dark] .colab-df-quickchart {\n",
              "      --bg-color: #3B4455;\n",
              "      --fill-color: #D2E3FC;\n",
              "      --hover-bg-color: #434B5C;\n",
              "      --hover-fill-color: #FFFFFF;\n",
              "      --disabled-bg-color: #3B4455;\n",
              "      --disabled-fill-color: #666;\n",
              "  }\n",
              "\n",
              "  .colab-df-quickchart {\n",
              "    background-color: var(--bg-color);\n",
              "    border: none;\n",
              "    border-radius: 50%;\n",
              "    cursor: pointer;\n",
              "    display: none;\n",
              "    fill: var(--fill-color);\n",
              "    height: 32px;\n",
              "    padding: 0;\n",
              "    width: 32px;\n",
              "  }\n",
              "\n",
              "  .colab-df-quickchart:hover {\n",
              "    background-color: var(--hover-bg-color);\n",
              "    box-shadow: 0 1px 2px rgba(60, 64, 67, 0.3), 0 1px 3px 1px rgba(60, 64, 67, 0.15);\n",
              "    fill: var(--button-hover-fill-color);\n",
              "  }\n",
              "\n",
              "  .colab-df-quickchart-complete:disabled,\n",
              "  .colab-df-quickchart-complete:disabled:hover {\n",
              "    background-color: var(--disabled-bg-color);\n",
              "    fill: var(--disabled-fill-color);\n",
              "    box-shadow: none;\n",
              "  }\n",
              "\n",
              "  .colab-df-spinner {\n",
              "    border: 2px solid var(--fill-color);\n",
              "    border-color: transparent;\n",
              "    border-bottom-color: var(--fill-color);\n",
              "    animation:\n",
              "      spin 1s steps(1) infinite;\n",
              "  }\n",
              "\n",
              "  @keyframes spin {\n",
              "    0% {\n",
              "      border-color: transparent;\n",
              "      border-bottom-color: var(--fill-color);\n",
              "      border-left-color: var(--fill-color);\n",
              "    }\n",
              "    20% {\n",
              "      border-color: transparent;\n",
              "      border-left-color: var(--fill-color);\n",
              "      border-top-color: var(--fill-color);\n",
              "    }\n",
              "    30% {\n",
              "      border-color: transparent;\n",
              "      border-left-color: var(--fill-color);\n",
              "      border-top-color: var(--fill-color);\n",
              "      border-right-color: var(--fill-color);\n",
              "    }\n",
              "    40% {\n",
              "      border-color: transparent;\n",
              "      border-right-color: var(--fill-color);\n",
              "      border-top-color: var(--fill-color);\n",
              "    }\n",
              "    60% {\n",
              "      border-color: transparent;\n",
              "      border-right-color: var(--fill-color);\n",
              "    }\n",
              "    80% {\n",
              "      border-color: transparent;\n",
              "      border-right-color: var(--fill-color);\n",
              "      border-bottom-color: var(--fill-color);\n",
              "    }\n",
              "    90% {\n",
              "      border-color: transparent;\n",
              "      border-bottom-color: var(--fill-color);\n",
              "    }\n",
              "  }\n",
              "</style>\n",
              "\n",
              "  <script>\n",
              "    async function quickchart(key) {\n",
              "      const quickchartButtonEl =\n",
              "        document.querySelector('#' + key + ' button');\n",
              "      quickchartButtonEl.disabled = true;  // To prevent multiple clicks.\n",
              "      quickchartButtonEl.classList.add('colab-df-spinner');\n",
              "      try {\n",
              "        const charts = await google.colab.kernel.invokeFunction(\n",
              "            'suggestCharts', [key], {});\n",
              "      } catch (error) {\n",
              "        console.error('Error during call to suggestCharts:', error);\n",
              "      }\n",
              "      quickchartButtonEl.classList.remove('colab-df-spinner');\n",
              "      quickchartButtonEl.classList.add('colab-df-quickchart-complete');\n",
              "    }\n",
              "    (() => {\n",
              "      let quickchartButtonEl =\n",
              "        document.querySelector('#df-f7e0d281-bc60-47fa-b259-9b121a4009e7 button');\n",
              "      quickchartButtonEl.style.display =\n",
              "        google.colab.kernel.accessAllowed ? 'block' : 'none';\n",
              "    })();\n",
              "  </script>\n",
              "</div>\n",
              "    </div>\n",
              "  </div>\n"
            ],
            "text/plain": [
              "     closed           gPlusPlaceId  location_cluster  rating  cat_cluster  \\\n",
              "0     False  115757957627721988675               0.0     5.0          4.0   \n",
              "1     False  116555416797255000560               0.0     4.0          0.0   \n",
              "2      True  114781865961627441828               0.0     5.0          0.0   \n",
              "3     False  114735143729299990529               0.0     5.0          0.0   \n",
              "4     False  105589668159024738610               0.0     5.0          0.0   \n",
              "..      ...                    ...               ...     ...          ...   \n",
              "882   False  104180837589620084282               0.0     4.0          0.0   \n",
              "883   False  110513581755637073383               0.0     3.0          0.0   \n",
              "884   False  100311016010349448338               0.0     3.0          0.0   \n",
              "885   False  101569325572579174871               0.0     5.0          0.0   \n",
              "886   False  115871945880957731633               0.0     3.0          2.0   \n",
              "\n",
              "    sentiment  Class_ca  Class_da  Class_de  Class_en  ...  Class_fr  \\\n",
              "0        None         0         0         0         1  ...         0   \n",
              "1        None         0         0         0         0  ...         0   \n",
              "2        None         0         0         0         0  ...         0   \n",
              "3        None         0         0         0         0  ...         0   \n",
              "4        None         0         0         0         0  ...         0   \n",
              "..        ...       ...       ...       ...       ...  ...       ...   \n",
              "882      None         0         0         0         0  ...         0   \n",
              "883      None         0         0         0         0  ...         0   \n",
              "884      None         0         0         0         0  ...         0   \n",
              "885      None         0         0         0         0  ...         0   \n",
              "886      None         0         0         0         1  ...         0   \n",
              "\n",
              "     Class_hi  Class_it  Class_ms  Class_nl  Class_pt  Class_tr  Class_$$  \\\n",
              "0           0         0         0         0         0         0         1   \n",
              "1           0         0         0         0         0         0         1   \n",
              "2           0         0         0         0         0         0         0   \n",
              "3           0         0         0         0         0         0         1   \n",
              "4           0         0         0         0         0         0         1   \n",
              "..        ...       ...       ...       ...       ...       ...       ...   \n",
              "882         0         0         0         0         0         0         1   \n",
              "883         0         0         0         0         0         0         1   \n",
              "884         0         0         0         0         0         0         1   \n",
              "885         0         0         0         0         0         0         0   \n",
              "886         0         0         0         0         0         0         1   \n",
              "\n",
              "     Class_$$$  Class_$$$$  \n",
              "0            0           0  \n",
              "1            0           0  \n",
              "2            1           0  \n",
              "3            0           0  \n",
              "4            0           0  \n",
              "..         ...         ...  \n",
              "882          0           0  \n",
              "883          0           0  \n",
              "884          0           0  \n",
              "885          1           0  \n",
              "886          0           0  \n",
              "\n",
              "[887 rows x 21 columns]"
            ]
          },
          "execution_count": 37,
          "metadata": {},
          "output_type": "execute_result"
        }
      ],
      "source": [
        "df_num"
      ]
    },
    {
      "cell_type": "code",
      "execution_count": null,
      "metadata": {
        "colab": {
          "base_uri": "https://localhost:8080/",
          "height": 53
        },
        "id": "etIdDxmHESMX",
        "outputId": "3cfb6cef-8259-4c28-c92a-5f08951c49f3"
      },
      "outputs": [
        {
          "data": {
            "text/plain": [
              "(887, 18)"
            ]
          },
          "metadata": {},
          "output_type": "display_data"
        },
        {
          "data": {
            "text/plain": [
              "(887, 3)"
            ]
          },
          "metadata": {},
          "output_type": "display_data"
        }
      ],
      "source": [
        "#Get X, Y data\n",
        "X = df_num.drop(['Class_$$', 'Class_$$$', 'Class_$$$$'], axis=1).astype(float)\n",
        "y = df_num[['Class_$$', 'Class_$$$', 'Class_$$$$']].astype(float)\n",
        "\n",
        "display(X.shape)\n",
        "display(y.shape)"
      ]
    },
    {
      "cell_type": "code",
      "execution_count": null,
      "metadata": {
        "colab": {
          "base_uri": "https://localhost:8080/",
          "height": 53
        },
        "id": "H26RYfh7_vEP",
        "outputId": "857c0452-7df3-4c25-bdda-44a7f4b881dd"
      },
      "outputs": [
        {
          "data": {
            "text/plain": [
              "(709, 18)"
            ]
          },
          "metadata": {},
          "output_type": "display_data"
        },
        {
          "data": {
            "text/plain": [
              "(709, 3)"
            ]
          },
          "metadata": {},
          "output_type": "display_data"
        }
      ],
      "source": [
        "X_train, X_test, y_train, y_test = train_test_split(X, y, test_size=0.2, random_state=42)\n",
        "display(X_train.shape)\n",
        "display(y_train.shape)"
      ]
    },
    {
      "cell_type": "code",
      "execution_count": null,
      "metadata": {
        "colab": {
          "base_uri": "https://localhost:8080/"
        },
        "id": "uDmmAe8mNxVj",
        "outputId": "a54e33e0-e22c-4d76-e0b3-b52216c515c0"
      },
      "outputs": [
        {
          "data": {
            "text/plain": [
              "Index(['closed', 'gPlusPlaceId', 'location_cluster', 'rating', 'cat_cluster',\n",
              "       'sentiment', 'Class_ca', 'Class_da', 'Class_de', 'Class_en', 'Class_es',\n",
              "       'Class_fr', 'Class_hi', 'Class_it', 'Class_ms', 'Class_nl', 'Class_pt',\n",
              "       'Class_tr', 'Class_$$', 'Class_$$$', 'Class_$$$$'],\n",
              "      dtype='object')"
            ]
          },
          "execution_count": 42,
          "metadata": {},
          "output_type": "execute_result"
        }
      ],
      "source": [
        "df_num.columns"
      ]
    },
    {
      "cell_type": "markdown",
      "metadata": {
        "id": "Doj_5eE4Bu-o"
      },
      "source": [
        "## Model 1: DNN"
      ]
    },
    {
      "cell_type": "code",
      "execution_count": null,
      "metadata": {
        "id": "xBOFDPVS6A7Q"
      },
      "outputs": [],
      "source": [
        "X_test = X_test[['closed', 'location_cluster', 'rating', 'cat_cluster', 'Class_ca', 'Class_da', 'Class_de', 'Class_en', 'Class_es',\n",
        "       'Class_fr', 'Class_hi', 'Class_it', 'Class_ms', 'Class_nl', 'Class_pt',\n",
        "       'Class_tr']]\n",
        "X_train = X_train[['closed', 'location_cluster', 'rating', 'cat_cluster', 'Class_ca', 'Class_da', 'Class_de', 'Class_en', 'Class_es',\n",
        "       'Class_fr', 'Class_hi', 'Class_it', 'Class_ms', 'Class_nl', 'Class_pt',\n",
        "       'Class_tr']]"
      ]
    },
    {
      "cell_type": "code",
      "execution_count": null,
      "metadata": {
        "colab": {
          "base_uri": "https://localhost:8080/"
        },
        "id": "RuzF4RKj6iOa",
        "outputId": "490acce7-5211-4c03-d089-f9bed5e942d3"
      },
      "outputs": [
        {
          "name": "stdout",
          "output_type": "stream",
          "text": [
            "Reloading Tuner from idk_dir/hyperparams_optimization/tuner0.json\n",
            "Epoch 1/200\n",
            "23/23 [==============================] - 3s 3ms/step - loss: 0.1611 - accuracy: 0.6460\n",
            "Epoch 2/200\n",
            "23/23 [==============================] - 0s 3ms/step - loss: 0.1492 - accuracy: 0.6460\n",
            "Epoch 3/200\n",
            "23/23 [==============================] - 0s 3ms/step - loss: 0.1407 - accuracy: 0.6460\n",
            "Epoch 4/200\n",
            "23/23 [==============================] - 0s 2ms/step - loss: 0.1341 - accuracy: 0.6460\n",
            "Epoch 5/200\n",
            "23/23 [==============================] - 0s 3ms/step - loss: 0.1283 - accuracy: 0.6460\n",
            "Epoch 6/200\n",
            "23/23 [==============================] - 0s 3ms/step - loss: 0.1237 - accuracy: 0.6460\n",
            "Epoch 7/200\n",
            "23/23 [==============================] - 0s 2ms/step - loss: 0.1199 - accuracy: 0.6460\n",
            "Epoch 8/200\n",
            "23/23 [==============================] - 0s 3ms/step - loss: 0.1170 - accuracy: 0.6460\n",
            "Epoch 9/200\n",
            "23/23 [==============================] - 0s 3ms/step - loss: 0.1149 - accuracy: 0.6460\n",
            "Epoch 10/200\n",
            "23/23 [==============================] - 0s 2ms/step - loss: 0.1134 - accuracy: 0.6460\n",
            "Epoch 11/200\n",
            "23/23 [==============================] - 0s 3ms/step - loss: 0.1125 - accuracy: 0.6460\n",
            "Epoch 12/200\n",
            "23/23 [==============================] - 0s 3ms/step - loss: 0.1118 - accuracy: 0.6460\n",
            "Epoch 13/200\n",
            "23/23 [==============================] - 0s 3ms/step - loss: 0.1113 - accuracy: 0.6460\n",
            "Epoch 14/200\n",
            "23/23 [==============================] - 0s 4ms/step - loss: 0.1109 - accuracy: 0.6460\n",
            "Epoch 15/200\n",
            "23/23 [==============================] - 0s 2ms/step - loss: 0.1106 - accuracy: 0.6460\n",
            "Epoch 16/200\n",
            "23/23 [==============================] - 0s 3ms/step - loss: 0.1103 - accuracy: 0.6460\n",
            "Epoch 17/200\n",
            "23/23 [==============================] - 0s 2ms/step - loss: 0.1103 - accuracy: 0.6460\n",
            "Epoch 18/200\n",
            "23/23 [==============================] - 0s 2ms/step - loss: 0.1101 - accuracy: 0.6460\n",
            "Epoch 19/200\n",
            "23/23 [==============================] - 0s 3ms/step - loss: 0.1100 - accuracy: 0.6460\n",
            "Epoch 20/200\n",
            "23/23 [==============================] - 0s 3ms/step - loss: 0.1100 - accuracy: 0.6460\n",
            "Epoch 21/200\n",
            "23/23 [==============================] - 0s 3ms/step - loss: 0.1099 - accuracy: 0.6474\n",
            "Epoch 22/200\n",
            "23/23 [==============================] - 0s 2ms/step - loss: 0.1098 - accuracy: 0.6474\n",
            "Epoch 23/200\n",
            "23/23 [==============================] - 0s 2ms/step - loss: 0.1098 - accuracy: 0.6474\n",
            "Epoch 24/200\n",
            "23/23 [==============================] - 0s 2ms/step - loss: 0.1098 - accuracy: 0.6474\n",
            "Epoch 25/200\n",
            "23/23 [==============================] - 0s 2ms/step - loss: 0.1097 - accuracy: 0.6474\n",
            "Epoch 26/200\n",
            "23/23 [==============================] - 0s 2ms/step - loss: 0.1096 - accuracy: 0.6488\n",
            "Epoch 27/200\n",
            "23/23 [==============================] - 0s 3ms/step - loss: 0.1096 - accuracy: 0.6516\n",
            "Epoch 28/200\n",
            "23/23 [==============================] - 0s 3ms/step - loss: 0.1095 - accuracy: 0.6488\n",
            "Epoch 29/200\n",
            "23/23 [==============================] - 0s 3ms/step - loss: 0.1095 - accuracy: 0.6502\n",
            "Epoch 30/200\n",
            "23/23 [==============================] - 0s 5ms/step - loss: 0.1094 - accuracy: 0.6502\n",
            "Epoch 31/200\n",
            "23/23 [==============================] - 0s 4ms/step - loss: 0.1094 - accuracy: 0.6488\n",
            "Epoch 32/200\n",
            "23/23 [==============================] - 0s 3ms/step - loss: 0.1093 - accuracy: 0.6516\n",
            "Epoch 33/200\n",
            "23/23 [==============================] - 0s 3ms/step - loss: 0.1092 - accuracy: 0.6530\n",
            "Epoch 34/200\n",
            "23/23 [==============================] - 0s 3ms/step - loss: 0.1092 - accuracy: 0.6516\n",
            "Epoch 35/200\n",
            "23/23 [==============================] - 0s 3ms/step - loss: 0.1091 - accuracy: 0.6516\n",
            "Epoch 36/200\n",
            "23/23 [==============================] - 0s 3ms/step - loss: 0.1091 - accuracy: 0.6530\n",
            "Epoch 37/200\n",
            "23/23 [==============================] - 0s 3ms/step - loss: 0.1091 - accuracy: 0.6530\n",
            "Epoch 38/200\n",
            "23/23 [==============================] - 0s 3ms/step - loss: 0.1090 - accuracy: 0.6530\n",
            "Epoch 39/200\n",
            "23/23 [==============================] - 0s 3ms/step - loss: 0.1092 - accuracy: 0.6502\n",
            "Epoch 40/200\n",
            "23/23 [==============================] - 0s 4ms/step - loss: 0.1091 - accuracy: 0.6530\n",
            "Epoch 41/200\n",
            "23/23 [==============================] - 0s 3ms/step - loss: 0.1089 - accuracy: 0.6530\n",
            "Epoch 42/200\n",
            "23/23 [==============================] - 0s 3ms/step - loss: 0.1088 - accuracy: 0.6544\n",
            "Epoch 43/200\n",
            "23/23 [==============================] - 0s 3ms/step - loss: 0.1088 - accuracy: 0.6544\n",
            "Epoch 44/200\n",
            "23/23 [==============================] - 0s 3ms/step - loss: 0.1088 - accuracy: 0.6530\n",
            "Epoch 45/200\n",
            "23/23 [==============================] - 0s 3ms/step - loss: 0.1088 - accuracy: 0.6502\n",
            "Epoch 46/200\n",
            "23/23 [==============================] - 0s 3ms/step - loss: 0.1088 - accuracy: 0.6559\n",
            "Epoch 47/200\n",
            "23/23 [==============================] - 0s 4ms/step - loss: 0.1087 - accuracy: 0.6516\n",
            "Epoch 48/200\n",
            "23/23 [==============================] - 0s 3ms/step - loss: 0.1086 - accuracy: 0.6516\n",
            "Epoch 49/200\n",
            "23/23 [==============================] - 0s 3ms/step - loss: 0.1086 - accuracy: 0.6502\n",
            "Epoch 50/200\n",
            "23/23 [==============================] - 0s 3ms/step - loss: 0.1087 - accuracy: 0.6559\n",
            "Epoch 51/200\n",
            "23/23 [==============================] - 0s 4ms/step - loss: 0.1086 - accuracy: 0.6530\n",
            "Epoch 52/200\n",
            "23/23 [==============================] - 0s 4ms/step - loss: 0.1086 - accuracy: 0.6502\n",
            "Epoch 53/200\n",
            "23/23 [==============================] - 0s 4ms/step - loss: 0.1085 - accuracy: 0.6502\n",
            "Epoch 54/200\n",
            "23/23 [==============================] - 0s 4ms/step - loss: 0.1085 - accuracy: 0.6530\n",
            "Epoch 55/200\n",
            "23/23 [==============================] - 0s 3ms/step - loss: 0.1084 - accuracy: 0.6516\n",
            "Epoch 56/200\n",
            "23/23 [==============================] - 0s 4ms/step - loss: 0.1085 - accuracy: 0.6516\n",
            "Epoch 57/200\n",
            "23/23 [==============================] - 0s 4ms/step - loss: 0.1085 - accuracy: 0.6516\n",
            "Epoch 58/200\n",
            "23/23 [==============================] - 0s 4ms/step - loss: 0.1084 - accuracy: 0.6488\n",
            "Epoch 59/200\n",
            "23/23 [==============================] - 0s 4ms/step - loss: 0.1083 - accuracy: 0.6502\n",
            "Epoch 60/200\n",
            "23/23 [==============================] - 0s 4ms/step - loss: 0.1083 - accuracy: 0.6516\n",
            "Epoch 61/200\n",
            "23/23 [==============================] - 0s 5ms/step - loss: 0.1083 - accuracy: 0.6502\n",
            "Epoch 62/200\n",
            "23/23 [==============================] - 0s 5ms/step - loss: 0.1083 - accuracy: 0.6516\n",
            "Epoch 63/200\n",
            "23/23 [==============================] - 0s 5ms/step - loss: 0.1083 - accuracy: 0.6460\n",
            "Epoch 64/200\n",
            "23/23 [==============================] - 0s 3ms/step - loss: 0.1082 - accuracy: 0.6474\n",
            "Epoch 65/200\n",
            "23/23 [==============================] - 0s 3ms/step - loss: 0.1082 - accuracy: 0.6530\n",
            "Epoch 66/200\n",
            "23/23 [==============================] - 0s 3ms/step - loss: 0.1083 - accuracy: 0.6544\n",
            "Epoch 67/200\n",
            "23/23 [==============================] - 0s 2ms/step - loss: 0.1082 - accuracy: 0.6488\n",
            "Epoch 68/200\n",
            "23/23 [==============================] - 0s 2ms/step - loss: 0.1081 - accuracy: 0.6460\n",
            "Epoch 69/200\n",
            "23/23 [==============================] - 0s 2ms/step - loss: 0.1081 - accuracy: 0.6460\n",
            "Epoch 70/200\n",
            "23/23 [==============================] - 0s 2ms/step - loss: 0.1081 - accuracy: 0.6474\n",
            "Epoch 71/200\n",
            "23/23 [==============================] - 0s 2ms/step - loss: 0.1083 - accuracy: 0.6544\n",
            "Epoch 72/200\n",
            "23/23 [==============================] - 0s 2ms/step - loss: 0.1081 - accuracy: 0.6516\n",
            "Epoch 73/200\n",
            "23/23 [==============================] - 0s 2ms/step - loss: 0.1081 - accuracy: 0.6474\n",
            "Epoch 74/200\n",
            "23/23 [==============================] - 0s 2ms/step - loss: 0.1080 - accuracy: 0.6530\n",
            "Epoch 75/200\n",
            "23/23 [==============================] - 0s 2ms/step - loss: 0.1083 - accuracy: 0.6502\n",
            "Epoch 76/200\n",
            "23/23 [==============================] - 0s 2ms/step - loss: 0.1081 - accuracy: 0.6516\n",
            "Epoch 77/200\n",
            "23/23 [==============================] - 0s 2ms/step - loss: 0.1080 - accuracy: 0.6488\n",
            "Epoch 78/200\n",
            "23/23 [==============================] - 0s 3ms/step - loss: 0.1080 - accuracy: 0.6488\n",
            "Epoch 79/200\n",
            "23/23 [==============================] - 0s 3ms/step - loss: 0.1079 - accuracy: 0.6530\n",
            "Epoch 80/200\n",
            "23/23 [==============================] - 0s 2ms/step - loss: 0.1080 - accuracy: 0.6587\n",
            "Epoch 81/200\n",
            "23/23 [==============================] - 0s 3ms/step - loss: 0.1080 - accuracy: 0.6587\n",
            "Epoch 82/200\n",
            "23/23 [==============================] - 0s 2ms/step - loss: 0.1083 - accuracy: 0.6544\n",
            "Epoch 83/200\n",
            "23/23 [==============================] - 0s 2ms/step - loss: 0.1079 - accuracy: 0.6559\n",
            "Epoch 84/200\n",
            "23/23 [==============================] - 0s 2ms/step - loss: 0.1079 - accuracy: 0.6516\n",
            "Epoch 85/200\n",
            "23/23 [==============================] - 0s 3ms/step - loss: 0.1081 - accuracy: 0.6488\n",
            "Epoch 86/200\n",
            "23/23 [==============================] - 0s 2ms/step - loss: 0.1079 - accuracy: 0.6544\n",
            "Epoch 87/200\n",
            "23/23 [==============================] - 0s 2ms/step - loss: 0.1079 - accuracy: 0.6488\n",
            "Epoch 88/200\n",
            "23/23 [==============================] - 0s 2ms/step - loss: 0.1079 - accuracy: 0.6544\n",
            "Epoch 89/200\n",
            "23/23 [==============================] - 0s 2ms/step - loss: 0.1079 - accuracy: 0.6544\n",
            "Epoch 90/200\n",
            "23/23 [==============================] - 0s 3ms/step - loss: 0.1079 - accuracy: 0.6544\n",
            "Epoch 91/200\n",
            "23/23 [==============================] - 0s 2ms/step - loss: 0.1079 - accuracy: 0.6530\n",
            "Epoch 92/200\n",
            "23/23 [==============================] - 0s 3ms/step - loss: 0.1079 - accuracy: 0.6530\n",
            "Epoch 93/200\n",
            "23/23 [==============================] - 0s 2ms/step - loss: 0.1079 - accuracy: 0.6516\n",
            "Epoch 94/200\n",
            "23/23 [==============================] - 0s 2ms/step - loss: 0.1079 - accuracy: 0.6530\n",
            "Epoch 95/200\n",
            "23/23 [==============================] - 0s 3ms/step - loss: 0.1078 - accuracy: 0.6559\n",
            "Epoch 96/200\n",
            "23/23 [==============================] - 0s 3ms/step - loss: 0.1079 - accuracy: 0.6530\n",
            "Epoch 97/200\n",
            "23/23 [==============================] - 0s 4ms/step - loss: 0.1078 - accuracy: 0.6502\n",
            "Epoch 98/200\n",
            "23/23 [==============================] - 0s 2ms/step - loss: 0.1079 - accuracy: 0.6559\n",
            "Epoch 99/200\n",
            "23/23 [==============================] - 0s 2ms/step - loss: 0.1078 - accuracy: 0.6559\n",
            "Epoch 100/200\n",
            "23/23 [==============================] - 0s 3ms/step - loss: 0.1078 - accuracy: 0.6559\n",
            "Epoch 101/200\n",
            "23/23 [==============================] - 0s 3ms/step - loss: 0.1078 - accuracy: 0.6559\n",
            "Epoch 102/200\n",
            "23/23 [==============================] - 0s 3ms/step - loss: 0.1078 - accuracy: 0.6559\n",
            "Epoch 103/200\n",
            "23/23 [==============================] - 0s 3ms/step - loss: 0.1079 - accuracy: 0.6559\n",
            "Epoch 104/200\n",
            "23/23 [==============================] - 0s 3ms/step - loss: 0.1078 - accuracy: 0.6559\n",
            "Epoch 105/200\n",
            "23/23 [==============================] - 0s 2ms/step - loss: 0.1077 - accuracy: 0.6559\n",
            "Epoch 106/200\n",
            "23/23 [==============================] - 0s 2ms/step - loss: 0.1077 - accuracy: 0.6559\n",
            "Epoch 107/200\n",
            "23/23 [==============================] - 0s 2ms/step - loss: 0.1077 - accuracy: 0.6573\n",
            "Epoch 108/200\n",
            "23/23 [==============================] - 0s 2ms/step - loss: 0.1077 - accuracy: 0.6544\n",
            "Epoch 109/200\n",
            "23/23 [==============================] - 0s 3ms/step - loss: 0.1077 - accuracy: 0.6530\n",
            "Epoch 110/200\n",
            "23/23 [==============================] - 0s 2ms/step - loss: 0.1077 - accuracy: 0.6559\n",
            "Epoch 111/200\n",
            "23/23 [==============================] - 0s 2ms/step - loss: 0.1077 - accuracy: 0.6559\n",
            "Epoch 112/200\n",
            "23/23 [==============================] - 0s 3ms/step - loss: 0.1079 - accuracy: 0.6587\n",
            "Epoch 113/200\n",
            "23/23 [==============================] - 0s 3ms/step - loss: 0.1077 - accuracy: 0.6544\n",
            "Epoch 114/200\n",
            "23/23 [==============================] - 0s 2ms/step - loss: 0.1077 - accuracy: 0.6559\n",
            "Epoch 115/200\n",
            "23/23 [==============================] - 0s 2ms/step - loss: 0.1077 - accuracy: 0.6573\n",
            "Epoch 116/200\n",
            "23/23 [==============================] - 0s 2ms/step - loss: 0.1077 - accuracy: 0.6573\n",
            "Epoch 117/200\n",
            "23/23 [==============================] - 0s 2ms/step - loss: 0.1076 - accuracy: 0.6615\n",
            "Epoch 118/200\n",
            "23/23 [==============================] - 0s 2ms/step - loss: 0.1077 - accuracy: 0.6587\n",
            "Epoch 119/200\n",
            "23/23 [==============================] - 0s 2ms/step - loss: 0.1077 - accuracy: 0.6601\n",
            "Epoch 120/200\n",
            "23/23 [==============================] - 0s 2ms/step - loss: 0.1076 - accuracy: 0.6573\n",
            "Epoch 121/200\n",
            "23/23 [==============================] - 0s 3ms/step - loss: 0.1077 - accuracy: 0.6559\n",
            "Epoch 122/200\n",
            "23/23 [==============================] - 0s 2ms/step - loss: 0.1076 - accuracy: 0.6573\n",
            "Epoch 123/200\n",
            "23/23 [==============================] - 0s 2ms/step - loss: 0.1077 - accuracy: 0.6601\n",
            "Epoch 124/200\n",
            "23/23 [==============================] - 0s 2ms/step - loss: 0.1077 - accuracy: 0.6544\n",
            "Epoch 125/200\n",
            "23/23 [==============================] - 0s 2ms/step - loss: 0.1076 - accuracy: 0.6573\n",
            "Epoch 126/200\n",
            "23/23 [==============================] - 0s 2ms/step - loss: 0.1076 - accuracy: 0.6629\n",
            "Epoch 127/200\n",
            "23/23 [==============================] - 0s 2ms/step - loss: 0.1076 - accuracy: 0.6573\n",
            "Epoch 128/200\n",
            "23/23 [==============================] - 0s 2ms/step - loss: 0.1076 - accuracy: 0.6629\n",
            "Epoch 129/200\n",
            "23/23 [==============================] - 0s 2ms/step - loss: 0.1076 - accuracy: 0.6643\n",
            "Epoch 130/200\n",
            "23/23 [==============================] - 0s 3ms/step - loss: 0.1076 - accuracy: 0.6643\n",
            "Epoch 131/200\n",
            "23/23 [==============================] - 0s 2ms/step - loss: 0.1076 - accuracy: 0.6559\n",
            "Epoch 132/200\n",
            "23/23 [==============================] - 0s 2ms/step - loss: 0.1076 - accuracy: 0.6587\n",
            "Epoch 133/200\n",
            "23/23 [==============================] - 0s 2ms/step - loss: 0.1077 - accuracy: 0.6544\n",
            "Epoch 134/200\n",
            "23/23 [==============================] - 0s 2ms/step - loss: 0.1079 - accuracy: 0.6587\n",
            "Epoch 135/200\n",
            "23/23 [==============================] - 0s 2ms/step - loss: 0.1075 - accuracy: 0.6601\n",
            "Epoch 136/200\n",
            "23/23 [==============================] - 0s 2ms/step - loss: 0.1076 - accuracy: 0.6559\n",
            "Epoch 137/200\n",
            "23/23 [==============================] - 0s 2ms/step - loss: 0.1076 - accuracy: 0.6587\n",
            "Epoch 138/200\n",
            "23/23 [==============================] - 0s 2ms/step - loss: 0.1077 - accuracy: 0.6573\n",
            "Epoch 139/200\n",
            "23/23 [==============================] - 0s 2ms/step - loss: 0.1076 - accuracy: 0.6573\n",
            "Epoch 140/200\n",
            "23/23 [==============================] - 0s 3ms/step - loss: 0.1075 - accuracy: 0.6573\n",
            "Epoch 141/200\n",
            "23/23 [==============================] - 0s 2ms/step - loss: 0.1075 - accuracy: 0.6629\n",
            "Epoch 142/200\n",
            "23/23 [==============================] - 0s 2ms/step - loss: 0.1076 - accuracy: 0.6643\n",
            "Epoch 143/200\n",
            "23/23 [==============================] - 0s 2ms/step - loss: 0.1075 - accuracy: 0.6601\n",
            "Epoch 144/200\n",
            "23/23 [==============================] - 0s 2ms/step - loss: 0.1076 - accuracy: 0.6643\n",
            "Epoch 145/200\n",
            "23/23 [==============================] - 0s 2ms/step - loss: 0.1076 - accuracy: 0.6573\n",
            "Epoch 146/200\n",
            "23/23 [==============================] - 0s 2ms/step - loss: 0.1075 - accuracy: 0.6643\n",
            "Epoch 147/200\n",
            "23/23 [==============================] - 0s 2ms/step - loss: 0.1077 - accuracy: 0.6601\n",
            "Epoch 148/200\n",
            "23/23 [==============================] - 0s 3ms/step - loss: 0.1077 - accuracy: 0.6615\n",
            "Epoch 149/200\n",
            "23/23 [==============================] - 0s 2ms/step - loss: 0.1075 - accuracy: 0.6629\n",
            "Epoch 150/200\n",
            "23/23 [==============================] - 0s 2ms/step - loss: 0.1076 - accuracy: 0.6573\n",
            "Epoch 151/200\n",
            "23/23 [==============================] - 0s 2ms/step - loss: 0.1076 - accuracy: 0.6643\n",
            "Epoch 152/200\n",
            "23/23 [==============================] - 0s 2ms/step - loss: 0.1077 - accuracy: 0.6559\n",
            "Epoch 153/200\n",
            "23/23 [==============================] - 0s 2ms/step - loss: 0.1076 - accuracy: 0.6587\n",
            "Epoch 154/200\n",
            "23/23 [==============================] - 0s 2ms/step - loss: 0.1075 - accuracy: 0.6629\n",
            "Epoch 155/200\n",
            "23/23 [==============================] - 0s 2ms/step - loss: 0.1075 - accuracy: 0.6629\n",
            "Epoch 156/200\n",
            "23/23 [==============================] - 0s 3ms/step - loss: 0.1075 - accuracy: 0.6657\n",
            "Epoch 157/200\n",
            "23/23 [==============================] - 0s 3ms/step - loss: 0.1077 - accuracy: 0.6587\n",
            "Epoch 158/200\n",
            "23/23 [==============================] - 0s 2ms/step - loss: 0.1076 - accuracy: 0.6615\n",
            "Epoch 159/200\n",
            "23/23 [==============================] - 0s 2ms/step - loss: 0.1076 - accuracy: 0.6615\n",
            "Epoch 160/200\n",
            "23/23 [==============================] - 0s 2ms/step - loss: 0.1075 - accuracy: 0.6629\n",
            "Epoch 161/200\n",
            "23/23 [==============================] - 0s 2ms/step - loss: 0.1075 - accuracy: 0.6573\n",
            "Epoch 162/200\n",
            "23/23 [==============================] - 0s 2ms/step - loss: 0.1077 - accuracy: 0.6573\n",
            "Epoch 163/200\n",
            "23/23 [==============================] - 0s 2ms/step - loss: 0.1076 - accuracy: 0.6657\n",
            "Epoch 164/200\n",
            "23/23 [==============================] - 0s 2ms/step - loss: 0.1075 - accuracy: 0.6657\n",
            "Epoch 165/200\n",
            "23/23 [==============================] - 0s 3ms/step - loss: 0.1078 - accuracy: 0.6615\n",
            "Epoch 166/200\n",
            "23/23 [==============================] - 0s 2ms/step - loss: 0.1075 - accuracy: 0.6657\n",
            "Epoch 167/200\n",
            "23/23 [==============================] - 0s 2ms/step - loss: 0.1075 - accuracy: 0.6601\n",
            "Epoch 168/200\n",
            "23/23 [==============================] - 0s 2ms/step - loss: 0.1075 - accuracy: 0.6615\n",
            "Epoch 169/200\n",
            "23/23 [==============================] - 0s 2ms/step - loss: 0.1074 - accuracy: 0.6615\n",
            "Epoch 170/200\n",
            "23/23 [==============================] - 0s 2ms/step - loss: 0.1075 - accuracy: 0.6629\n",
            "Epoch 171/200\n",
            "23/23 [==============================] - 0s 2ms/step - loss: 0.1075 - accuracy: 0.6615\n",
            "Epoch 172/200\n",
            "23/23 [==============================] - 0s 2ms/step - loss: 0.1076 - accuracy: 0.6559\n",
            "Epoch 173/200\n",
            "23/23 [==============================] - 0s 2ms/step - loss: 0.1074 - accuracy: 0.6671\n",
            "Epoch 174/200\n",
            "23/23 [==============================] - 0s 3ms/step - loss: 0.1075 - accuracy: 0.6629\n",
            "Epoch 175/200\n",
            "23/23 [==============================] - 0s 2ms/step - loss: 0.1075 - accuracy: 0.6657\n",
            "Epoch 176/200\n",
            "23/23 [==============================] - 0s 2ms/step - loss: 0.1074 - accuracy: 0.6657\n",
            "Epoch 177/200\n",
            "23/23 [==============================] - 0s 2ms/step - loss: 0.1074 - accuracy: 0.6643\n",
            "Epoch 178/200\n",
            "23/23 [==============================] - 0s 2ms/step - loss: 0.1073 - accuracy: 0.6643\n",
            "Epoch 179/200\n",
            "23/23 [==============================] - 0s 3ms/step - loss: 0.1074 - accuracy: 0.6629\n",
            "Epoch 180/200\n",
            "23/23 [==============================] - 0s 2ms/step - loss: 0.1074 - accuracy: 0.6657\n",
            "Epoch 181/200\n",
            "23/23 [==============================] - 0s 2ms/step - loss: 0.1075 - accuracy: 0.6671\n",
            "Epoch 182/200\n",
            "23/23 [==============================] - 0s 3ms/step - loss: 0.1073 - accuracy: 0.6615\n",
            "Epoch 183/200\n",
            "23/23 [==============================] - 0s 2ms/step - loss: 0.1075 - accuracy: 0.6629\n",
            "Epoch 184/200\n",
            "23/23 [==============================] - 0s 2ms/step - loss: 0.1073 - accuracy: 0.6629\n",
            "Epoch 185/200\n",
            "23/23 [==============================] - 0s 2ms/step - loss: 0.1073 - accuracy: 0.6671\n",
            "Epoch 186/200\n",
            "23/23 [==============================] - 0s 2ms/step - loss: 0.1074 - accuracy: 0.6657\n",
            "Epoch 187/200\n",
            "23/23 [==============================] - 0s 2ms/step - loss: 0.1073 - accuracy: 0.6657\n",
            "Epoch 188/200\n",
            "23/23 [==============================] - 0s 2ms/step - loss: 0.1074 - accuracy: 0.6643\n",
            "Epoch 189/200\n",
            "23/23 [==============================] - 0s 2ms/step - loss: 0.1073 - accuracy: 0.6671\n",
            "Epoch 190/200\n",
            "23/23 [==============================] - 0s 3ms/step - loss: 0.1074 - accuracy: 0.6657\n",
            "Epoch 191/200\n",
            "23/23 [==============================] - 0s 3ms/step - loss: 0.1073 - accuracy: 0.6671\n",
            "Epoch 192/200\n",
            "23/23 [==============================] - 0s 2ms/step - loss: 0.1073 - accuracy: 0.6671\n",
            "Epoch 193/200\n",
            "23/23 [==============================] - 0s 2ms/step - loss: 0.1074 - accuracy: 0.6657\n",
            "Epoch 194/200\n",
            "23/23 [==============================] - 0s 2ms/step - loss: 0.1075 - accuracy: 0.6601\n",
            "Epoch 195/200\n",
            "23/23 [==============================] - 0s 2ms/step - loss: 0.1074 - accuracy: 0.6657\n",
            "Epoch 196/200\n",
            "23/23 [==============================] - 0s 2ms/step - loss: 0.1073 - accuracy: 0.6615\n",
            "Epoch 197/200\n",
            "23/23 [==============================] - 0s 2ms/step - loss: 0.1075 - accuracy: 0.6643\n",
            "Epoch 198/200\n",
            "23/23 [==============================] - 0s 2ms/step - loss: 0.1074 - accuracy: 0.6615\n",
            "Epoch 199/200\n",
            "23/23 [==============================] - 0s 3ms/step - loss: 0.1074 - accuracy: 0.6671\n",
            "Epoch 200/200\n",
            "23/23 [==============================] - 0s 2ms/step - loss: 0.1073 - accuracy: 0.6629\n",
            "6/6 [==============================] - 0s 2ms/step\n",
            "Test Accuracy: 0.5955056179775281\n",
            "Optimized Hyperparameters\n",
            "Number of Units in Each Hidden Layer: [16, 12, 16, 8]\n",
            "Activation Function for Each Hidden Layer: ['sigmoid', 'relu', 'relu', 'sigmoid']\n",
            "Learning Rate: 0.0003062030472429413\n",
            "Epochs: 200\n",
            "Confusion Matrix:\n",
            "[[100   5   0]\n",
            " [ 64   6   0]\n",
            " [  3   0   0]]\n"
          ]
        }
      ],
      "source": [
        "def build_model(hp):\n",
        "    input_layer = Input(shape=16)\n",
        "    x = input_layer\n",
        "\n",
        "    for i in range(4):\n",
        "        units = hp.Int(f'units_{i}', min_value=8, max_value=18, step=4)\n",
        "        activation = hp.Choice(f'activation_{i}', ['relu', 'sigmoid', 'tanh'])\n",
        "        x = Dense(units=units, activation=activation)(x)\n",
        "    output = Dense(units=3, activation='softmax')(x)\n",
        "    model = Model(inputs=input_layer, outputs=output)\n",
        "\n",
        "    lr = hp.Float(\"learning_rate\", min_value=0.0001, max_value=0.3, sampling=\"log\")\n",
        "    epochs = hp.Int('epochs', min_value=50, max_value=200, step=50)\n",
        "\n",
        "    model.compile(optimizer=keras.optimizers.Adam(learning_rate=lr), loss='binary_focal_crossentropy', metrics=['accuracy'])\n",
        "    return model\n",
        "\n",
        "#X_train, X_test, y_train, y_test = train_test_split(df_normalized, classes_encoded, test_size=0.1, random_state=1)\n",
        "\n",
        "tuner = RandomSearch(\n",
        "    hypermodel=build_model,\n",
        "    objective='val_accuracy',\n",
        "    max_trials=3,\n",
        "    executions_per_trial=2,\n",
        "    directory='idk_dir',\n",
        "    project_name='hyperparams_optimization')\n",
        "\n",
        "tuner.search(X_train, y_train, epochs=100, validation_data=(X_test, y_test))\n",
        "\n",
        "best_hyperparameters = tuner.get_best_hyperparameters()[0]\n",
        "\n",
        "best_model = tuner.hypermodel.build(best_hyperparameters)\n",
        "\n",
        "best_model.fit(X_train, y_train, epochs=best_hyperparameters['epochs'])\n",
        "\n",
        "y_pred_probabilities = best_model.predict(X_test)\n",
        "y_pred = np.argmax(y_pred_probabilities, axis=1)\n",
        "y_true_expanded = np.argmax(y_test.values, axis=1)\n",
        "test_accuracy = accuracy_score(y_true_expanded, y_pred)\n",
        "\n",
        "print(\"Test Accuracy:\", test_accuracy)\n",
        "print(\"Optimized Hyperparameters\\nNumber of Units in Each Hidden Layer:\", [best_hyperparameters[f'units_{i}'] for i in range(4)])\n",
        "print(\"Activation Function for Each Hidden Layer:\", [best_hyperparameters[f'activation_{i}'] for i in range(4)])\n",
        "print(F\"Learning Rate: {best_hyperparameters['learning_rate']}\\nEpochs: {best_hyperparameters['epochs']}\")\n",
        "\n",
        "conf_matrix = confusion_matrix(y_true_expanded, y_pred)\n",
        "print(\"Confusion Matrix:\")\n",
        "print(conf_matrix)"
      ]
    },
    {
      "cell_type": "markdown",
      "metadata": {},
      "source": [
        "### Model 1 Updates"
      ]
    },
    {
      "cell_type": "code",
      "source": [
        "num_df = pd.read_csv(\"CSE-151A-Project-/final_num_df_cse151a.csv\")\n",
        "X = num_df.drop(['Class_$','Class_$$', 'Class_$$$', 'Class_'], axis=1).astype(float)\n",
        "y = num_df[['Class_$$', 'Class_$$$', 'Class_']].astype(float)\n",
        "X = X[['closed', 'location_cluster', 'rating', 'relevant_cat', 'cat_cluster','sentiment']]\n",
        "X['cat_cluster'] += 1\n",
        "X['location_cluster'] = X['location_cluster'].fillna(-1)\n",
        "X['location_cluster'] += 1\n",
        "display(X.shape)\n",
        "display(y.shape)\n",
        "\n",
        "X_train, X_test, y_train, y_test = train_test_split(X, y, test_size=0.2, random_state=0)\n",
        "early_stopping = tf.keras.callbacks.EarlyStopping(\n",
        "    monitor='accuracy',\n",
        "    min_delta=0,\n",
        "    patience=10,\n",
        "    verbose=0,\n",
        "    mode='auto',\n",
        "    baseline=None,\n",
        "    restore_best_weights=False,\n",
        "    start_from_epoch=0\n",
        ")\n",
        "\n",
        "a= y_train['Class_$$$'] * 3 + y_train['Class_$$'] * 2 + y_train['Class_']\n",
        "a -= 1\n",
        "class_weights = compute_class_weight(class_weight=\"balanced\", classes=np.unique(a), y=a)\n",
        "class_weight = {0: class_weights[0], 1: class_weights[1], 2: class_weights[2]}\n",
        "\n"
      ],
      "metadata": {
        "id": "K7fgHvwg4uiG"
      },
      "execution_count": null,
      "outputs": []
    },
    {
      "cell_type": "code",
      "source": [
        "def build_model(hp):\n",
        "    input_layer = Input(shape=6)\n",
        "    x = input_layer\n",
        "\n",
        "    for i in range(4):\n",
        "        units = hp.Int(f'units_{i}', min_value=8, max_value=18, step=4)\n",
        "        activation = hp.Choice(f'activation_{i}', ['relu', 'sigmoid', 'tanh'])\n",
        "        x = Dense(units=units, activation=activation)(x)\n",
        "    output = Dense(units=3, activation='softmax')(x)\n",
        "    model = Model(inputs=input_layer, outputs=output)\n",
        "\n",
        "    lr = hp.Float(\"learning_rate\", min_value=0.0001, max_value=0.3, sampling=\"log\")\n",
        "    epochs = hp.Int('epochs', min_value=50, max_value=200, step=50)\n",
        "\n",
        "    model.compile(optimizer=keras.optimizers.Adam(learning_rate=lr), loss='categorical_focal_crossentropy', metrics=['accuracy'], sample_weight_mode=class_weight)\n",
        "    return model\n",
        "\n",
        "tuner = RandomSearch(\n",
        "    hypermodel=build_model,\n",
        "    objective='accuracy',\n",
        "    max_trials=3,\n",
        "    executions_per_trial=2,\n",
        "    directory='save_directory',\n",
        "    project_name='hyperparams_optimization')\n",
        "\n",
        "tuner.search(X_train, y_train, epochs=100)\n",
        "\n",
        "best_hyperparameters = tuner.get_best_hyperparameters()[0]\n",
        "\n",
        "best_model = tuner.hypermodel.build(best_hyperparameters)\n",
        "\n",
        "best_model.fit(X_train, y_train, epochs=best_hyperparameters['epochs'])\n",
        "\n",
        "y_pred_probabilities = best_model.predict(X_test)\n",
        "y_pred = np.argmax(y_pred_probabilities, axis=1)\n",
        "y_true_expanded = np.argmax(y_test.values, axis=1)\n",
        "test_accuracy = accuracy_score(y_true_expanded, y_pred)\n",
        "\n",
        "print(\"Test Accuracy:\", test_accuracy)\n",
        "print(\"Optimized Hyperparameters\\nNumber of Units in Each Hidden Layer:\", [best_hyperparameters[f'units_{i}'] for i in range(4)])\n",
        "print(\"Activation Function for Each Hidden Layer:\", [best_hyperparameters[f'activation_{i}'] for i in range(4)])\n",
        "print(F\"Learning Rate: {best_hyperparameters['learning_rate']}\\nEpochs: {best_hyperparameters['epochs']}\")\n",
        "\n",
        "conf_matrix = confusion_matrix(y_true_expanded, y_pred)\n",
        "print(\"Confusion Matrix:\")\n",
        "print(conf_matrix)"
      ],
      "metadata": {
        "colab": {
          "base_uri": "https://localhost:8080/",
          "height": 1000
        },
        "id": "XtA5wMZNsUXG",
        "outputId": "e5f36609-3c24-4c5b-f178-9fc24ed012b6"
      },
      "execution_count": null,
      "outputs": [
        {
          "output_type": "stream",
          "name": "stdout",
          "text": [
            "Trial 3 Complete [00h 00m 39s]\n",
            "accuracy: 0.6375176310539246\n",
            "\n",
            "Best accuracy So Far: 0.6382228434085846\n",
            "Total elapsed time: 00h 01m 23s\n",
            "Epoch 1/150\n",
            "23/23 [==============================] - 2s 2ms/step - loss: 0.1530 - accuracy: 0.0141 \n",
            "Epoch 2/150\n",
            "23/23 [==============================] - 0s 2ms/step - loss: 0.1471 - accuracy: 0.0141\n",
            "Epoch 3/150\n",
            "23/23 [==============================] - 0s 3ms/step - loss: 0.1423 - accuracy: 0.0169\n",
            "Epoch 4/150\n",
            "23/23 [==============================] - 0s 2ms/step - loss: 0.1382 - accuracy: 0.0212\n",
            "Epoch 5/150\n",
            "23/23 [==============================] - 0s 2ms/step - loss: 0.1347 - accuracy: 0.0226\n",
            "Epoch 6/150\n",
            "23/23 [==============================] - 0s 2ms/step - loss: 0.1319 - accuracy: 0.0282\n",
            "Epoch 7/150\n",
            "23/23 [==============================] - 0s 2ms/step - loss: 0.1295 - accuracy: 0.0324\n",
            "Epoch 8/150\n",
            "23/23 [==============================] - 0s 2ms/step - loss: 0.1273 - accuracy: 0.0423\n",
            "Epoch 9/150\n",
            "23/23 [==============================] - 0s 2ms/step - loss: 0.1252 - accuracy: 0.0733\n",
            "Epoch 10/150\n",
            "23/23 [==============================] - 0s 2ms/step - loss: 0.1232 - accuracy: 0.1439\n",
            "Epoch 11/150\n",
            "23/23 [==============================] - 0s 2ms/step - loss: 0.1210 - accuracy: 0.3484\n",
            "Epoch 12/150\n",
            "23/23 [==============================] - 0s 2ms/step - loss: 0.1180 - accuracy: 0.6319\n",
            "Epoch 13/150\n",
            "23/23 [==============================] - 0s 2ms/step - loss: 0.1144 - accuracy: 0.6333\n",
            "Epoch 14/150\n",
            "23/23 [==============================] - 0s 2ms/step - loss: 0.1111 - accuracy: 0.6375\n",
            "Epoch 15/150\n",
            "23/23 [==============================] - 0s 2ms/step - loss: 0.1080 - accuracy: 0.6375\n",
            "Epoch 16/150\n",
            "23/23 [==============================] - 0s 2ms/step - loss: 0.1047 - accuracy: 0.6375\n",
            "Epoch 17/150\n",
            "23/23 [==============================] - 0s 2ms/step - loss: 0.1013 - accuracy: 0.6375\n",
            "Epoch 18/150\n",
            "23/23 [==============================] - 0s 3ms/step - loss: 0.0977 - accuracy: 0.6375\n",
            "Epoch 19/150\n",
            "23/23 [==============================] - 0s 2ms/step - loss: 0.0943 - accuracy: 0.6375\n",
            "Epoch 20/150\n",
            "23/23 [==============================] - 0s 3ms/step - loss: 0.0910 - accuracy: 0.6375\n",
            "Epoch 21/150\n",
            "23/23 [==============================] - 0s 2ms/step - loss: 0.0875 - accuracy: 0.6375\n",
            "Epoch 22/150\n",
            "23/23 [==============================] - 0s 2ms/step - loss: 0.0841 - accuracy: 0.6375\n",
            "Epoch 23/150\n",
            "23/23 [==============================] - 0s 2ms/step - loss: 0.0808 - accuracy: 0.6375\n",
            "Epoch 24/150\n",
            "23/23 [==============================] - 0s 4ms/step - loss: 0.0778 - accuracy: 0.6375\n",
            "Epoch 25/150\n",
            "23/23 [==============================] - 0s 4ms/step - loss: 0.0750 - accuracy: 0.6375\n",
            "Epoch 26/150\n",
            "23/23 [==============================] - 0s 4ms/step - loss: 0.0724 - accuracy: 0.6375\n",
            "Epoch 27/150\n",
            "23/23 [==============================] - 0s 4ms/step - loss: 0.0699 - accuracy: 0.6375\n",
            "Epoch 28/150\n",
            "23/23 [==============================] - 0s 3ms/step - loss: 0.0677 - accuracy: 0.6375\n",
            "Epoch 29/150\n",
            "23/23 [==============================] - 0s 4ms/step - loss: 0.0659 - accuracy: 0.6375\n",
            "Epoch 30/150\n",
            "23/23 [==============================] - 0s 4ms/step - loss: 0.0643 - accuracy: 0.6375\n",
            "Epoch 31/150\n",
            "23/23 [==============================] - 0s 5ms/step - loss: 0.0628 - accuracy: 0.6375\n",
            "Epoch 32/150\n",
            "23/23 [==============================] - 0s 4ms/step - loss: 0.0618 - accuracy: 0.6375\n",
            "Epoch 33/150\n",
            "23/23 [==============================] - 0s 3ms/step - loss: 0.0609 - accuracy: 0.6375\n",
            "Epoch 34/150\n",
            "23/23 [==============================] - 0s 4ms/step - loss: 0.0601 - accuracy: 0.6375\n",
            "Epoch 35/150\n",
            "23/23 [==============================] - 0s 2ms/step - loss: 0.0594 - accuracy: 0.6375\n",
            "Epoch 36/150\n",
            "23/23 [==============================] - 0s 2ms/step - loss: 0.0589 - accuracy: 0.6375\n",
            "Epoch 37/150\n",
            "23/23 [==============================] - 0s 3ms/step - loss: 0.0584 - accuracy: 0.6375\n",
            "Epoch 38/150\n",
            "23/23 [==============================] - 0s 2ms/step - loss: 0.0580 - accuracy: 0.6375\n",
            "Epoch 39/150\n",
            "23/23 [==============================] - 0s 2ms/step - loss: 0.0577 - accuracy: 0.6375\n",
            "Epoch 40/150\n",
            "23/23 [==============================] - 0s 2ms/step - loss: 0.0574 - accuracy: 0.6375\n",
            "Epoch 41/150\n",
            "23/23 [==============================] - 0s 2ms/step - loss: 0.0572 - accuracy: 0.6375\n",
            "Epoch 42/150\n",
            "23/23 [==============================] - 0s 2ms/step - loss: 0.0570 - accuracy: 0.6375\n",
            "Epoch 43/150\n",
            "23/23 [==============================] - 0s 2ms/step - loss: 0.0568 - accuracy: 0.6375\n",
            "Epoch 44/150\n",
            "23/23 [==============================] - 0s 2ms/step - loss: 0.0567 - accuracy: 0.6375\n",
            "Epoch 45/150\n",
            "23/23 [==============================] - 0s 2ms/step - loss: 0.0565 - accuracy: 0.6375\n",
            "Epoch 46/150\n",
            "23/23 [==============================] - 0s 3ms/step - loss: 0.0564 - accuracy: 0.6375\n",
            "Epoch 47/150\n",
            "23/23 [==============================] - 0s 2ms/step - loss: 0.0563 - accuracy: 0.6375\n",
            "Epoch 48/150\n",
            "23/23 [==============================] - 0s 2ms/step - loss: 0.0562 - accuracy: 0.6375\n",
            "Epoch 49/150\n",
            "23/23 [==============================] - 0s 2ms/step - loss: 0.0561 - accuracy: 0.6375\n",
            "Epoch 50/150\n",
            "23/23 [==============================] - 0s 3ms/step - loss: 0.0560 - accuracy: 0.6375\n",
            "Epoch 51/150\n",
            "23/23 [==============================] - 0s 2ms/step - loss: 0.0560 - accuracy: 0.6361\n",
            "Epoch 52/150\n",
            "23/23 [==============================] - 0s 2ms/step - loss: 0.0559 - accuracy: 0.6375\n",
            "Epoch 53/150\n",
            "23/23 [==============================] - 0s 2ms/step - loss: 0.0559 - accuracy: 0.6375\n",
            "Epoch 54/150\n",
            "23/23 [==============================] - 0s 2ms/step - loss: 0.0559 - accuracy: 0.6347\n",
            "Epoch 55/150\n",
            "23/23 [==============================] - 0s 2ms/step - loss: 0.0559 - accuracy: 0.6361\n",
            "Epoch 56/150\n",
            "23/23 [==============================] - 0s 2ms/step - loss: 0.0558 - accuracy: 0.6375\n",
            "Epoch 57/150\n",
            "23/23 [==============================] - 0s 2ms/step - loss: 0.0558 - accuracy: 0.6375\n",
            "Epoch 58/150\n",
            "23/23 [==============================] - 0s 2ms/step - loss: 0.0558 - accuracy: 0.6375\n",
            "Epoch 59/150\n",
            "23/23 [==============================] - 0s 2ms/step - loss: 0.0557 - accuracy: 0.6375\n",
            "Epoch 60/150\n",
            "23/23 [==============================] - 0s 2ms/step - loss: 0.0557 - accuracy: 0.6375\n",
            "Epoch 61/150\n",
            "23/23 [==============================] - 0s 2ms/step - loss: 0.0557 - accuracy: 0.6375\n",
            "Epoch 62/150\n",
            "23/23 [==============================] - 0s 2ms/step - loss: 0.0557 - accuracy: 0.6375\n",
            "Epoch 63/150\n",
            "23/23 [==============================] - 0s 2ms/step - loss: 0.0557 - accuracy: 0.6375\n",
            "Epoch 64/150\n",
            "23/23 [==============================] - 0s 3ms/step - loss: 0.0557 - accuracy: 0.6389\n",
            "Epoch 65/150\n",
            "23/23 [==============================] - 0s 2ms/step - loss: 0.0557 - accuracy: 0.6389\n",
            "Epoch 66/150\n",
            "23/23 [==============================] - 0s 2ms/step - loss: 0.0556 - accuracy: 0.6389\n",
            "Epoch 67/150\n",
            "23/23 [==============================] - 0s 2ms/step - loss: 0.0556 - accuracy: 0.6375\n",
            "Epoch 68/150\n",
            "23/23 [==============================] - 0s 2ms/step - loss: 0.0556 - accuracy: 0.6375\n",
            "Epoch 69/150\n",
            "23/23 [==============================] - 0s 2ms/step - loss: 0.0556 - accuracy: 0.6375\n",
            "Epoch 70/150\n",
            "23/23 [==============================] - 0s 2ms/step - loss: 0.0556 - accuracy: 0.6375\n",
            "Epoch 71/150\n",
            "23/23 [==============================] - 0s 3ms/step - loss: 0.0556 - accuracy: 0.6389\n",
            "Epoch 72/150\n",
            "23/23 [==============================] - 0s 2ms/step - loss: 0.0556 - accuracy: 0.6389\n",
            "Epoch 73/150\n",
            "23/23 [==============================] - 0s 2ms/step - loss: 0.0556 - accuracy: 0.6389\n",
            "Epoch 74/150\n",
            "23/23 [==============================] - 0s 2ms/step - loss: 0.0555 - accuracy: 0.6389\n",
            "Epoch 75/150\n",
            "23/23 [==============================] - 0s 2ms/step - loss: 0.0555 - accuracy: 0.6389\n",
            "Epoch 76/150\n",
            "23/23 [==============================] - 0s 2ms/step - loss: 0.0555 - accuracy: 0.6389\n",
            "Epoch 77/150\n",
            "23/23 [==============================] - 0s 2ms/step - loss: 0.0555 - accuracy: 0.6403\n",
            "Epoch 78/150\n",
            "23/23 [==============================] - 0s 2ms/step - loss: 0.0555 - accuracy: 0.6389\n",
            "Epoch 79/150\n",
            "23/23 [==============================] - 0s 3ms/step - loss: 0.0555 - accuracy: 0.6389\n",
            "Epoch 80/150\n",
            "23/23 [==============================] - 0s 2ms/step - loss: 0.0555 - accuracy: 0.6389\n",
            "Epoch 81/150\n",
            "23/23 [==============================] - 0s 3ms/step - loss: 0.0555 - accuracy: 0.6403\n",
            "Epoch 82/150\n",
            "23/23 [==============================] - 0s 2ms/step - loss: 0.0555 - accuracy: 0.6403\n",
            "Epoch 83/150\n",
            "23/23 [==============================] - 0s 2ms/step - loss: 0.0555 - accuracy: 0.6403\n",
            "Epoch 84/150\n",
            "23/23 [==============================] - 0s 2ms/step - loss: 0.0555 - accuracy: 0.6403\n",
            "Epoch 85/150\n",
            "23/23 [==============================] - 0s 2ms/step - loss: 0.0554 - accuracy: 0.6403\n",
            "Epoch 86/150\n",
            "23/23 [==============================] - 0s 2ms/step - loss: 0.0555 - accuracy: 0.6389\n",
            "Epoch 87/150\n",
            "23/23 [==============================] - 0s 2ms/step - loss: 0.0554 - accuracy: 0.6403\n",
            "Epoch 88/150\n",
            "23/23 [==============================] - 0s 2ms/step - loss: 0.0554 - accuracy: 0.6403\n",
            "Epoch 89/150\n",
            "23/23 [==============================] - 0s 2ms/step - loss: 0.0554 - accuracy: 0.6403\n",
            "Epoch 90/150\n",
            "23/23 [==============================] - 0s 2ms/step - loss: 0.0554 - accuracy: 0.6403\n",
            "Epoch 91/150\n",
            "23/23 [==============================] - 0s 2ms/step - loss: 0.0554 - accuracy: 0.6403\n",
            "Epoch 92/150\n",
            "23/23 [==============================] - 0s 3ms/step - loss: 0.0554 - accuracy: 0.6403\n",
            "Epoch 93/150\n",
            "23/23 [==============================] - 0s 2ms/step - loss: 0.0554 - accuracy: 0.6403\n",
            "Epoch 94/150\n",
            "23/23 [==============================] - 0s 3ms/step - loss: 0.0554 - accuracy: 0.6403\n",
            "Epoch 95/150\n",
            "23/23 [==============================] - 0s 2ms/step - loss: 0.0554 - accuracy: 0.6432\n",
            "Epoch 96/150\n",
            "23/23 [==============================] - 0s 2ms/step - loss: 0.0554 - accuracy: 0.6389\n",
            "Epoch 97/150\n",
            "23/23 [==============================] - 0s 3ms/step - loss: 0.0554 - accuracy: 0.6403\n",
            "Epoch 98/150\n",
            "23/23 [==============================] - 0s 3ms/step - loss: 0.0554 - accuracy: 0.6403\n",
            "Epoch 99/150\n",
            "23/23 [==============================] - 0s 3ms/step - loss: 0.0554 - accuracy: 0.6403\n",
            "Epoch 100/150\n",
            "23/23 [==============================] - 0s 2ms/step - loss: 0.0554 - accuracy: 0.6403\n",
            "Epoch 101/150\n",
            "23/23 [==============================] - 0s 2ms/step - loss: 0.0554 - accuracy: 0.6432\n",
            "Epoch 102/150\n",
            "23/23 [==============================] - 0s 3ms/step - loss: 0.0553 - accuracy: 0.6474\n",
            "Epoch 103/150\n",
            "23/23 [==============================] - 0s 4ms/step - loss: 0.0554 - accuracy: 0.6403\n",
            "Epoch 104/150\n",
            "23/23 [==============================] - 0s 4ms/step - loss: 0.0554 - accuracy: 0.6403\n",
            "Epoch 105/150\n",
            "23/23 [==============================] - 0s 4ms/step - loss: 0.0554 - accuracy: 0.6403\n",
            "Epoch 106/150\n",
            "23/23 [==============================] - 0s 4ms/step - loss: 0.0553 - accuracy: 0.6403\n",
            "Epoch 107/150\n",
            "23/23 [==============================] - 0s 3ms/step - loss: 0.0553 - accuracy: 0.6403\n",
            "Epoch 108/150\n",
            "23/23 [==============================] - 0s 3ms/step - loss: 0.0553 - accuracy: 0.6403\n",
            "Epoch 109/150\n",
            "23/23 [==============================] - 0s 4ms/step - loss: 0.0553 - accuracy: 0.6516\n",
            "Epoch 110/150\n",
            "23/23 [==============================] - 0s 4ms/step - loss: 0.0553 - accuracy: 0.6502\n",
            "Epoch 111/150\n",
            "23/23 [==============================] - 0s 4ms/step - loss: 0.0553 - accuracy: 0.6432\n",
            "Epoch 112/150\n",
            "23/23 [==============================] - 0s 4ms/step - loss: 0.0553 - accuracy: 0.6432\n",
            "Epoch 113/150\n",
            "23/23 [==============================] - 0s 2ms/step - loss: 0.0553 - accuracy: 0.6530\n",
            "Epoch 114/150\n",
            "23/23 [==============================] - 0s 2ms/step - loss: 0.0553 - accuracy: 0.6488\n",
            "Epoch 115/150\n",
            "23/23 [==============================] - 0s 2ms/step - loss: 0.0553 - accuracy: 0.6516\n",
            "Epoch 116/150\n",
            "23/23 [==============================] - 0s 2ms/step - loss: 0.0553 - accuracy: 0.6516\n",
            "Epoch 117/150\n",
            "23/23 [==============================] - 0s 2ms/step - loss: 0.0553 - accuracy: 0.6516\n",
            "Epoch 118/150\n",
            "23/23 [==============================] - 0s 2ms/step - loss: 0.0553 - accuracy: 0.6488\n",
            "Epoch 119/150\n",
            "23/23 [==============================] - 0s 2ms/step - loss: 0.0552 - accuracy: 0.6530\n",
            "Epoch 120/150\n",
            "23/23 [==============================] - 0s 2ms/step - loss: 0.0552 - accuracy: 0.6516\n",
            "Epoch 121/150\n",
            "23/23 [==============================] - 0s 2ms/step - loss: 0.0552 - accuracy: 0.6502\n",
            "Epoch 122/150\n",
            "23/23 [==============================] - 0s 2ms/step - loss: 0.0552 - accuracy: 0.6573\n",
            "Epoch 123/150\n",
            "23/23 [==============================] - 0s 3ms/step - loss: 0.0552 - accuracy: 0.6516\n",
            "Epoch 124/150\n",
            "23/23 [==============================] - 0s 3ms/step - loss: 0.0552 - accuracy: 0.6502\n",
            "Epoch 125/150\n",
            "23/23 [==============================] - 0s 3ms/step - loss: 0.0552 - accuracy: 0.6474\n",
            "Epoch 126/150\n",
            "23/23 [==============================] - 0s 2ms/step - loss: 0.0552 - accuracy: 0.6516\n",
            "Epoch 127/150\n",
            "23/23 [==============================] - 0s 2ms/step - loss: 0.0552 - accuracy: 0.6516\n",
            "Epoch 128/150\n",
            "23/23 [==============================] - 0s 2ms/step - loss: 0.0552 - accuracy: 0.6559\n",
            "Epoch 129/150\n",
            "23/23 [==============================] - 0s 2ms/step - loss: 0.0552 - accuracy: 0.6530\n",
            "Epoch 130/150\n",
            "23/23 [==============================] - 0s 2ms/step - loss: 0.0552 - accuracy: 0.6544\n",
            "Epoch 131/150\n",
            "23/23 [==============================] - 0s 2ms/step - loss: 0.0552 - accuracy: 0.6530\n",
            "Epoch 132/150\n",
            "23/23 [==============================] - 0s 2ms/step - loss: 0.0552 - accuracy: 0.6544\n",
            "Epoch 133/150\n",
            "23/23 [==============================] - 0s 2ms/step - loss: 0.0552 - accuracy: 0.6544\n",
            "Epoch 134/150\n",
            "23/23 [==============================] - 0s 2ms/step - loss: 0.0552 - accuracy: 0.6530\n",
            "Epoch 135/150\n",
            "23/23 [==============================] - 0s 2ms/step - loss: 0.0552 - accuracy: 0.6544\n",
            "Epoch 136/150\n",
            "23/23 [==============================] - 0s 2ms/step - loss: 0.0552 - accuracy: 0.6530\n",
            "Epoch 137/150\n",
            "23/23 [==============================] - 0s 2ms/step - loss: 0.0552 - accuracy: 0.6530\n",
            "Epoch 138/150\n",
            "23/23 [==============================] - 0s 2ms/step - loss: 0.0551 - accuracy: 0.6544\n",
            "Epoch 139/150\n",
            "23/23 [==============================] - 0s 2ms/step - loss: 0.0551 - accuracy: 0.6530\n",
            "Epoch 140/150\n",
            "23/23 [==============================] - 0s 2ms/step - loss: 0.0551 - accuracy: 0.6516\n",
            "Epoch 141/150\n",
            "23/23 [==============================] - 0s 2ms/step - loss: 0.0551 - accuracy: 0.6544\n",
            "Epoch 142/150\n",
            "23/23 [==============================] - 0s 2ms/step - loss: 0.0551 - accuracy: 0.6530\n",
            "Epoch 143/150\n",
            "23/23 [==============================] - 0s 3ms/step - loss: 0.0551 - accuracy: 0.6530\n",
            "Epoch 144/150\n",
            "23/23 [==============================] - 0s 2ms/step - loss: 0.0551 - accuracy: 0.6516\n",
            "Epoch 145/150\n",
            "23/23 [==============================] - 0s 2ms/step - loss: 0.0551 - accuracy: 0.6530\n",
            "Epoch 146/150\n",
            "23/23 [==============================] - 0s 2ms/step - loss: 0.0551 - accuracy: 0.6530\n",
            "Epoch 147/150\n",
            "23/23 [==============================] - 0s 2ms/step - loss: 0.0551 - accuracy: 0.6488\n",
            "Epoch 148/150\n",
            "23/23 [==============================] - 0s 2ms/step - loss: 0.0551 - accuracy: 0.6502\n",
            "Epoch 149/150\n",
            "23/23 [==============================] - 0s 3ms/step - loss: 0.0551 - accuracy: 0.6516\n",
            "Epoch 150/150\n",
            "23/23 [==============================] - 0s 2ms/step - loss: 0.0551 - accuracy: 0.6516\n",
            "6/6 [==============================] - 0s 2ms/step\n",
            "Test Accuracy: 0.6460674157303371\n",
            "Optimized Hyperparameters\n",
            "Number of Units in Each Hidden Layer: [8, 8, 8, 16]\n",
            "Activation Function for Each Hidden Layer: ['sigmoid', 'relu', 'tanh', 'relu']\n",
            "Learning Rate: 0.00012780021378211076\n",
            "Epochs: 150\n",
            "Confusion Matrix:\n",
            "[[107   4   0]\n",
            " [ 55   8   0]\n",
            " [  4   0   0]]\n"
          ]
        }
      ]
    },
    {
      "cell_type": "markdown",
      "metadata": {},
      "source": [
        "## Model 2: SVM"
      ]
    },
    {
      "cell_type": "markdown",
      "source": [
        "### Process Data"
      ],
      "metadata": {
        "id": "XZuZV4O2NNSL"
      }
    },
    {
      "cell_type": "code",
      "source": [
        "df = pd.read_csv('proc.csv', index_col=0)\n",
        "df = df[df.columns.drop(list(df.filter(regex='Unnamed')))] #Copied off stackoverflow here: https://stackoverflow.com/questions/19071199/drop-columns-whose-name-contains-a-specific-string-from-pandas-dataframe"
      ],
      "metadata": {
        "id": "LIdXSbU-M9hv"
      },
      "execution_count": 28,
      "outputs": []
    },
    {
      "cell_type": "code",
      "source": [
        "df['cat_cluster'] = df['cat_cluster'].fillna(0) #Fill NAs with 0s (should be in above section but i forgot :/)\n",
        "df['location_cluster'] = df['location_cluster'].fillna(0)"
      ],
      "metadata": {
        "id": "Elu1dOwaNR14"
      },
      "execution_count": 29,
      "outputs": []
    },
    {
      "cell_type": "code",
      "source": [
        "str_cols = ['name', 'address', 'gps', 'top_category', 'relevant_cat', 'translated', 'charged_words', 'price_words', 'categories', 'unixReviewTime', 'reviewTime']\n",
        "df_num = df[df.columns.drop(str_cols)]"
      ],
      "metadata": {
        "id": "jmssSxUKNUPD"
      },
      "execution_count": 30,
      "outputs": []
    },
    {
      "cell_type": "code",
      "source": [
        "df_num.head(5)"
      ],
      "metadata": {
        "colab": {
          "base_uri": "https://localhost:8080/",
          "height": 256
        },
        "id": "RfAgKhXiNf37",
        "outputId": "01b3c4e9-4226-4514-d41d-b76558ed7187"
      },
      "execution_count": 31,
      "outputs": [
        {
          "output_type": "execute_result",
          "data": {
            "text/plain": [
              "   closed           gPlusPlaceId  Class_$  Class_$$  Class_$$$  Class_$$$$  \\\n",
              "0   False  115757957627721988675        0         1          0           0   \n",
              "1   False  116555416797255000560        0         1          0           0   \n",
              "2    True  114781865961627441828        0         0          1           0   \n",
              "3   False  114735143729299990529        0         1          0           0   \n",
              "4   False  105589668159024738610        0         1          0           0   \n",
              "\n",
              "   location_cluster  rating  cat_cluster  Class_ca  ...  Class_de  Class_en  \\\n",
              "0               0.0     5.0          1.0         0  ...         0         1   \n",
              "1               0.0     4.0          0.0         0  ...         0         0   \n",
              "2               0.0     5.0          0.0         0  ...         0         0   \n",
              "3               0.0     5.0          0.0         0  ...         0         0   \n",
              "4               0.0     5.0          0.0         0  ...         0         0   \n",
              "\n",
              "   Class_es  Class_fr  Class_hi  Class_it  Class_ms  Class_nl  Class_pt  \\\n",
              "0         0         0         0         0         0         0         0   \n",
              "1         0         0         0         0         0         0         0   \n",
              "2         0         0         0         0         0         0         0   \n",
              "3         0         0         0         0         0         0         0   \n",
              "4         0         0         0         0         0         0         0   \n",
              "\n",
              "   Class_tr  \n",
              "0         0  \n",
              "1         0  \n",
              "2         0  \n",
              "3         0  \n",
              "4         0  \n",
              "\n",
              "[5 rows x 21 columns]"
            ],
            "text/html": [
              "\n",
              "  <div id=\"df-277bb182-448f-4571-b093-1def2fdf0b9f\" class=\"colab-df-container\">\n",
              "    <div>\n",
              "<style scoped>\n",
              "    .dataframe tbody tr th:only-of-type {\n",
              "        vertical-align: middle;\n",
              "    }\n",
              "\n",
              "    .dataframe tbody tr th {\n",
              "        vertical-align: top;\n",
              "    }\n",
              "\n",
              "    .dataframe thead th {\n",
              "        text-align: right;\n",
              "    }\n",
              "</style>\n",
              "<table border=\"1\" class=\"dataframe\">\n",
              "  <thead>\n",
              "    <tr style=\"text-align: right;\">\n",
              "      <th></th>\n",
              "      <th>closed</th>\n",
              "      <th>gPlusPlaceId</th>\n",
              "      <th>Class_$</th>\n",
              "      <th>Class_$$</th>\n",
              "      <th>Class_$$$</th>\n",
              "      <th>Class_$$$$</th>\n",
              "      <th>location_cluster</th>\n",
              "      <th>rating</th>\n",
              "      <th>cat_cluster</th>\n",
              "      <th>Class_ca</th>\n",
              "      <th>...</th>\n",
              "      <th>Class_de</th>\n",
              "      <th>Class_en</th>\n",
              "      <th>Class_es</th>\n",
              "      <th>Class_fr</th>\n",
              "      <th>Class_hi</th>\n",
              "      <th>Class_it</th>\n",
              "      <th>Class_ms</th>\n",
              "      <th>Class_nl</th>\n",
              "      <th>Class_pt</th>\n",
              "      <th>Class_tr</th>\n",
              "    </tr>\n",
              "  </thead>\n",
              "  <tbody>\n",
              "    <tr>\n",
              "      <th>0</th>\n",
              "      <td>False</td>\n",
              "      <td>115757957627721988675</td>\n",
              "      <td>0</td>\n",
              "      <td>1</td>\n",
              "      <td>0</td>\n",
              "      <td>0</td>\n",
              "      <td>0.0</td>\n",
              "      <td>5.0</td>\n",
              "      <td>1.0</td>\n",
              "      <td>0</td>\n",
              "      <td>...</td>\n",
              "      <td>0</td>\n",
              "      <td>1</td>\n",
              "      <td>0</td>\n",
              "      <td>0</td>\n",
              "      <td>0</td>\n",
              "      <td>0</td>\n",
              "      <td>0</td>\n",
              "      <td>0</td>\n",
              "      <td>0</td>\n",
              "      <td>0</td>\n",
              "    </tr>\n",
              "    <tr>\n",
              "      <th>1</th>\n",
              "      <td>False</td>\n",
              "      <td>116555416797255000560</td>\n",
              "      <td>0</td>\n",
              "      <td>1</td>\n",
              "      <td>0</td>\n",
              "      <td>0</td>\n",
              "      <td>0.0</td>\n",
              "      <td>4.0</td>\n",
              "      <td>0.0</td>\n",
              "      <td>0</td>\n",
              "      <td>...</td>\n",
              "      <td>0</td>\n",
              "      <td>0</td>\n",
              "      <td>0</td>\n",
              "      <td>0</td>\n",
              "      <td>0</td>\n",
              "      <td>0</td>\n",
              "      <td>0</td>\n",
              "      <td>0</td>\n",
              "      <td>0</td>\n",
              "      <td>0</td>\n",
              "    </tr>\n",
              "    <tr>\n",
              "      <th>2</th>\n",
              "      <td>True</td>\n",
              "      <td>114781865961627441828</td>\n",
              "      <td>0</td>\n",
              "      <td>0</td>\n",
              "      <td>1</td>\n",
              "      <td>0</td>\n",
              "      <td>0.0</td>\n",
              "      <td>5.0</td>\n",
              "      <td>0.0</td>\n",
              "      <td>0</td>\n",
              "      <td>...</td>\n",
              "      <td>0</td>\n",
              "      <td>0</td>\n",
              "      <td>0</td>\n",
              "      <td>0</td>\n",
              "      <td>0</td>\n",
              "      <td>0</td>\n",
              "      <td>0</td>\n",
              "      <td>0</td>\n",
              "      <td>0</td>\n",
              "      <td>0</td>\n",
              "    </tr>\n",
              "    <tr>\n",
              "      <th>3</th>\n",
              "      <td>False</td>\n",
              "      <td>114735143729299990529</td>\n",
              "      <td>0</td>\n",
              "      <td>1</td>\n",
              "      <td>0</td>\n",
              "      <td>0</td>\n",
              "      <td>0.0</td>\n",
              "      <td>5.0</td>\n",
              "      <td>0.0</td>\n",
              "      <td>0</td>\n",
              "      <td>...</td>\n",
              "      <td>0</td>\n",
              "      <td>0</td>\n",
              "      <td>0</td>\n",
              "      <td>0</td>\n",
              "      <td>0</td>\n",
              "      <td>0</td>\n",
              "      <td>0</td>\n",
              "      <td>0</td>\n",
              "      <td>0</td>\n",
              "      <td>0</td>\n",
              "    </tr>\n",
              "    <tr>\n",
              "      <th>4</th>\n",
              "      <td>False</td>\n",
              "      <td>105589668159024738610</td>\n",
              "      <td>0</td>\n",
              "      <td>1</td>\n",
              "      <td>0</td>\n",
              "      <td>0</td>\n",
              "      <td>0.0</td>\n",
              "      <td>5.0</td>\n",
              "      <td>0.0</td>\n",
              "      <td>0</td>\n",
              "      <td>...</td>\n",
              "      <td>0</td>\n",
              "      <td>0</td>\n",
              "      <td>0</td>\n",
              "      <td>0</td>\n",
              "      <td>0</td>\n",
              "      <td>0</td>\n",
              "      <td>0</td>\n",
              "      <td>0</td>\n",
              "      <td>0</td>\n",
              "      <td>0</td>\n",
              "    </tr>\n",
              "  </tbody>\n",
              "</table>\n",
              "<p>5 rows × 21 columns</p>\n",
              "</div>\n",
              "    <div class=\"colab-df-buttons\">\n",
              "\n",
              "  <div class=\"colab-df-container\">\n",
              "    <button class=\"colab-df-convert\" onclick=\"convertToInteractive('df-277bb182-448f-4571-b093-1def2fdf0b9f')\"\n",
              "            title=\"Convert this dataframe to an interactive table.\"\n",
              "            style=\"display:none;\">\n",
              "\n",
              "  <svg xmlns=\"http://www.w3.org/2000/svg\" height=\"24px\" viewBox=\"0 -960 960 960\">\n",
              "    <path d=\"M120-120v-720h720v720H120Zm60-500h600v-160H180v160Zm220 220h160v-160H400v160Zm0 220h160v-160H400v160ZM180-400h160v-160H180v160Zm440 0h160v-160H620v160ZM180-180h160v-160H180v160Zm440 0h160v-160H620v160Z\"/>\n",
              "  </svg>\n",
              "    </button>\n",
              "\n",
              "  <style>\n",
              "    .colab-df-container {\n",
              "      display:flex;\n",
              "      gap: 12px;\n",
              "    }\n",
              "\n",
              "    .colab-df-convert {\n",
              "      background-color: #E8F0FE;\n",
              "      border: none;\n",
              "      border-radius: 50%;\n",
              "      cursor: pointer;\n",
              "      display: none;\n",
              "      fill: #1967D2;\n",
              "      height: 32px;\n",
              "      padding: 0 0 0 0;\n",
              "      width: 32px;\n",
              "    }\n",
              "\n",
              "    .colab-df-convert:hover {\n",
              "      background-color: #E2EBFA;\n",
              "      box-shadow: 0px 1px 2px rgba(60, 64, 67, 0.3), 0px 1px 3px 1px rgba(60, 64, 67, 0.15);\n",
              "      fill: #174EA6;\n",
              "    }\n",
              "\n",
              "    .colab-df-buttons div {\n",
              "      margin-bottom: 4px;\n",
              "    }\n",
              "\n",
              "    [theme=dark] .colab-df-convert {\n",
              "      background-color: #3B4455;\n",
              "      fill: #D2E3FC;\n",
              "    }\n",
              "\n",
              "    [theme=dark] .colab-df-convert:hover {\n",
              "      background-color: #434B5C;\n",
              "      box-shadow: 0px 1px 3px 1px rgba(0, 0, 0, 0.15);\n",
              "      filter: drop-shadow(0px 1px 2px rgba(0, 0, 0, 0.3));\n",
              "      fill: #FFFFFF;\n",
              "    }\n",
              "  </style>\n",
              "\n",
              "    <script>\n",
              "      const buttonEl =\n",
              "        document.querySelector('#df-277bb182-448f-4571-b093-1def2fdf0b9f button.colab-df-convert');\n",
              "      buttonEl.style.display =\n",
              "        google.colab.kernel.accessAllowed ? 'block' : 'none';\n",
              "\n",
              "      async function convertToInteractive(key) {\n",
              "        const element = document.querySelector('#df-277bb182-448f-4571-b093-1def2fdf0b9f');\n",
              "        const dataTable =\n",
              "          await google.colab.kernel.invokeFunction('convertToInteractive',\n",
              "                                                    [key], {});\n",
              "        if (!dataTable) return;\n",
              "\n",
              "        const docLinkHtml = 'Like what you see? Visit the ' +\n",
              "          '<a target=\"_blank\" href=https://colab.research.google.com/notebooks/data_table.ipynb>data table notebook</a>'\n",
              "          + ' to learn more about interactive tables.';\n",
              "        element.innerHTML = '';\n",
              "        dataTable['output_type'] = 'display_data';\n",
              "        await google.colab.output.renderOutput(dataTable, element);\n",
              "        const docLink = document.createElement('div');\n",
              "        docLink.innerHTML = docLinkHtml;\n",
              "        element.appendChild(docLink);\n",
              "      }\n",
              "    </script>\n",
              "  </div>\n",
              "\n",
              "\n",
              "<div id=\"df-c56c34fc-61b5-4b90-bda3-e62edf09708a\">\n",
              "  <button class=\"colab-df-quickchart\" onclick=\"quickchart('df-c56c34fc-61b5-4b90-bda3-e62edf09708a')\"\n",
              "            title=\"Suggest charts\"\n",
              "            style=\"display:none;\">\n",
              "\n",
              "<svg xmlns=\"http://www.w3.org/2000/svg\" height=\"24px\"viewBox=\"0 0 24 24\"\n",
              "     width=\"24px\">\n",
              "    <g>\n",
              "        <path d=\"M19 3H5c-1.1 0-2 .9-2 2v14c0 1.1.9 2 2 2h14c1.1 0 2-.9 2-2V5c0-1.1-.9-2-2-2zM9 17H7v-7h2v7zm4 0h-2V7h2v10zm4 0h-2v-4h2v4z\"/>\n",
              "    </g>\n",
              "</svg>\n",
              "  </button>\n",
              "\n",
              "<style>\n",
              "  .colab-df-quickchart {\n",
              "      --bg-color: #E8F0FE;\n",
              "      --fill-color: #1967D2;\n",
              "      --hover-bg-color: #E2EBFA;\n",
              "      --hover-fill-color: #174EA6;\n",
              "      --disabled-fill-color: #AAA;\n",
              "      --disabled-bg-color: #DDD;\n",
              "  }\n",
              "\n",
              "  [theme=dark] .colab-df-quickchart {\n",
              "      --bg-color: #3B4455;\n",
              "      --fill-color: #D2E3FC;\n",
              "      --hover-bg-color: #434B5C;\n",
              "      --hover-fill-color: #FFFFFF;\n",
              "      --disabled-bg-color: #3B4455;\n",
              "      --disabled-fill-color: #666;\n",
              "  }\n",
              "\n",
              "  .colab-df-quickchart {\n",
              "    background-color: var(--bg-color);\n",
              "    border: none;\n",
              "    border-radius: 50%;\n",
              "    cursor: pointer;\n",
              "    display: none;\n",
              "    fill: var(--fill-color);\n",
              "    height: 32px;\n",
              "    padding: 0;\n",
              "    width: 32px;\n",
              "  }\n",
              "\n",
              "  .colab-df-quickchart:hover {\n",
              "    background-color: var(--hover-bg-color);\n",
              "    box-shadow: 0 1px 2px rgba(60, 64, 67, 0.3), 0 1px 3px 1px rgba(60, 64, 67, 0.15);\n",
              "    fill: var(--button-hover-fill-color);\n",
              "  }\n",
              "\n",
              "  .colab-df-quickchart-complete:disabled,\n",
              "  .colab-df-quickchart-complete:disabled:hover {\n",
              "    background-color: var(--disabled-bg-color);\n",
              "    fill: var(--disabled-fill-color);\n",
              "    box-shadow: none;\n",
              "  }\n",
              "\n",
              "  .colab-df-spinner {\n",
              "    border: 2px solid var(--fill-color);\n",
              "    border-color: transparent;\n",
              "    border-bottom-color: var(--fill-color);\n",
              "    animation:\n",
              "      spin 1s steps(1) infinite;\n",
              "  }\n",
              "\n",
              "  @keyframes spin {\n",
              "    0% {\n",
              "      border-color: transparent;\n",
              "      border-bottom-color: var(--fill-color);\n",
              "      border-left-color: var(--fill-color);\n",
              "    }\n",
              "    20% {\n",
              "      border-color: transparent;\n",
              "      border-left-color: var(--fill-color);\n",
              "      border-top-color: var(--fill-color);\n",
              "    }\n",
              "    30% {\n",
              "      border-color: transparent;\n",
              "      border-left-color: var(--fill-color);\n",
              "      border-top-color: var(--fill-color);\n",
              "      border-right-color: var(--fill-color);\n",
              "    }\n",
              "    40% {\n",
              "      border-color: transparent;\n",
              "      border-right-color: var(--fill-color);\n",
              "      border-top-color: var(--fill-color);\n",
              "    }\n",
              "    60% {\n",
              "      border-color: transparent;\n",
              "      border-right-color: var(--fill-color);\n",
              "    }\n",
              "    80% {\n",
              "      border-color: transparent;\n",
              "      border-right-color: var(--fill-color);\n",
              "      border-bottom-color: var(--fill-color);\n",
              "    }\n",
              "    90% {\n",
              "      border-color: transparent;\n",
              "      border-bottom-color: var(--fill-color);\n",
              "    }\n",
              "  }\n",
              "</style>\n",
              "\n",
              "  <script>\n",
              "    async function quickchart(key) {\n",
              "      const quickchartButtonEl =\n",
              "        document.querySelector('#' + key + ' button');\n",
              "      quickchartButtonEl.disabled = true;  // To prevent multiple clicks.\n",
              "      quickchartButtonEl.classList.add('colab-df-spinner');\n",
              "      try {\n",
              "        const charts = await google.colab.kernel.invokeFunction(\n",
              "            'suggestCharts', [key], {});\n",
              "      } catch (error) {\n",
              "        console.error('Error during call to suggestCharts:', error);\n",
              "      }\n",
              "      quickchartButtonEl.classList.remove('colab-df-spinner');\n",
              "      quickchartButtonEl.classList.add('colab-df-quickchart-complete');\n",
              "    }\n",
              "    (() => {\n",
              "      let quickchartButtonEl =\n",
              "        document.querySelector('#df-c56c34fc-61b5-4b90-bda3-e62edf09708a button');\n",
              "      quickchartButtonEl.style.display =\n",
              "        google.colab.kernel.accessAllowed ? 'block' : 'none';\n",
              "    })();\n",
              "  </script>\n",
              "</div>\n",
              "    </div>\n",
              "  </div>\n"
            ],
            "application/vnd.google.colaboratory.intrinsic+json": {
              "type": "dataframe",
              "variable_name": "df_num"
            }
          },
          "metadata": {},
          "execution_count": 31
        }
      ]
    },
    {
      "cell_type": "code",
      "source": [
        "def cost_label_enc(row):\n",
        "  if row['Class_$'] == 1:\n",
        "    return 1\n",
        "  elif row['Class_$$'] == 1:\n",
        "    return 2\n",
        "  elif row['Class_$$$'] == 1:\n",
        "    return 3\n",
        "  else:\n",
        "    return 4"
      ],
      "metadata": {
        "id": "NpKOqNOCPS7T"
      },
      "execution_count": 32,
      "outputs": []
    },
    {
      "cell_type": "code",
      "source": [
        "df_num['cost'] =df_num.apply(cost_label_enc, axis=1)\n",
        "df_num.drop(['Class_$', 'Class_$$', 'Class_$$$', 'Class_$$$$'], axis=1, inplace=True)"
      ],
      "metadata": {
        "id": "l5BPxJKYRbL6",
        "colab": {
          "base_uri": "https://localhost:8080/"
        },
        "outputId": "37ba3522-b666-4a45-b39b-ac2ce6889621"
      },
      "execution_count": 33,
      "outputs": [
        {
          "output_type": "stream",
          "name": "stderr",
          "text": [
            "<ipython-input-33-a9b45a91013f>:1: SettingWithCopyWarning: \n",
            "A value is trying to be set on a copy of a slice from a DataFrame.\n",
            "Try using .loc[row_indexer,col_indexer] = value instead\n",
            "\n",
            "See the caveats in the documentation: https://pandas.pydata.org/pandas-docs/stable/user_guide/indexing.html#returning-a-view-versus-a-copy\n",
            "  df_num['cost'] =df_num.apply(cost_label_enc, axis=1)\n",
            "<ipython-input-33-a9b45a91013f>:2: SettingWithCopyWarning: \n",
            "A value is trying to be set on a copy of a slice from a DataFrame\n",
            "\n",
            "See the caveats in the documentation: https://pandas.pydata.org/pandas-docs/stable/user_guide/indexing.html#returning-a-view-versus-a-copy\n",
            "  df_num.drop(['Class_$', 'Class_$$', 'Class_$$$', 'Class_$$$$'], axis=1, inplace=True)\n"
          ]
        }
      ]
    },
    {
      "cell_type": "code",
      "source": [
        "X = df_num.drop(['cost'], axis=1).astype(float)\n",
        "y = df_num[['cost']].astype(float)"
      ],
      "metadata": {
        "id": "23UF6RxCmjRb"
      },
      "execution_count": 34,
      "outputs": []
    },
    {
      "cell_type": "code",
      "source": [
        "#Resample\n",
        "#ros = RandomOverSampler(random_state=42)\n",
        "#X_res, y_res = ros.fit_resample(X, y)"
      ],
      "metadata": {
        "id": "jxknlVWToNZi"
      },
      "execution_count": 35,
      "outputs": []
    },
    {
      "cell_type": "code",
      "source": [
        "X_train, X_test, y_train, y_test = train_test_split(X, y, test_size=0.20, random_state=42)"
      ],
      "metadata": {
        "id": "zklaf-D-NoGB"
      },
      "execution_count": 36,
      "outputs": []
    },
    {
      "cell_type": "code",
      "source": [
        "scaler = StandardScaler()"
      ],
      "metadata": {
        "id": "iRz49SrlU3ee"
      },
      "execution_count": 37,
      "outputs": []
    },
    {
      "cell_type": "code",
      "source": [
        "#Scale all numbers\n",
        "X_train_num = scaler.fit_transform(X_train)\n",
        "X_test_num = scaler.fit_transform(X_test)"
      ],
      "metadata": {
        "id": "X3YuTYc2UHu9"
      },
      "execution_count": 38,
      "outputs": []
    },
    {
      "cell_type": "code",
      "source": [
        "#svm = SVC(kernel = 'linear', class_weight={1.0: 1, 2.0: 1.1160116448326055, 3.0: 1.9847222222222223, 4.0: 11.484848484848484}, decision_function_shape='ovo')\n",
        "\n",
        "#param_grid = {'C': [ 10, 100, 1000, 10_000, 100_000],\n",
        "#              'gamma': [5, 3, 1, 0.1, 0.01, 0.001, 0.0001],\n",
        "#              'kernel': ['rbf', 'sigmoid'],\n",
        "#              'class_weight': [{1.0: 1, 2.0: 1.1160116448326055, 3.0: 1.9847222222222223, 4.0: 11.484848484848484}]}\n",
        "\n",
        "#grid = GridSearchCV(SVC(), param_grid, refit = True, verbose = 2)\n",
        "\n",
        "#grid.fit(X_train_num, y_train.values.ravel())"
      ],
      "metadata": {
        "id": "LWrxshxgt_i2"
      },
      "execution_count": 40,
      "outputs": []
    },
    {
      "cell_type": "code",
      "source": [
        "#grid.best_params_"
      ],
      "metadata": {
        "id": "uYW_W96VuhrU"
      },
      "execution_count": 41,
      "outputs": []
    },
    {
      "cell_type": "code",
      "source": [
        "svm = SVC(kernel = 'linear', class_weight={1.0: 1, 2.0: 1.1160116448326054, 3.0: 1.9847222222222223, 4.0: 11.484848484848484}, decision_function_shape='ovo')"
      ],
      "metadata": {
        "id": "QA2CpYomujny"
      },
      "execution_count": 47,
      "outputs": []
    },
    {
      "cell_type": "code",
      "source": [
        "svm.fit(X_train_num, y_train)"
      ],
      "metadata": {
        "colab": {
          "base_uri": "https://localhost:8080/",
          "height": 165
        },
        "id": "FDDczHyBuuF8",
        "outputId": "2a942d50-44b4-49c7-cb14-229cf3189fe6"
      },
      "execution_count": 48,
      "outputs": [
        {
          "output_type": "stream",
          "name": "stderr",
          "text": [
            "/usr/local/lib/python3.10/dist-packages/sklearn/utils/validation.py:1143: DataConversionWarning: A column-vector y was passed when a 1d array was expected. Please change the shape of y to (n_samples, ), for example using ravel().\n",
            "  y = column_or_1d(y, warn=True)\n"
          ]
        },
        {
          "output_type": "execute_result",
          "data": {
            "text/plain": [
              "SVC(class_weight={1.0: 1, 2.0: 1.1160116448326054, 3.0: 1.9847222222222223,\n",
              "                  4.0: 11.484848484848484},\n",
              "    decision_function_shape='ovo', kernel='linear')"
            ],
            "text/html": [
              "<style>#sk-container-id-4 {color: black;background-color: white;}#sk-container-id-4 pre{padding: 0;}#sk-container-id-4 div.sk-toggleable {background-color: white;}#sk-container-id-4 label.sk-toggleable__label {cursor: pointer;display: block;width: 100%;margin-bottom: 0;padding: 0.3em;box-sizing: border-box;text-align: center;}#sk-container-id-4 label.sk-toggleable__label-arrow:before {content: \"▸\";float: left;margin-right: 0.25em;color: #696969;}#sk-container-id-4 label.sk-toggleable__label-arrow:hover:before {color: black;}#sk-container-id-4 div.sk-estimator:hover label.sk-toggleable__label-arrow:before {color: black;}#sk-container-id-4 div.sk-toggleable__content {max-height: 0;max-width: 0;overflow: hidden;text-align: left;background-color: #f0f8ff;}#sk-container-id-4 div.sk-toggleable__content pre {margin: 0.2em;color: black;border-radius: 0.25em;background-color: #f0f8ff;}#sk-container-id-4 input.sk-toggleable__control:checked~div.sk-toggleable__content {max-height: 200px;max-width: 100%;overflow: auto;}#sk-container-id-4 input.sk-toggleable__control:checked~label.sk-toggleable__label-arrow:before {content: \"▾\";}#sk-container-id-4 div.sk-estimator input.sk-toggleable__control:checked~label.sk-toggleable__label {background-color: #d4ebff;}#sk-container-id-4 div.sk-label input.sk-toggleable__control:checked~label.sk-toggleable__label {background-color: #d4ebff;}#sk-container-id-4 input.sk-hidden--visually {border: 0;clip: rect(1px 1px 1px 1px);clip: rect(1px, 1px, 1px, 1px);height: 1px;margin: -1px;overflow: hidden;padding: 0;position: absolute;width: 1px;}#sk-container-id-4 div.sk-estimator {font-family: monospace;background-color: #f0f8ff;border: 1px dotted black;border-radius: 0.25em;box-sizing: border-box;margin-bottom: 0.5em;}#sk-container-id-4 div.sk-estimator:hover {background-color: #d4ebff;}#sk-container-id-4 div.sk-parallel-item::after {content: \"\";width: 100%;border-bottom: 1px solid gray;flex-grow: 1;}#sk-container-id-4 div.sk-label:hover label.sk-toggleable__label {background-color: #d4ebff;}#sk-container-id-4 div.sk-serial::before {content: \"\";position: absolute;border-left: 1px solid gray;box-sizing: border-box;top: 0;bottom: 0;left: 50%;z-index: 0;}#sk-container-id-4 div.sk-serial {display: flex;flex-direction: column;align-items: center;background-color: white;padding-right: 0.2em;padding-left: 0.2em;position: relative;}#sk-container-id-4 div.sk-item {position: relative;z-index: 1;}#sk-container-id-4 div.sk-parallel {display: flex;align-items: stretch;justify-content: center;background-color: white;position: relative;}#sk-container-id-4 div.sk-item::before, #sk-container-id-4 div.sk-parallel-item::before {content: \"\";position: absolute;border-left: 1px solid gray;box-sizing: border-box;top: 0;bottom: 0;left: 50%;z-index: -1;}#sk-container-id-4 div.sk-parallel-item {display: flex;flex-direction: column;z-index: 1;position: relative;background-color: white;}#sk-container-id-4 div.sk-parallel-item:first-child::after {align-self: flex-end;width: 50%;}#sk-container-id-4 div.sk-parallel-item:last-child::after {align-self: flex-start;width: 50%;}#sk-container-id-4 div.sk-parallel-item:only-child::after {width: 0;}#sk-container-id-4 div.sk-dashed-wrapped {border: 1px dashed gray;margin: 0 0.4em 0.5em 0.4em;box-sizing: border-box;padding-bottom: 0.4em;background-color: white;}#sk-container-id-4 div.sk-label label {font-family: monospace;font-weight: bold;display: inline-block;line-height: 1.2em;}#sk-container-id-4 div.sk-label-container {text-align: center;}#sk-container-id-4 div.sk-container {/* jupyter's `normalize.less` sets `[hidden] { display: none; }` but bootstrap.min.css set `[hidden] { display: none !important; }` so we also need the `!important` here to be able to override the default hidden behavior on the sphinx rendered scikit-learn.org. See: https://github.com/scikit-learn/scikit-learn/issues/21755 */display: inline-block !important;position: relative;}#sk-container-id-4 div.sk-text-repr-fallback {display: none;}</style><div id=\"sk-container-id-4\" class=\"sk-top-container\"><div class=\"sk-text-repr-fallback\"><pre>SVC(class_weight={1.0: 1, 2.0: 1.1160116448326054, 3.0: 1.9847222222222223,\n",
              "                  4.0: 11.484848484848484},\n",
              "    decision_function_shape=&#x27;ovo&#x27;, kernel=&#x27;linear&#x27;)</pre><b>In a Jupyter environment, please rerun this cell to show the HTML representation or trust the notebook. <br />On GitHub, the HTML representation is unable to render, please try loading this page with nbviewer.org.</b></div><div class=\"sk-container\" hidden><div class=\"sk-item\"><div class=\"sk-estimator sk-toggleable\"><input class=\"sk-toggleable__control sk-hidden--visually\" id=\"sk-estimator-id-6\" type=\"checkbox\" checked><label for=\"sk-estimator-id-6\" class=\"sk-toggleable__label sk-toggleable__label-arrow\">SVC</label><div class=\"sk-toggleable__content\"><pre>SVC(class_weight={1.0: 1, 2.0: 1.1160116448326054, 3.0: 1.9847222222222223,\n",
              "                  4.0: 11.484848484848484},\n",
              "    decision_function_shape=&#x27;ovo&#x27;, kernel=&#x27;linear&#x27;)</pre></div></div></div></div></div>"
            ]
          },
          "metadata": {},
          "execution_count": 48
        }
      ]
    },
    {
      "cell_type": "code",
      "source": [
        "y_pred = svm.predict(X_test_num)"
      ],
      "metadata": {
        "id": "ig_vYgmQOC5w"
      },
      "execution_count": 49,
      "outputs": []
    },
    {
      "cell_type": "code",
      "source": [
        "y_pred"
      ],
      "metadata": {
        "colab": {
          "base_uri": "https://localhost:8080/"
        },
        "id": "3hHQ3EKoOapo",
        "outputId": "9ff2b42d-3dd7-4515-f876-c867fff2cfae"
      },
      "execution_count": 50,
      "outputs": [
        {
          "output_type": "execute_result",
          "data": {
            "text/plain": [
              "array([2., 2., 2., 2., 2., 3., 2., 3., 2., 2., 2., 3., 3., 2., 3., 2., 2.,\n",
              "       3., 2., 2., 2., 3., 2., 2., 3., 3., 2., 3., 2., 2., 2., 2., 2., 2.,\n",
              "       2., 2., 2., 3., 2., 3., 3., 2., 2., 2., 2., 2., 2., 2., 2., 2., 2.,\n",
              "       3., 2., 2., 2., 2., 2., 2., 2., 2., 2., 2., 3., 2., 2., 2., 2., 3.,\n",
              "       3., 3., 2., 2., 2., 2., 2., 2., 3., 2., 2., 2., 3., 3., 2., 3., 2.,\n",
              "       2., 2., 3., 2., 3., 3., 2., 3., 2., 2., 2., 2., 2., 3., 2., 2., 2.,\n",
              "       3., 2., 2., 2., 2., 3., 2., 2., 3., 3., 2., 2., 2., 2., 2., 3., 2.,\n",
              "       2., 2., 2., 3., 2., 2., 3., 2., 2., 2., 2., 2., 2., 2., 2., 2., 3.,\n",
              "       2., 3., 2., 2., 3., 2., 2., 2., 2., 3., 2., 2., 3., 2., 3., 2., 2.,\n",
              "       2., 2., 2., 2., 2., 2., 2., 2., 2., 2., 2., 2., 3., 3., 3., 2., 2.,\n",
              "       2., 2., 2., 2., 2., 3., 2., 2.])"
            ]
          },
          "metadata": {},
          "execution_count": 50
        }
      ]
    },
    {
      "cell_type": "code",
      "source": [
        "#Get results:\n",
        "\n",
        "print(classification_report(y_test, y_pred))"
      ],
      "metadata": {
        "id": "GElcBRGsTpFi",
        "colab": {
          "base_uri": "https://localhost:8080/"
        },
        "outputId": "e3a5ef03-079d-40a8-cd2e-168c54c001ed"
      },
      "execution_count": 51,
      "outputs": [
        {
          "output_type": "stream",
          "name": "stdout",
          "text": [
            "              precision    recall  f1-score   support\n",
            "\n",
            "         2.0       0.63      0.80      0.70       105\n",
            "         3.0       0.52      0.33      0.40        70\n",
            "         4.0       0.00      0.00      0.00         3\n",
            "\n",
            "    accuracy                           0.60       178\n",
            "   macro avg       0.38      0.38      0.37       178\n",
            "weighted avg       0.58      0.60      0.57       178\n",
            "\n"
          ]
        },
        {
          "output_type": "stream",
          "name": "stderr",
          "text": [
            "/usr/local/lib/python3.10/dist-packages/sklearn/metrics/_classification.py:1344: UndefinedMetricWarning: Precision and F-score are ill-defined and being set to 0.0 in labels with no predicted samples. Use `zero_division` parameter to control this behavior.\n",
            "  _warn_prf(average, modifier, msg_start, len(result))\n",
            "/usr/local/lib/python3.10/dist-packages/sklearn/metrics/_classification.py:1344: UndefinedMetricWarning: Precision and F-score are ill-defined and being set to 0.0 in labels with no predicted samples. Use `zero_division` parameter to control this behavior.\n",
            "  _warn_prf(average, modifier, msg_start, len(result))\n",
            "/usr/local/lib/python3.10/dist-packages/sklearn/metrics/_classification.py:1344: UndefinedMetricWarning: Precision and F-score are ill-defined and being set to 0.0 in labels with no predicted samples. Use `zero_division` parameter to control this behavior.\n",
            "  _warn_prf(average, modifier, msg_start, len(result))\n"
          ]
        }
      ]
    },
    {
      "cell_type": "code",
      "source": [
        "#Training error for SVM\n",
        "y_train_pred = svm.predict(X_train_num)\n",
        "train_error = [list(y_train.cost)[i] == y_train_pred[i] for i in range(len(y_train_pred))]"
      ],
      "metadata": {
        "id": "rayZxuqploVd"
      },
      "execution_count": 55,
      "outputs": []
    },
    {
      "cell_type": "code",
      "source": [
        "np.mean(train_error)"
      ],
      "metadata": {
        "colab": {
          "base_uri": "https://localhost:8080/"
        },
        "id": "Pm0N4JNUsDB6",
        "outputId": "7da609c9-032b-4f84-a3a9-35b95bf567f1"
      },
      "execution_count": 56,
      "outputs": [
        {
          "output_type": "execute_result",
          "data": {
            "text/plain": [
              "0.6304654442877292"
            ]
          },
          "metadata": {},
          "execution_count": 56
        }
      ]
    },
    {
      "cell_type": "code",
      "source": [
        "#Testing error\n",
        "#Training error for SVM\n",
        "y_test_pred = svm.predict(X_test_num)\n",
        "test_error = [list(y_test.cost)[i] == y_test_pred[i] for i in range(len(y_test_pred))]\n",
        "\n",
        "print(np.mean(test_error))"
      ],
      "metadata": {
        "colab": {
          "base_uri": "https://localhost:8080/"
        },
        "id": "fTF9KcU9sbQV",
        "outputId": "125b8f46-1fc3-4069-d9be-d9587ebc1045"
      },
      "execution_count": 58,
      "outputs": [
        {
          "output_type": "stream",
          "name": "stdout",
          "text": [
            "0.601123595505618\n"
          ]
        }
      ]
    },
    {
      "cell_type": "markdown",
      "metadata": {},
      "source": [
        "## Model 3: XGBoost"
      ]
    },
    {
      "cell_type": "code",
      "source": [
        "!pip install xgboost"
      ],
      "metadata": {
        "colab": {
          "base_uri": "https://localhost:8080/"
        },
        "id": "xJjrW9BbyUCQ",
        "outputId": "d3e1aae1-7c40-4cdc-e36a-71028f6c7dcd"
      },
      "execution_count": null,
      "outputs": [
        {
          "output_type": "stream",
          "name": "stdout",
          "text": [
            "Requirement already satisfied: xgboost in /usr/local/lib/python3.10/dist-packages (2.0.3)\n",
            "Requirement already satisfied: numpy in /usr/local/lib/python3.10/dist-packages (from xgboost) (1.25.2)\n",
            "Requirement already satisfied: scipy in /usr/local/lib/python3.10/dist-packages (from xgboost) (1.11.4)\n"
          ]
        }
      ]
    },
    {
      "cell_type": "markdown",
      "source": [
        "### Process Data"
      ],
      "metadata": {
        "id": "uNGbYon6yRck"
      }
    },
    {
      "cell_type": "code",
      "source": [
        "df = pd.read_csv('proc.csv')\n",
        "df = df[df.columns.drop(list(df.filter(regex='Unnamed')))]"
      ],
      "metadata": {
        "id": "fyLiLmy9ycjt"
      },
      "execution_count": null,
      "outputs": []
    },
    {
      "cell_type": "code",
      "source": [
        "df['cat_cluster'] = df['cat_cluster'].fillna(0) #Fill NAs with 0s (should be in above section but i forgot :/)\n",
        "df['location_cluster'] = df['location_cluster'].fillna(0)"
      ],
      "metadata": {
        "id": "BL6WncjEywmG"
      },
      "execution_count": null,
      "outputs": []
    },
    {
      "cell_type": "code",
      "source": [
        "str_cols = ['name', 'address', 'gps', 'top_category', 'relevant_cat', 'translated', 'charged_words', 'price_words', 'categories', 'unixReviewTime', 'reviewTime']\n",
        "df_num = df[df.columns.drop(str_cols)]"
      ],
      "metadata": {
        "id": "uVb2WtOKyzct"
      },
      "execution_count": null,
      "outputs": []
    },
    {
      "cell_type": "code",
      "source": [
        "df_num['Class_$'].mean(),df_num['Class_$$'].mean(),df_num['Class_$$$'].mean(),df_num['Class_$$$$'].mean()"
      ],
      "metadata": {
        "colab": {
          "base_uri": "https://localhost:8080/"
        },
        "id": "Kb4mRMYz14fV",
        "outputId": "e51aea47-3919-44e9-a113-6d5a954140cc"
      },
      "execution_count": null,
      "outputs": [
        {
          "output_type": "execute_result",
          "data": {
            "text/plain": [
              "(0.0, 0.6347237880496054, 0.34949267192784667, 0.015783540022547914)"
            ]
          },
          "metadata": {},
          "execution_count": 7
        }
      ]
    },
    {
      "cell_type": "code",
      "source": [
        "df_num.shape"
      ],
      "metadata": {
        "colab": {
          "base_uri": "https://localhost:8080/"
        },
        "id": "gf5mHnGmzGWx",
        "outputId": "55d9bfed-9e4a-4001-c19f-581da9ba8e20"
      },
      "execution_count": null,
      "outputs": [
        {
          "output_type": "execute_result",
          "data": {
            "text/plain": [
              "(887, 21)"
            ]
          },
          "metadata": {},
          "execution_count": 8
        }
      ]
    },
    {
      "cell_type": "code",
      "source": [
        "def cost_label_enc(row):\n",
        "  #Still want to maintain ordinal values but no $ instances, so it doesn't make sense to encode values as [2, 3, 4]\n",
        "  if row['Class_$$'] == 1:\n",
        "    return 0\n",
        "  elif row['Class_$$$'] == 1:\n",
        "    return 1\n",
        "  #For class $$$$:\n",
        "  else:\n",
        "    return 2"
      ],
      "metadata": {
        "id": "vj2QodgoziSR"
      },
      "execution_count": null,
      "outputs": []
    },
    {
      "cell_type": "code",
      "source": [
        "df_num['cost'] =df_num.apply(cost_label_enc, axis=1)\n",
        "df_num.drop(['Class_$', 'Class_$$', 'Class_$$$', 'Class_$$$$'], axis=1, inplace=True)"
      ],
      "metadata": {
        "id": "hJIoqTZUziPr",
        "colab": {
          "base_uri": "https://localhost:8080/"
        },
        "outputId": "5884a036-1be9-47aa-a99d-780f50846c65"
      },
      "execution_count": null,
      "outputs": [
        {
          "output_type": "stream",
          "name": "stderr",
          "text": [
            "<ipython-input-10-a9b45a91013f>:1: SettingWithCopyWarning: \n",
            "A value is trying to be set on a copy of a slice from a DataFrame.\n",
            "Try using .loc[row_indexer,col_indexer] = value instead\n",
            "\n",
            "See the caveats in the documentation: https://pandas.pydata.org/pandas-docs/stable/user_guide/indexing.html#returning-a-view-versus-a-copy\n",
            "  df_num['cost'] =df_num.apply(cost_label_enc, axis=1)\n",
            "<ipython-input-10-a9b45a91013f>:2: SettingWithCopyWarning: \n",
            "A value is trying to be set on a copy of a slice from a DataFrame\n",
            "\n",
            "See the caveats in the documentation: https://pandas.pydata.org/pandas-docs/stable/user_guide/indexing.html#returning-a-view-versus-a-copy\n",
            "  df_num.drop(['Class_$', 'Class_$$', 'Class_$$$', 'Class_$$$$'], axis=1, inplace=True)\n"
          ]
        }
      ]
    },
    {
      "cell_type": "code",
      "source": [
        "X = df_num.drop(['cost'], axis=1).astype(float)\n",
        "y = df_num[['cost']].astype(int)\n",
        "\n",
        "X_train, X_test, y_train, y_test = train_test_split(X, y, test_size=0.20, random_state=42)\n",
        "print(y_train.value_counts())"
      ],
      "metadata": {
        "id": "s4c-W7ngziMo",
        "colab": {
          "base_uri": "https://localhost:8080/"
        },
        "outputId": "374bbedb-7089-4717-a1e9-94e0b5799052"
      },
      "execution_count": null,
      "outputs": [
        {
          "output_type": "stream",
          "name": "stdout",
          "text": [
            "cost\n",
            "0       458\n",
            "1       240\n",
            "2        11\n",
            "dtype: int64\n"
          ]
        }
      ]
    },
    {
      "cell_type": "code",
      "source": [
        "scaler = StandardScaler()"
      ],
      "metadata": {
        "id": "DAkKtiILziDm"
      },
      "execution_count": null,
      "outputs": []
    },
    {
      "cell_type": "code",
      "source": [
        "#Scale all numbers\n",
        "X_train_num = scaler.fit_transform(X_train)\n",
        "X_test_num = scaler.fit_transform(X_test)"
      ],
      "metadata": {
        "id": "u2k6Nrsazo6P"
      },
      "execution_count": null,
      "outputs": []
    },
    {
      "cell_type": "markdown",
      "source": [
        "### XGBoost - No Oversampling"
      ],
      "metadata": {
        "id": "Y2NRqq2CzSGI"
      }
    },
    {
      "cell_type": "markdown",
      "source": [
        "https://xgboost.readthedocs.io/en/stable/parameter.html"
      ],
      "metadata": {
        "id": "u7ZGBR7K3Ars"
      }
    },
    {
      "cell_type": "code",
      "source": [
        "xgb = XGBClassifier(\n",
        "    n_estimators=2, max_depth=2,\n",
        "    learning_rate=1,\n",
        "    objective='multi:softmax',\n",
        "    eval_metric='merror',\n",
        "    #scale_pos_weight=\n",
        ")"
      ],
      "metadata": {
        "id": "dDgQvqulzUZH"
      },
      "execution_count": null,
      "outputs": []
    },
    {
      "cell_type": "code",
      "source": [
        "xgb.fit(X_train_num, y_train)"
      ],
      "metadata": {
        "colab": {
          "base_uri": "https://localhost:8080/",
          "height": 248
        },
        "id": "v-0e7gfS0yJq",
        "outputId": "fda02db2-4b3b-4d22-bcdf-f44943679e07"
      },
      "execution_count": null,
      "outputs": [
        {
          "output_type": "execute_result",
          "data": {
            "text/plain": [
              "XGBClassifier(base_score=None, booster=None, callbacks=None,\n",
              "              colsample_bylevel=None, colsample_bynode=None,\n",
              "              colsample_bytree=None, device=None, early_stopping_rounds=None,\n",
              "              enable_categorical=False, eval_metric='merror',\n",
              "              feature_types=None, gamma=None, grow_policy=None,\n",
              "              importance_type=None, interaction_constraints=None,\n",
              "              learning_rate=1, max_bin=None, max_cat_threshold=None,\n",
              "              max_cat_to_onehot=None, max_delta_step=None, max_depth=2,\n",
              "              max_leaves=None, min_child_weight=None, missing=nan,\n",
              "              monotone_constraints=None, multi_strategy=None, n_estimators=2,\n",
              "              n_jobs=None, num_parallel_tree=None, objective='multi:softmax', ...)"
            ],
            "text/html": [
              "<style>#sk-container-id-1 {color: black;background-color: white;}#sk-container-id-1 pre{padding: 0;}#sk-container-id-1 div.sk-toggleable {background-color: white;}#sk-container-id-1 label.sk-toggleable__label {cursor: pointer;display: block;width: 100%;margin-bottom: 0;padding: 0.3em;box-sizing: border-box;text-align: center;}#sk-container-id-1 label.sk-toggleable__label-arrow:before {content: \"▸\";float: left;margin-right: 0.25em;color: #696969;}#sk-container-id-1 label.sk-toggleable__label-arrow:hover:before {color: black;}#sk-container-id-1 div.sk-estimator:hover label.sk-toggleable__label-arrow:before {color: black;}#sk-container-id-1 div.sk-toggleable__content {max-height: 0;max-width: 0;overflow: hidden;text-align: left;background-color: #f0f8ff;}#sk-container-id-1 div.sk-toggleable__content pre {margin: 0.2em;color: black;border-radius: 0.25em;background-color: #f0f8ff;}#sk-container-id-1 input.sk-toggleable__control:checked~div.sk-toggleable__content {max-height: 200px;max-width: 100%;overflow: auto;}#sk-container-id-1 input.sk-toggleable__control:checked~label.sk-toggleable__label-arrow:before {content: \"▾\";}#sk-container-id-1 div.sk-estimator input.sk-toggleable__control:checked~label.sk-toggleable__label {background-color: #d4ebff;}#sk-container-id-1 div.sk-label input.sk-toggleable__control:checked~label.sk-toggleable__label {background-color: #d4ebff;}#sk-container-id-1 input.sk-hidden--visually {border: 0;clip: rect(1px 1px 1px 1px);clip: rect(1px, 1px, 1px, 1px);height: 1px;margin: -1px;overflow: hidden;padding: 0;position: absolute;width: 1px;}#sk-container-id-1 div.sk-estimator {font-family: monospace;background-color: #f0f8ff;border: 1px dotted black;border-radius: 0.25em;box-sizing: border-box;margin-bottom: 0.5em;}#sk-container-id-1 div.sk-estimator:hover {background-color: #d4ebff;}#sk-container-id-1 div.sk-parallel-item::after {content: \"\";width: 100%;border-bottom: 1px solid gray;flex-grow: 1;}#sk-container-id-1 div.sk-label:hover label.sk-toggleable__label {background-color: #d4ebff;}#sk-container-id-1 div.sk-serial::before {content: \"\";position: absolute;border-left: 1px solid gray;box-sizing: border-box;top: 0;bottom: 0;left: 50%;z-index: 0;}#sk-container-id-1 div.sk-serial {display: flex;flex-direction: column;align-items: center;background-color: white;padding-right: 0.2em;padding-left: 0.2em;position: relative;}#sk-container-id-1 div.sk-item {position: relative;z-index: 1;}#sk-container-id-1 div.sk-parallel {display: flex;align-items: stretch;justify-content: center;background-color: white;position: relative;}#sk-container-id-1 div.sk-item::before, #sk-container-id-1 div.sk-parallel-item::before {content: \"\";position: absolute;border-left: 1px solid gray;box-sizing: border-box;top: 0;bottom: 0;left: 50%;z-index: -1;}#sk-container-id-1 div.sk-parallel-item {display: flex;flex-direction: column;z-index: 1;position: relative;background-color: white;}#sk-container-id-1 div.sk-parallel-item:first-child::after {align-self: flex-end;width: 50%;}#sk-container-id-1 div.sk-parallel-item:last-child::after {align-self: flex-start;width: 50%;}#sk-container-id-1 div.sk-parallel-item:only-child::after {width: 0;}#sk-container-id-1 div.sk-dashed-wrapped {border: 1px dashed gray;margin: 0 0.4em 0.5em 0.4em;box-sizing: border-box;padding-bottom: 0.4em;background-color: white;}#sk-container-id-1 div.sk-label label {font-family: monospace;font-weight: bold;display: inline-block;line-height: 1.2em;}#sk-container-id-1 div.sk-label-container {text-align: center;}#sk-container-id-1 div.sk-container {/* jupyter's `normalize.less` sets `[hidden] { display: none; }` but bootstrap.min.css set `[hidden] { display: none !important; }` so we also need the `!important` here to be able to override the default hidden behavior on the sphinx rendered scikit-learn.org. See: https://github.com/scikit-learn/scikit-learn/issues/21755 */display: inline-block !important;position: relative;}#sk-container-id-1 div.sk-text-repr-fallback {display: none;}</style><div id=\"sk-container-id-1\" class=\"sk-top-container\"><div class=\"sk-text-repr-fallback\"><pre>XGBClassifier(base_score=None, booster=None, callbacks=None,\n",
              "              colsample_bylevel=None, colsample_bynode=None,\n",
              "              colsample_bytree=None, device=None, early_stopping_rounds=None,\n",
              "              enable_categorical=False, eval_metric=&#x27;merror&#x27;,\n",
              "              feature_types=None, gamma=None, grow_policy=None,\n",
              "              importance_type=None, interaction_constraints=None,\n",
              "              learning_rate=1, max_bin=None, max_cat_threshold=None,\n",
              "              max_cat_to_onehot=None, max_delta_step=None, max_depth=2,\n",
              "              max_leaves=None, min_child_weight=None, missing=nan,\n",
              "              monotone_constraints=None, multi_strategy=None, n_estimators=2,\n",
              "              n_jobs=None, num_parallel_tree=None, objective=&#x27;multi:softmax&#x27;, ...)</pre><b>In a Jupyter environment, please rerun this cell to show the HTML representation or trust the notebook. <br />On GitHub, the HTML representation is unable to render, please try loading this page with nbviewer.org.</b></div><div class=\"sk-container\" hidden><div class=\"sk-item\"><div class=\"sk-estimator sk-toggleable\"><input class=\"sk-toggleable__control sk-hidden--visually\" id=\"sk-estimator-id-1\" type=\"checkbox\" checked><label for=\"sk-estimator-id-1\" class=\"sk-toggleable__label sk-toggleable__label-arrow\">XGBClassifier</label><div class=\"sk-toggleable__content\"><pre>XGBClassifier(base_score=None, booster=None, callbacks=None,\n",
              "              colsample_bylevel=None, colsample_bynode=None,\n",
              "              colsample_bytree=None, device=None, early_stopping_rounds=None,\n",
              "              enable_categorical=False, eval_metric=&#x27;merror&#x27;,\n",
              "              feature_types=None, gamma=None, grow_policy=None,\n",
              "              importance_type=None, interaction_constraints=None,\n",
              "              learning_rate=1, max_bin=None, max_cat_threshold=None,\n",
              "              max_cat_to_onehot=None, max_delta_step=None, max_depth=2,\n",
              "              max_leaves=None, min_child_weight=None, missing=nan,\n",
              "              monotone_constraints=None, multi_strategy=None, n_estimators=2,\n",
              "              n_jobs=None, num_parallel_tree=None, objective=&#x27;multi:softmax&#x27;, ...)</pre></div></div></div></div></div>"
            ]
          },
          "metadata": {},
          "execution_count": 16
        }
      ]
    },
    {
      "cell_type": "code",
      "source": [
        "train_pred = xgb.predict(X_train_num)\n",
        "print(classification_report(y_train, train_pred))"
      ],
      "metadata": {
        "colab": {
          "base_uri": "https://localhost:8080/"
        },
        "id": "R8vuCHIGxbae",
        "outputId": "8cef0a0b-a589-4985-8713-b9c90598873f"
      },
      "execution_count": null,
      "outputs": [
        {
          "output_type": "stream",
          "name": "stdout",
          "text": [
            "              precision    recall  f1-score   support\n",
            "\n",
            "           0       0.68      0.92      0.78       458\n",
            "           1       0.59      0.23      0.33       240\n",
            "           2       0.00      0.00      0.00        11\n",
            "\n",
            "    accuracy                           0.67       709\n",
            "   macro avg       0.42      0.38      0.37       709\n",
            "weighted avg       0.64      0.67      0.62       709\n",
            "\n"
          ]
        },
        {
          "output_type": "stream",
          "name": "stderr",
          "text": [
            "/usr/local/lib/python3.10/dist-packages/sklearn/metrics/_classification.py:1344: UndefinedMetricWarning: Precision and F-score are ill-defined and being set to 0.0 in labels with no predicted samples. Use `zero_division` parameter to control this behavior.\n",
            "  _warn_prf(average, modifier, msg_start, len(result))\n",
            "/usr/local/lib/python3.10/dist-packages/sklearn/metrics/_classification.py:1344: UndefinedMetricWarning: Precision and F-score are ill-defined and being set to 0.0 in labels with no predicted samples. Use `zero_division` parameter to control this behavior.\n",
            "  _warn_prf(average, modifier, msg_start, len(result))\n",
            "/usr/local/lib/python3.10/dist-packages/sklearn/metrics/_classification.py:1344: UndefinedMetricWarning: Precision and F-score are ill-defined and being set to 0.0 in labels with no predicted samples. Use `zero_division` parameter to control this behavior.\n",
            "  _warn_prf(average, modifier, msg_start, len(result))\n"
          ]
        }
      ]
    },
    {
      "cell_type": "code",
      "source": [
        "pred = xgb.predict(X_test_num)"
      ],
      "metadata": {
        "id": "Ad4uCogu0yG7"
      },
      "execution_count": null,
      "outputs": []
    },
    {
      "cell_type": "code",
      "source": [
        "print(classification_report(y_test, pred))"
      ],
      "metadata": {
        "colab": {
          "base_uri": "https://localhost:8080/"
        },
        "id": "WBFmo-_M0x-e",
        "outputId": "f1bbfd1f-5816-4683-f802-3a6e6784158b"
      },
      "execution_count": null,
      "outputs": [
        {
          "output_type": "stream",
          "name": "stdout",
          "text": [
            "              precision    recall  f1-score   support\n",
            "\n",
            "           0       0.61      0.77      0.68       105\n",
            "           1       0.48      0.31      0.38        70\n",
            "           2       0.00      0.00      0.00         3\n",
            "\n",
            "    accuracy                           0.58       178\n",
            "   macro avg       0.36      0.36      0.35       178\n",
            "weighted avg       0.55      0.58      0.55       178\n",
            "\n"
          ]
        },
        {
          "output_type": "stream",
          "name": "stderr",
          "text": [
            "/usr/local/lib/python3.10/dist-packages/sklearn/metrics/_classification.py:1344: UndefinedMetricWarning: Precision and F-score are ill-defined and being set to 0.0 in labels with no predicted samples. Use `zero_division` parameter to control this behavior.\n",
            "  _warn_prf(average, modifier, msg_start, len(result))\n",
            "/usr/local/lib/python3.10/dist-packages/sklearn/metrics/_classification.py:1344: UndefinedMetricWarning: Precision and F-score are ill-defined and being set to 0.0 in labels with no predicted samples. Use `zero_division` parameter to control this behavior.\n",
            "  _warn_prf(average, modifier, msg_start, len(result))\n",
            "/usr/local/lib/python3.10/dist-packages/sklearn/metrics/_classification.py:1344: UndefinedMetricWarning: Precision and F-score are ill-defined and being set to 0.0 in labels with no predicted samples. Use `zero_division` parameter to control this behavior.\n",
            "  _warn_prf(average, modifier, msg_start, len(result))\n"
          ]
        }
      ]
    },
    {
      "cell_type": "code",
      "source": [
        "print(confusion_matrix(y_test, pred))"
      ],
      "metadata": {
        "colab": {
          "base_uri": "https://localhost:8080/"
        },
        "id": "_Itt75Wy05RO",
        "outputId": "65b32256-3050-41c8-bb48-c8683a383ec5"
      },
      "execution_count": null,
      "outputs": [
        {
          "output_type": "stream",
          "name": "stdout",
          "text": [
            "[[81 24  0]\n",
            " [48 22  0]\n",
            " [ 3  0  0]]\n"
          ]
        }
      ]
    },
    {
      "cell_type": "markdown",
      "source": [
        "### XGBoost - Oversampling"
      ],
      "metadata": {
        "id": "dhI5hK0uSl7y"
      }
    },
    {
      "cell_type": "code",
      "source": [
        "ros = RandomOverSampler(\n",
        "    sampling_strategy={\n",
        "        0: 500,\n",
        "        1: 300,\n",
        "        2: 200\n",
        "    }\n",
        ")\n",
        "\n",
        "X_train_ros, y_train_ros = ros.fit_resample(X_train, y_train)\n",
        "\n",
        "print(y_train_ros.value_counts())"
      ],
      "metadata": {
        "colab": {
          "base_uri": "https://localhost:8080/"
        },
        "id": "0-IOq3TmSmND",
        "outputId": "1ccbc8ab-73e8-4634-f1aa-9faf6427377c"
      },
      "execution_count": null,
      "outputs": [
        {
          "output_type": "stream",
          "name": "stdout",
          "text": [
            "cost\n",
            "0       500\n",
            "1       300\n",
            "2       200\n",
            "dtype: int64\n"
          ]
        },
        {
          "output_type": "stream",
          "name": "stderr",
          "text": [
            "/usr/local/lib/python3.10/dist-packages/imblearn/utils/_validation.py:313: UserWarning: After over-sampling, the number of samples (500) in class 0 will be larger than the number of samples in the majority class (class #0 -> 458)\n",
            "  warnings.warn(\n"
          ]
        }
      ]
    },
    {
      "cell_type": "code",
      "source": [
        "y_train_ros = y_train_ros.astype(int)\n",
        "y_test_ros = y_test.astype(int)"
      ],
      "metadata": {
        "id": "9FyeaYEsSpqK"
      },
      "execution_count": null,
      "outputs": []
    },
    {
      "cell_type": "code",
      "source": [
        "X_train_num_ros = scaler.fit_transform(X_train_ros)\n",
        "X_test_num_ros = scaler.fit_transform(X_test)"
      ],
      "metadata": {
        "id": "ekqTzypbSvPX"
      },
      "execution_count": null,
      "outputs": []
    },
    {
      "cell_type": "code",
      "source": [
        "xgb_oversampled = XGBClassifier(\n",
        "    n_estimators=2, max_depth=2,\n",
        "    learning_rate=1,\n",
        "    objective='multi:softmax',\n",
        "    eval_metric='merror'\n",
        ")"
      ],
      "metadata": {
        "id": "vnbFxQvoS3PG"
      },
      "execution_count": null,
      "outputs": []
    },
    {
      "cell_type": "code",
      "source": [
        "xgb_oversampled.fit(X_train_num_ros, y_train_ros)"
      ],
      "metadata": {
        "colab": {
          "base_uri": "https://localhost:8080/",
          "height": 248
        },
        "id": "hxcOD0cPS3MO",
        "outputId": "54f90051-e32a-465e-e2b8-56e6c61aaa35"
      },
      "execution_count": null,
      "outputs": [
        {
          "output_type": "execute_result",
          "data": {
            "text/plain": [
              "XGBClassifier(base_score=None, booster=None, callbacks=None,\n",
              "              colsample_bylevel=None, colsample_bynode=None,\n",
              "              colsample_bytree=None, device=None, early_stopping_rounds=None,\n",
              "              enable_categorical=False, eval_metric='merror',\n",
              "              feature_types=None, gamma=None, grow_policy=None,\n",
              "              importance_type=None, interaction_constraints=None,\n",
              "              learning_rate=1, max_bin=None, max_cat_threshold=None,\n",
              "              max_cat_to_onehot=None, max_delta_step=None, max_depth=2,\n",
              "              max_leaves=None, min_child_weight=None, missing=nan,\n",
              "              monotone_constraints=None, multi_strategy=None, n_estimators=2,\n",
              "              n_jobs=None, num_parallel_tree=None, objective='multi:softmax', ...)"
            ],
            "text/html": [
              "<style>#sk-container-id-2 {color: black;background-color: white;}#sk-container-id-2 pre{padding: 0;}#sk-container-id-2 div.sk-toggleable {background-color: white;}#sk-container-id-2 label.sk-toggleable__label {cursor: pointer;display: block;width: 100%;margin-bottom: 0;padding: 0.3em;box-sizing: border-box;text-align: center;}#sk-container-id-2 label.sk-toggleable__label-arrow:before {content: \"▸\";float: left;margin-right: 0.25em;color: #696969;}#sk-container-id-2 label.sk-toggleable__label-arrow:hover:before {color: black;}#sk-container-id-2 div.sk-estimator:hover label.sk-toggleable__label-arrow:before {color: black;}#sk-container-id-2 div.sk-toggleable__content {max-height: 0;max-width: 0;overflow: hidden;text-align: left;background-color: #f0f8ff;}#sk-container-id-2 div.sk-toggleable__content pre {margin: 0.2em;color: black;border-radius: 0.25em;background-color: #f0f8ff;}#sk-container-id-2 input.sk-toggleable__control:checked~div.sk-toggleable__content {max-height: 200px;max-width: 100%;overflow: auto;}#sk-container-id-2 input.sk-toggleable__control:checked~label.sk-toggleable__label-arrow:before {content: \"▾\";}#sk-container-id-2 div.sk-estimator input.sk-toggleable__control:checked~label.sk-toggleable__label {background-color: #d4ebff;}#sk-container-id-2 div.sk-label input.sk-toggleable__control:checked~label.sk-toggleable__label {background-color: #d4ebff;}#sk-container-id-2 input.sk-hidden--visually {border: 0;clip: rect(1px 1px 1px 1px);clip: rect(1px, 1px, 1px, 1px);height: 1px;margin: -1px;overflow: hidden;padding: 0;position: absolute;width: 1px;}#sk-container-id-2 div.sk-estimator {font-family: monospace;background-color: #f0f8ff;border: 1px dotted black;border-radius: 0.25em;box-sizing: border-box;margin-bottom: 0.5em;}#sk-container-id-2 div.sk-estimator:hover {background-color: #d4ebff;}#sk-container-id-2 div.sk-parallel-item::after {content: \"\";width: 100%;border-bottom: 1px solid gray;flex-grow: 1;}#sk-container-id-2 div.sk-label:hover label.sk-toggleable__label {background-color: #d4ebff;}#sk-container-id-2 div.sk-serial::before {content: \"\";position: absolute;border-left: 1px solid gray;box-sizing: border-box;top: 0;bottom: 0;left: 50%;z-index: 0;}#sk-container-id-2 div.sk-serial {display: flex;flex-direction: column;align-items: center;background-color: white;padding-right: 0.2em;padding-left: 0.2em;position: relative;}#sk-container-id-2 div.sk-item {position: relative;z-index: 1;}#sk-container-id-2 div.sk-parallel {display: flex;align-items: stretch;justify-content: center;background-color: white;position: relative;}#sk-container-id-2 div.sk-item::before, #sk-container-id-2 div.sk-parallel-item::before {content: \"\";position: absolute;border-left: 1px solid gray;box-sizing: border-box;top: 0;bottom: 0;left: 50%;z-index: -1;}#sk-container-id-2 div.sk-parallel-item {display: flex;flex-direction: column;z-index: 1;position: relative;background-color: white;}#sk-container-id-2 div.sk-parallel-item:first-child::after {align-self: flex-end;width: 50%;}#sk-container-id-2 div.sk-parallel-item:last-child::after {align-self: flex-start;width: 50%;}#sk-container-id-2 div.sk-parallel-item:only-child::after {width: 0;}#sk-container-id-2 div.sk-dashed-wrapped {border: 1px dashed gray;margin: 0 0.4em 0.5em 0.4em;box-sizing: border-box;padding-bottom: 0.4em;background-color: white;}#sk-container-id-2 div.sk-label label {font-family: monospace;font-weight: bold;display: inline-block;line-height: 1.2em;}#sk-container-id-2 div.sk-label-container {text-align: center;}#sk-container-id-2 div.sk-container {/* jupyter's `normalize.less` sets `[hidden] { display: none; }` but bootstrap.min.css set `[hidden] { display: none !important; }` so we also need the `!important` here to be able to override the default hidden behavior on the sphinx rendered scikit-learn.org. See: https://github.com/scikit-learn/scikit-learn/issues/21755 */display: inline-block !important;position: relative;}#sk-container-id-2 div.sk-text-repr-fallback {display: none;}</style><div id=\"sk-container-id-2\" class=\"sk-top-container\"><div class=\"sk-text-repr-fallback\"><pre>XGBClassifier(base_score=None, booster=None, callbacks=None,\n",
              "              colsample_bylevel=None, colsample_bynode=None,\n",
              "              colsample_bytree=None, device=None, early_stopping_rounds=None,\n",
              "              enable_categorical=False, eval_metric=&#x27;merror&#x27;,\n",
              "              feature_types=None, gamma=None, grow_policy=None,\n",
              "              importance_type=None, interaction_constraints=None,\n",
              "              learning_rate=1, max_bin=None, max_cat_threshold=None,\n",
              "              max_cat_to_onehot=None, max_delta_step=None, max_depth=2,\n",
              "              max_leaves=None, min_child_weight=None, missing=nan,\n",
              "              monotone_constraints=None, multi_strategy=None, n_estimators=2,\n",
              "              n_jobs=None, num_parallel_tree=None, objective=&#x27;multi:softmax&#x27;, ...)</pre><b>In a Jupyter environment, please rerun this cell to show the HTML representation or trust the notebook. <br />On GitHub, the HTML representation is unable to render, please try loading this page with nbviewer.org.</b></div><div class=\"sk-container\" hidden><div class=\"sk-item\"><div class=\"sk-estimator sk-toggleable\"><input class=\"sk-toggleable__control sk-hidden--visually\" id=\"sk-estimator-id-2\" type=\"checkbox\" checked><label for=\"sk-estimator-id-2\" class=\"sk-toggleable__label sk-toggleable__label-arrow\">XGBClassifier</label><div class=\"sk-toggleable__content\"><pre>XGBClassifier(base_score=None, booster=None, callbacks=None,\n",
              "              colsample_bylevel=None, colsample_bynode=None,\n",
              "              colsample_bytree=None, device=None, early_stopping_rounds=None,\n",
              "              enable_categorical=False, eval_metric=&#x27;merror&#x27;,\n",
              "              feature_types=None, gamma=None, grow_policy=None,\n",
              "              importance_type=None, interaction_constraints=None,\n",
              "              learning_rate=1, max_bin=None, max_cat_threshold=None,\n",
              "              max_cat_to_onehot=None, max_delta_step=None, max_depth=2,\n",
              "              max_leaves=None, min_child_weight=None, missing=nan,\n",
              "              monotone_constraints=None, multi_strategy=None, n_estimators=2,\n",
              "              n_jobs=None, num_parallel_tree=None, objective=&#x27;multi:softmax&#x27;, ...)</pre></div></div></div></div></div>"
            ]
          },
          "metadata": {},
          "execution_count": 26
        }
      ]
    },
    {
      "cell_type": "code",
      "source": [
        "oversampled_train_pred = xgb_oversampled.predict(X_train_num_ros)\n",
        "print(classification_report(y_train_ros, oversampled_train_pred))"
      ],
      "metadata": {
        "colab": {
          "base_uri": "https://localhost:8080/"
        },
        "id": "pltuFxejxoaw",
        "outputId": "3e193ed5-f89a-44ac-9622-cc5c0ec02f60"
      },
      "execution_count": null,
      "outputs": [
        {
          "output_type": "stream",
          "name": "stdout",
          "text": [
            "              precision    recall  f1-score   support\n",
            "\n",
            "           0       0.57      0.91      0.70       500\n",
            "           1       0.53      0.17      0.26       300\n",
            "           2       0.87      0.42      0.57       200\n",
            "\n",
            "    accuracy                           0.59      1000\n",
            "   macro avg       0.66      0.50      0.51      1000\n",
            "weighted avg       0.62      0.59      0.54      1000\n",
            "\n"
          ]
        }
      ]
    },
    {
      "cell_type": "code",
      "source": [
        "pred_oversampled = xgb_oversampled.predict(X_test_num_ros)"
      ],
      "metadata": {
        "id": "fs3QMRRkS3I-"
      },
      "execution_count": null,
      "outputs": []
    },
    {
      "cell_type": "code",
      "source": [
        "print(classification_report(y_test_ros, pred_oversampled))"
      ],
      "metadata": {
        "colab": {
          "base_uri": "https://localhost:8080/"
        },
        "id": "SNcmt71cS3GF",
        "outputId": "de649a5f-b09f-4f6f-d511-daf007e90964"
      },
      "execution_count": null,
      "outputs": [
        {
          "output_type": "stream",
          "name": "stdout",
          "text": [
            "              precision    recall  f1-score   support\n",
            "\n",
            "           0       0.63      0.85      0.72       105\n",
            "           1       0.56      0.29      0.38        70\n",
            "           2       0.00      0.00      0.00         3\n",
            "\n",
            "    accuracy                           0.61       178\n",
            "   macro avg       0.39      0.38      0.37       178\n",
            "weighted avg       0.59      0.61      0.57       178\n",
            "\n"
          ]
        },
        {
          "output_type": "stream",
          "name": "stderr",
          "text": [
            "/usr/local/lib/python3.10/dist-packages/sklearn/metrics/_classification.py:1344: UndefinedMetricWarning: Precision and F-score are ill-defined and being set to 0.0 in labels with no predicted samples. Use `zero_division` parameter to control this behavior.\n",
            "  _warn_prf(average, modifier, msg_start, len(result))\n",
            "/usr/local/lib/python3.10/dist-packages/sklearn/metrics/_classification.py:1344: UndefinedMetricWarning: Precision and F-score are ill-defined and being set to 0.0 in labels with no predicted samples. Use `zero_division` parameter to control this behavior.\n",
            "  _warn_prf(average, modifier, msg_start, len(result))\n",
            "/usr/local/lib/python3.10/dist-packages/sklearn/metrics/_classification.py:1344: UndefinedMetricWarning: Precision and F-score are ill-defined and being set to 0.0 in labels with no predicted samples. Use `zero_division` parameter to control this behavior.\n",
            "  _warn_prf(average, modifier, msg_start, len(result))\n"
          ]
        }
      ]
    },
    {
      "cell_type": "code",
      "source": [
        "print(confusion_matrix(y_test_ros, pred_oversampled))"
      ],
      "metadata": {
        "colab": {
          "base_uri": "https://localhost:8080/"
        },
        "id": "7eU5jxafTRY4",
        "outputId": "28ada275-01f7-4f0e-f6ea-4e993c181154"
      },
      "execution_count": null,
      "outputs": [
        {
          "output_type": "stream",
          "name": "stdout",
          "text": [
            "[[89 16  0]\n",
            " [50 20  0]\n",
            " [ 3  0  0]]\n"
          ]
        }
      ]
    },
    {
      "cell_type": "markdown",
      "source": [
        "### Gridsearch - No oversampling"
      ],
      "metadata": {
        "id": "ci0qlznYMwU2"
      }
    },
    {
      "cell_type": "code",
      "source": [
        "xgb_gridsearch = XGBClassifier(objective='multi:softmax', eval_metric='merror')"
      ],
      "metadata": {
        "id": "7vf0KVBqM6h1"
      },
      "execution_count": null,
      "outputs": []
    },
    {
      "cell_type": "code",
      "source": [
        "param_grid = {\n",
        "    'max_depth': [3, 4, 5],\n",
        "    'learning_rate': [0.1, 0.5, 1],\n",
        "    'subsample': [0.6, 0.8, 1.0],\n",
        "    'gamma': [0.0, 1.0],\n",
        "    'colsample_bytree': [0.5, 1]\n",
        "}"
      ],
      "metadata": {
        "id": "qv5PLpbNM8n5"
      },
      "execution_count": null,
      "outputs": []
    },
    {
      "cell_type": "code",
      "source": [
        "grid_search = GridSearchCV(estimator=xgb_gridsearch, param_grid=param_grid,\n",
        "                           scoring='f1_macro', cv=5, verbose=1)"
      ],
      "metadata": {
        "id": "HlOcUz1xNBPN"
      },
      "execution_count": null,
      "outputs": []
    },
    {
      "cell_type": "code",
      "source": [
        "grid_search.fit(X_train_num, y_train)"
      ],
      "metadata": {
        "colab": {
          "base_uri": "https://localhost:8080/",
          "height": 133
        },
        "id": "LKUj_pdCPLC6",
        "outputId": "3d578895-5538-40bb-ff97-ef2f5c244bcd"
      },
      "execution_count": null,
      "outputs": [
        {
          "output_type": "stream",
          "name": "stdout",
          "text": [
            "Fitting 5 folds for each of 108 candidates, totalling 540 fits\n"
          ]
        },
        {
          "output_type": "execute_result",
          "data": {
            "text/plain": [
              "GridSearchCV(cv=5,\n",
              "             estimator=XGBClassifier(base_score=None, booster=None,\n",
              "                                     callbacks=None, colsample_bylevel=None,\n",
              "                                     colsample_bynode=None,\n",
              "                                     colsample_bytree=None, device=None,\n",
              "                                     early_stopping_rounds=None,\n",
              "                                     enable_categorical=False,\n",
              "                                     eval_metric='merror', feature_types=None,\n",
              "                                     gamma=None, grow_policy=None,\n",
              "                                     importance_type=None,\n",
              "                                     interaction_constraints=None,\n",
              "                                     learning_rate=N...\n",
              "                                     max_delta_step=None, max_depth=None,\n",
              "                                     max_leaves=None, min_child_weight=None,\n",
              "                                     missing=nan, monotone_constraints=None,\n",
              "                                     multi_strategy=None, n_estimators=None,\n",
              "                                     n_jobs=None, num_parallel_tree=None,\n",
              "                                     objective='multi:softmax', ...),\n",
              "             param_grid={'colsample_bytree': [0.5, 1], 'gamma': [0.0, 1.0],\n",
              "                         'learning_rate': [0.1, 0.5, 1], 'max_depth': [3, 4, 5],\n",
              "                         'subsample': [0.6, 0.8, 1.0]},\n",
              "             scoring='f1_macro', verbose=1)"
            ],
            "text/html": [
              "<style>#sk-container-id-3 {color: black;background-color: white;}#sk-container-id-3 pre{padding: 0;}#sk-container-id-3 div.sk-toggleable {background-color: white;}#sk-container-id-3 label.sk-toggleable__label {cursor: pointer;display: block;width: 100%;margin-bottom: 0;padding: 0.3em;box-sizing: border-box;text-align: center;}#sk-container-id-3 label.sk-toggleable__label-arrow:before {content: \"▸\";float: left;margin-right: 0.25em;color: #696969;}#sk-container-id-3 label.sk-toggleable__label-arrow:hover:before {color: black;}#sk-container-id-3 div.sk-estimator:hover label.sk-toggleable__label-arrow:before {color: black;}#sk-container-id-3 div.sk-toggleable__content {max-height: 0;max-width: 0;overflow: hidden;text-align: left;background-color: #f0f8ff;}#sk-container-id-3 div.sk-toggleable__content pre {margin: 0.2em;color: black;border-radius: 0.25em;background-color: #f0f8ff;}#sk-container-id-3 input.sk-toggleable__control:checked~div.sk-toggleable__content {max-height: 200px;max-width: 100%;overflow: auto;}#sk-container-id-3 input.sk-toggleable__control:checked~label.sk-toggleable__label-arrow:before {content: \"▾\";}#sk-container-id-3 div.sk-estimator input.sk-toggleable__control:checked~label.sk-toggleable__label {background-color: #d4ebff;}#sk-container-id-3 div.sk-label input.sk-toggleable__control:checked~label.sk-toggleable__label {background-color: #d4ebff;}#sk-container-id-3 input.sk-hidden--visually {border: 0;clip: rect(1px 1px 1px 1px);clip: rect(1px, 1px, 1px, 1px);height: 1px;margin: -1px;overflow: hidden;padding: 0;position: absolute;width: 1px;}#sk-container-id-3 div.sk-estimator {font-family: monospace;background-color: #f0f8ff;border: 1px dotted black;border-radius: 0.25em;box-sizing: border-box;margin-bottom: 0.5em;}#sk-container-id-3 div.sk-estimator:hover {background-color: #d4ebff;}#sk-container-id-3 div.sk-parallel-item::after {content: \"\";width: 100%;border-bottom: 1px solid gray;flex-grow: 1;}#sk-container-id-3 div.sk-label:hover label.sk-toggleable__label {background-color: #d4ebff;}#sk-container-id-3 div.sk-serial::before {content: \"\";position: absolute;border-left: 1px solid gray;box-sizing: border-box;top: 0;bottom: 0;left: 50%;z-index: 0;}#sk-container-id-3 div.sk-serial {display: flex;flex-direction: column;align-items: center;background-color: white;padding-right: 0.2em;padding-left: 0.2em;position: relative;}#sk-container-id-3 div.sk-item {position: relative;z-index: 1;}#sk-container-id-3 div.sk-parallel {display: flex;align-items: stretch;justify-content: center;background-color: white;position: relative;}#sk-container-id-3 div.sk-item::before, #sk-container-id-3 div.sk-parallel-item::before {content: \"\";position: absolute;border-left: 1px solid gray;box-sizing: border-box;top: 0;bottom: 0;left: 50%;z-index: -1;}#sk-container-id-3 div.sk-parallel-item {display: flex;flex-direction: column;z-index: 1;position: relative;background-color: white;}#sk-container-id-3 div.sk-parallel-item:first-child::after {align-self: flex-end;width: 50%;}#sk-container-id-3 div.sk-parallel-item:last-child::after {align-self: flex-start;width: 50%;}#sk-container-id-3 div.sk-parallel-item:only-child::after {width: 0;}#sk-container-id-3 div.sk-dashed-wrapped {border: 1px dashed gray;margin: 0 0.4em 0.5em 0.4em;box-sizing: border-box;padding-bottom: 0.4em;background-color: white;}#sk-container-id-3 div.sk-label label {font-family: monospace;font-weight: bold;display: inline-block;line-height: 1.2em;}#sk-container-id-3 div.sk-label-container {text-align: center;}#sk-container-id-3 div.sk-container {/* jupyter's `normalize.less` sets `[hidden] { display: none; }` but bootstrap.min.css set `[hidden] { display: none !important; }` so we also need the `!important` here to be able to override the default hidden behavior on the sphinx rendered scikit-learn.org. See: https://github.com/scikit-learn/scikit-learn/issues/21755 */display: inline-block !important;position: relative;}#sk-container-id-3 div.sk-text-repr-fallback {display: none;}</style><div id=\"sk-container-id-3\" class=\"sk-top-container\"><div class=\"sk-text-repr-fallback\"><pre>GridSearchCV(cv=5,\n",
              "             estimator=XGBClassifier(base_score=None, booster=None,\n",
              "                                     callbacks=None, colsample_bylevel=None,\n",
              "                                     colsample_bynode=None,\n",
              "                                     colsample_bytree=None, device=None,\n",
              "                                     early_stopping_rounds=None,\n",
              "                                     enable_categorical=False,\n",
              "                                     eval_metric=&#x27;merror&#x27;, feature_types=None,\n",
              "                                     gamma=None, grow_policy=None,\n",
              "                                     importance_type=None,\n",
              "                                     interaction_constraints=None,\n",
              "                                     learning_rate=N...\n",
              "                                     max_delta_step=None, max_depth=None,\n",
              "                                     max_leaves=None, min_child_weight=None,\n",
              "                                     missing=nan, monotone_constraints=None,\n",
              "                                     multi_strategy=None, n_estimators=None,\n",
              "                                     n_jobs=None, num_parallel_tree=None,\n",
              "                                     objective=&#x27;multi:softmax&#x27;, ...),\n",
              "             param_grid={&#x27;colsample_bytree&#x27;: [0.5, 1], &#x27;gamma&#x27;: [0.0, 1.0],\n",
              "                         &#x27;learning_rate&#x27;: [0.1, 0.5, 1], &#x27;max_depth&#x27;: [3, 4, 5],\n",
              "                         &#x27;subsample&#x27;: [0.6, 0.8, 1.0]},\n",
              "             scoring=&#x27;f1_macro&#x27;, verbose=1)</pre><b>In a Jupyter environment, please rerun this cell to show the HTML representation or trust the notebook. <br />On GitHub, the HTML representation is unable to render, please try loading this page with nbviewer.org.</b></div><div class=\"sk-container\" hidden><div class=\"sk-item sk-dashed-wrapped\"><div class=\"sk-label-container\"><div class=\"sk-label sk-toggleable\"><input class=\"sk-toggleable__control sk-hidden--visually\" id=\"sk-estimator-id-3\" type=\"checkbox\" ><label for=\"sk-estimator-id-3\" class=\"sk-toggleable__label sk-toggleable__label-arrow\">GridSearchCV</label><div class=\"sk-toggleable__content\"><pre>GridSearchCV(cv=5,\n",
              "             estimator=XGBClassifier(base_score=None, booster=None,\n",
              "                                     callbacks=None, colsample_bylevel=None,\n",
              "                                     colsample_bynode=None,\n",
              "                                     colsample_bytree=None, device=None,\n",
              "                                     early_stopping_rounds=None,\n",
              "                                     enable_categorical=False,\n",
              "                                     eval_metric=&#x27;merror&#x27;, feature_types=None,\n",
              "                                     gamma=None, grow_policy=None,\n",
              "                                     importance_type=None,\n",
              "                                     interaction_constraints=None,\n",
              "                                     learning_rate=N...\n",
              "                                     max_delta_step=None, max_depth=None,\n",
              "                                     max_leaves=None, min_child_weight=None,\n",
              "                                     missing=nan, monotone_constraints=None,\n",
              "                                     multi_strategy=None, n_estimators=None,\n",
              "                                     n_jobs=None, num_parallel_tree=None,\n",
              "                                     objective=&#x27;multi:softmax&#x27;, ...),\n",
              "             param_grid={&#x27;colsample_bytree&#x27;: [0.5, 1], &#x27;gamma&#x27;: [0.0, 1.0],\n",
              "                         &#x27;learning_rate&#x27;: [0.1, 0.5, 1], &#x27;max_depth&#x27;: [3, 4, 5],\n",
              "                         &#x27;subsample&#x27;: [0.6, 0.8, 1.0]},\n",
              "             scoring=&#x27;f1_macro&#x27;, verbose=1)</pre></div></div></div><div class=\"sk-parallel\"><div class=\"sk-parallel-item\"><div class=\"sk-item\"><div class=\"sk-label-container\"><div class=\"sk-label sk-toggleable\"><input class=\"sk-toggleable__control sk-hidden--visually\" id=\"sk-estimator-id-4\" type=\"checkbox\" ><label for=\"sk-estimator-id-4\" class=\"sk-toggleable__label sk-toggleable__label-arrow\">estimator: XGBClassifier</label><div class=\"sk-toggleable__content\"><pre>XGBClassifier(base_score=None, booster=None, callbacks=None,\n",
              "              colsample_bylevel=None, colsample_bynode=None,\n",
              "              colsample_bytree=None, device=None, early_stopping_rounds=None,\n",
              "              enable_categorical=False, eval_metric=&#x27;merror&#x27;,\n",
              "              feature_types=None, gamma=None, grow_policy=None,\n",
              "              importance_type=None, interaction_constraints=None,\n",
              "              learning_rate=None, max_bin=None, max_cat_threshold=None,\n",
              "              max_cat_to_onehot=None, max_delta_step=None, max_depth=None,\n",
              "              max_leaves=None, min_child_weight=None, missing=nan,\n",
              "              monotone_constraints=None, multi_strategy=None, n_estimators=None,\n",
              "              n_jobs=None, num_parallel_tree=None, objective=&#x27;multi:softmax&#x27;, ...)</pre></div></div></div><div class=\"sk-serial\"><div class=\"sk-item\"><div class=\"sk-estimator sk-toggleable\"><input class=\"sk-toggleable__control sk-hidden--visually\" id=\"sk-estimator-id-5\" type=\"checkbox\" ><label for=\"sk-estimator-id-5\" class=\"sk-toggleable__label sk-toggleable__label-arrow\">XGBClassifier</label><div class=\"sk-toggleable__content\"><pre>XGBClassifier(base_score=None, booster=None, callbacks=None,\n",
              "              colsample_bylevel=None, colsample_bynode=None,\n",
              "              colsample_bytree=None, device=None, early_stopping_rounds=None,\n",
              "              enable_categorical=False, eval_metric=&#x27;merror&#x27;,\n",
              "              feature_types=None, gamma=None, grow_policy=None,\n",
              "              importance_type=None, interaction_constraints=None,\n",
              "              learning_rate=None, max_bin=None, max_cat_threshold=None,\n",
              "              max_cat_to_onehot=None, max_delta_step=None, max_depth=None,\n",
              "              max_leaves=None, min_child_weight=None, missing=nan,\n",
              "              monotone_constraints=None, multi_strategy=None, n_estimators=None,\n",
              "              n_jobs=None, num_parallel_tree=None, objective=&#x27;multi:softmax&#x27;, ...)</pre></div></div></div></div></div></div></div></div></div></div>"
            ]
          },
          "metadata": {},
          "execution_count": 35
        }
      ]
    },
    {
      "cell_type": "code",
      "source": [
        "top_params = grid_search.best_params_\n",
        "top_score = grid_search.best_score_\n",
        "top_model = grid_search.best_estimator_"
      ],
      "metadata": {
        "id": "-a5GurulPMjP"
      },
      "execution_count": null,
      "outputs": []
    },
    {
      "cell_type": "code",
      "source": [
        "top_params"
      ],
      "metadata": {
        "colab": {
          "base_uri": "https://localhost:8080/"
        },
        "id": "6wPEK1fFQShD",
        "outputId": "d17a5cea-aa69-4ca9-d0e4-50d634b1cdd2"
      },
      "execution_count": null,
      "outputs": [
        {
          "output_type": "execute_result",
          "data": {
            "text/plain": [
              "{'colsample_bytree': 0.5,\n",
              " 'gamma': 1.0,\n",
              " 'learning_rate': 1,\n",
              " 'max_depth': 5,\n",
              " 'subsample': 0.6}"
            ]
          },
          "metadata": {},
          "execution_count": 37
        }
      ]
    },
    {
      "cell_type": "code",
      "source": [
        "top_score"
      ],
      "metadata": {
        "colab": {
          "base_uri": "https://localhost:8080/"
        },
        "id": "YQdiXWxHQQd7",
        "outputId": "f72c5d28-72dd-418d-9c8c-928a697d21bb"
      },
      "execution_count": null,
      "outputs": [
        {
          "output_type": "execute_result",
          "data": {
            "text/plain": [
              "0.34942860750949944"
            ]
          },
          "metadata": {},
          "execution_count": 38
        }
      ]
    },
    {
      "cell_type": "code",
      "source": [
        "gs_train_pred = xgb.predict(X_train_num)\n",
        "print(classification_report(y_train, gs_train_pred))"
      ],
      "metadata": {
        "colab": {
          "base_uri": "https://localhost:8080/"
        },
        "id": "iEiD-nJDx4SB",
        "outputId": "6eefdb17-bbdf-49ca-f8fd-c8727eb2ede4"
      },
      "execution_count": null,
      "outputs": [
        {
          "output_type": "stream",
          "name": "stdout",
          "text": [
            "              precision    recall  f1-score   support\n",
            "\n",
            "           0       0.68      0.92      0.78       458\n",
            "           1       0.59      0.23      0.33       240\n",
            "           2       0.00      0.00      0.00        11\n",
            "\n",
            "    accuracy                           0.67       709\n",
            "   macro avg       0.42      0.38      0.37       709\n",
            "weighted avg       0.64      0.67      0.62       709\n",
            "\n"
          ]
        },
        {
          "output_type": "stream",
          "name": "stderr",
          "text": [
            "/usr/local/lib/python3.10/dist-packages/sklearn/metrics/_classification.py:1344: UndefinedMetricWarning: Precision and F-score are ill-defined and being set to 0.0 in labels with no predicted samples. Use `zero_division` parameter to control this behavior.\n",
            "  _warn_prf(average, modifier, msg_start, len(result))\n",
            "/usr/local/lib/python3.10/dist-packages/sklearn/metrics/_classification.py:1344: UndefinedMetricWarning: Precision and F-score are ill-defined and being set to 0.0 in labels with no predicted samples. Use `zero_division` parameter to control this behavior.\n",
            "  _warn_prf(average, modifier, msg_start, len(result))\n",
            "/usr/local/lib/python3.10/dist-packages/sklearn/metrics/_classification.py:1344: UndefinedMetricWarning: Precision and F-score are ill-defined and being set to 0.0 in labels with no predicted samples. Use `zero_division` parameter to control this behavior.\n",
            "  _warn_prf(average, modifier, msg_start, len(result))\n"
          ]
        }
      ]
    },
    {
      "cell_type": "code",
      "source": [
        "top_pred = top_model.predict(X_test_num)\n",
        "acc = (top_pred == y_test['cost']).mean()"
      ],
      "metadata": {
        "id": "oRjrVi_JPaeg"
      },
      "execution_count": null,
      "outputs": []
    },
    {
      "cell_type": "code",
      "source": [
        "print(classification_report(y_test, top_pred))"
      ],
      "metadata": {
        "colab": {
          "base_uri": "https://localhost:8080/"
        },
        "id": "oG_0IBVxQZn6",
        "outputId": "fe022242-180b-4158-a76c-d129b4e0f578"
      },
      "execution_count": null,
      "outputs": [
        {
          "output_type": "stream",
          "name": "stdout",
          "text": [
            "              precision    recall  f1-score   support\n",
            "\n",
            "           0       0.60      0.70      0.65       105\n",
            "           1       0.42      0.33      0.37        70\n",
            "           2       0.00      0.00      0.00         3\n",
            "\n",
            "    accuracy                           0.54       178\n",
            "   macro avg       0.34      0.34      0.34       178\n",
            "weighted avg       0.52      0.54      0.53       178\n",
            "\n"
          ]
        },
        {
          "output_type": "stream",
          "name": "stderr",
          "text": [
            "/usr/local/lib/python3.10/dist-packages/sklearn/metrics/_classification.py:1344: UndefinedMetricWarning: Precision and F-score are ill-defined and being set to 0.0 in labels with no predicted samples. Use `zero_division` parameter to control this behavior.\n",
            "  _warn_prf(average, modifier, msg_start, len(result))\n",
            "/usr/local/lib/python3.10/dist-packages/sklearn/metrics/_classification.py:1344: UndefinedMetricWarning: Precision and F-score are ill-defined and being set to 0.0 in labels with no predicted samples. Use `zero_division` parameter to control this behavior.\n",
            "  _warn_prf(average, modifier, msg_start, len(result))\n",
            "/usr/local/lib/python3.10/dist-packages/sklearn/metrics/_classification.py:1344: UndefinedMetricWarning: Precision and F-score are ill-defined and being set to 0.0 in labels with no predicted samples. Use `zero_division` parameter to control this behavior.\n",
            "  _warn_prf(average, modifier, msg_start, len(result))\n"
          ]
        }
      ]
    },
    {
      "cell_type": "code",
      "source": [
        "print(confusion_matrix(y_test, top_pred))"
      ],
      "metadata": {
        "colab": {
          "base_uri": "https://localhost:8080/"
        },
        "id": "K3HcBhNvQbql",
        "outputId": "eba21fe1-857b-4f9c-fd21-48e9e4c74661"
      },
      "execution_count": null,
      "outputs": [
        {
          "output_type": "stream",
          "name": "stdout",
          "text": [
            "[[74 31  0]\n",
            " [47 23  0]\n",
            " [ 2  1  0]]\n"
          ]
        }
      ]
    },
    {
      "cell_type": "code",
      "source": [
        "print(f'Top XGBoost Model Accuracy: {acc}')"
      ],
      "metadata": {
        "colab": {
          "base_uri": "https://localhost:8080/"
        },
        "id": "OgcYfl0mPi84",
        "outputId": "daf394d7-e67d-451a-9496-d038a0ffc9b7"
      },
      "execution_count": null,
      "outputs": [
        {
          "output_type": "stream",
          "name": "stdout",
          "text": [
            "Top XGBoost Model Accuracy: 0.5449438202247191\n"
          ]
        }
      ]
    },
    {
      "cell_type": "markdown",
      "source": [
        "### GridSearch with Oversampling"
      ],
      "metadata": {
        "id": "Xy9llXfJUlbh"
      }
    },
    {
      "cell_type": "code",
      "source": [
        "xgb_gridsearch_ros = XGBClassifier(objective='multi:softmax', eval_metric='merror')"
      ],
      "metadata": {
        "id": "ji13177uUtTF"
      },
      "execution_count": null,
      "outputs": []
    },
    {
      "cell_type": "code",
      "source": [
        "param_grid = {\n",
        "    'max_depth': [3, 4, 5],\n",
        "    'learning_rate': [0.1, 0.5, 1],\n",
        "    'subsample': [0.6, 0.8, 1.0],\n",
        "    'gamma': [0.0, 1.0],\n",
        "    'colsample_bytree': [0.5, 1]\n",
        "}"
      ],
      "metadata": {
        "id": "P0koEFDYUtQg"
      },
      "execution_count": null,
      "outputs": []
    },
    {
      "cell_type": "code",
      "source": [
        "grid_search_ros = GridSearchCV(estimator=xgb_gridsearch_ros, param_grid=param_grid,\n",
        "                           scoring='accuracy', cv=5, verbose=1)"
      ],
      "metadata": {
        "id": "9oLuPzynUozY"
      },
      "execution_count": null,
      "outputs": []
    },
    {
      "cell_type": "code",
      "source": [
        "grid_search_ros.fit(X_train_num_ros, y_train_ros)"
      ],
      "metadata": {
        "colab": {
          "base_uri": "https://localhost:8080/",
          "height": 133
        },
        "id": "AVkIrZupUowh",
        "outputId": "9c631e30-6771-4738-9048-16636f98b212"
      },
      "execution_count": null,
      "outputs": [
        {
          "output_type": "stream",
          "name": "stdout",
          "text": [
            "Fitting 5 folds for each of 108 candidates, totalling 540 fits\n"
          ]
        },
        {
          "output_type": "execute_result",
          "data": {
            "text/plain": [
              "GridSearchCV(cv=5,\n",
              "             estimator=XGBClassifier(base_score=None, booster=None,\n",
              "                                     callbacks=None, colsample_bylevel=None,\n",
              "                                     colsample_bynode=None,\n",
              "                                     colsample_bytree=None, device=None,\n",
              "                                     early_stopping_rounds=None,\n",
              "                                     enable_categorical=False,\n",
              "                                     eval_metric='merror', feature_types=None,\n",
              "                                     gamma=None, grow_policy=None,\n",
              "                                     importance_type=None,\n",
              "                                     interaction_constraints=None,\n",
              "                                     learning_rate=N...\n",
              "                                     max_delta_step=None, max_depth=None,\n",
              "                                     max_leaves=None, min_child_weight=None,\n",
              "                                     missing=nan, monotone_constraints=None,\n",
              "                                     multi_strategy=None, n_estimators=None,\n",
              "                                     n_jobs=None, num_parallel_tree=None,\n",
              "                                     objective='multi:softmax', ...),\n",
              "             param_grid={'colsample_bytree': [0.5, 1], 'gamma': [0.0, 1.0],\n",
              "                         'learning_rate': [0.1, 0.5, 1], 'max_depth': [3, 4, 5],\n",
              "                         'subsample': [0.6, 0.8, 1.0]},\n",
              "             scoring='accuracy', verbose=1)"
            ],
            "text/html": [
              "<style>#sk-container-id-4 {color: black;background-color: white;}#sk-container-id-4 pre{padding: 0;}#sk-container-id-4 div.sk-toggleable {background-color: white;}#sk-container-id-4 label.sk-toggleable__label {cursor: pointer;display: block;width: 100%;margin-bottom: 0;padding: 0.3em;box-sizing: border-box;text-align: center;}#sk-container-id-4 label.sk-toggleable__label-arrow:before {content: \"▸\";float: left;margin-right: 0.25em;color: #696969;}#sk-container-id-4 label.sk-toggleable__label-arrow:hover:before {color: black;}#sk-container-id-4 div.sk-estimator:hover label.sk-toggleable__label-arrow:before {color: black;}#sk-container-id-4 div.sk-toggleable__content {max-height: 0;max-width: 0;overflow: hidden;text-align: left;background-color: #f0f8ff;}#sk-container-id-4 div.sk-toggleable__content pre {margin: 0.2em;color: black;border-radius: 0.25em;background-color: #f0f8ff;}#sk-container-id-4 input.sk-toggleable__control:checked~div.sk-toggleable__content {max-height: 200px;max-width: 100%;overflow: auto;}#sk-container-id-4 input.sk-toggleable__control:checked~label.sk-toggleable__label-arrow:before {content: \"▾\";}#sk-container-id-4 div.sk-estimator input.sk-toggleable__control:checked~label.sk-toggleable__label {background-color: #d4ebff;}#sk-container-id-4 div.sk-label input.sk-toggleable__control:checked~label.sk-toggleable__label {background-color: #d4ebff;}#sk-container-id-4 input.sk-hidden--visually {border: 0;clip: rect(1px 1px 1px 1px);clip: rect(1px, 1px, 1px, 1px);height: 1px;margin: -1px;overflow: hidden;padding: 0;position: absolute;width: 1px;}#sk-container-id-4 div.sk-estimator {font-family: monospace;background-color: #f0f8ff;border: 1px dotted black;border-radius: 0.25em;box-sizing: border-box;margin-bottom: 0.5em;}#sk-container-id-4 div.sk-estimator:hover {background-color: #d4ebff;}#sk-container-id-4 div.sk-parallel-item::after {content: \"\";width: 100%;border-bottom: 1px solid gray;flex-grow: 1;}#sk-container-id-4 div.sk-label:hover label.sk-toggleable__label {background-color: #d4ebff;}#sk-container-id-4 div.sk-serial::before {content: \"\";position: absolute;border-left: 1px solid gray;box-sizing: border-box;top: 0;bottom: 0;left: 50%;z-index: 0;}#sk-container-id-4 div.sk-serial {display: flex;flex-direction: column;align-items: center;background-color: white;padding-right: 0.2em;padding-left: 0.2em;position: relative;}#sk-container-id-4 div.sk-item {position: relative;z-index: 1;}#sk-container-id-4 div.sk-parallel {display: flex;align-items: stretch;justify-content: center;background-color: white;position: relative;}#sk-container-id-4 div.sk-item::before, #sk-container-id-4 div.sk-parallel-item::before {content: \"\";position: absolute;border-left: 1px solid gray;box-sizing: border-box;top: 0;bottom: 0;left: 50%;z-index: -1;}#sk-container-id-4 div.sk-parallel-item {display: flex;flex-direction: column;z-index: 1;position: relative;background-color: white;}#sk-container-id-4 div.sk-parallel-item:first-child::after {align-self: flex-end;width: 50%;}#sk-container-id-4 div.sk-parallel-item:last-child::after {align-self: flex-start;width: 50%;}#sk-container-id-4 div.sk-parallel-item:only-child::after {width: 0;}#sk-container-id-4 div.sk-dashed-wrapped {border: 1px dashed gray;margin: 0 0.4em 0.5em 0.4em;box-sizing: border-box;padding-bottom: 0.4em;background-color: white;}#sk-container-id-4 div.sk-label label {font-family: monospace;font-weight: bold;display: inline-block;line-height: 1.2em;}#sk-container-id-4 div.sk-label-container {text-align: center;}#sk-container-id-4 div.sk-container {/* jupyter's `normalize.less` sets `[hidden] { display: none; }` but bootstrap.min.css set `[hidden] { display: none !important; }` so we also need the `!important` here to be able to override the default hidden behavior on the sphinx rendered scikit-learn.org. See: https://github.com/scikit-learn/scikit-learn/issues/21755 */display: inline-block !important;position: relative;}#sk-container-id-4 div.sk-text-repr-fallback {display: none;}</style><div id=\"sk-container-id-4\" class=\"sk-top-container\"><div class=\"sk-text-repr-fallback\"><pre>GridSearchCV(cv=5,\n",
              "             estimator=XGBClassifier(base_score=None, booster=None,\n",
              "                                     callbacks=None, colsample_bylevel=None,\n",
              "                                     colsample_bynode=None,\n",
              "                                     colsample_bytree=None, device=None,\n",
              "                                     early_stopping_rounds=None,\n",
              "                                     enable_categorical=False,\n",
              "                                     eval_metric=&#x27;merror&#x27;, feature_types=None,\n",
              "                                     gamma=None, grow_policy=None,\n",
              "                                     importance_type=None,\n",
              "                                     interaction_constraints=None,\n",
              "                                     learning_rate=N...\n",
              "                                     max_delta_step=None, max_depth=None,\n",
              "                                     max_leaves=None, min_child_weight=None,\n",
              "                                     missing=nan, monotone_constraints=None,\n",
              "                                     multi_strategy=None, n_estimators=None,\n",
              "                                     n_jobs=None, num_parallel_tree=None,\n",
              "                                     objective=&#x27;multi:softmax&#x27;, ...),\n",
              "             param_grid={&#x27;colsample_bytree&#x27;: [0.5, 1], &#x27;gamma&#x27;: [0.0, 1.0],\n",
              "                         &#x27;learning_rate&#x27;: [0.1, 0.5, 1], &#x27;max_depth&#x27;: [3, 4, 5],\n",
              "                         &#x27;subsample&#x27;: [0.6, 0.8, 1.0]},\n",
              "             scoring=&#x27;accuracy&#x27;, verbose=1)</pre><b>In a Jupyter environment, please rerun this cell to show the HTML representation or trust the notebook. <br />On GitHub, the HTML representation is unable to render, please try loading this page with nbviewer.org.</b></div><div class=\"sk-container\" hidden><div class=\"sk-item sk-dashed-wrapped\"><div class=\"sk-label-container\"><div class=\"sk-label sk-toggleable\"><input class=\"sk-toggleable__control sk-hidden--visually\" id=\"sk-estimator-id-6\" type=\"checkbox\" ><label for=\"sk-estimator-id-6\" class=\"sk-toggleable__label sk-toggleable__label-arrow\">GridSearchCV</label><div class=\"sk-toggleable__content\"><pre>GridSearchCV(cv=5,\n",
              "             estimator=XGBClassifier(base_score=None, booster=None,\n",
              "                                     callbacks=None, colsample_bylevel=None,\n",
              "                                     colsample_bynode=None,\n",
              "                                     colsample_bytree=None, device=None,\n",
              "                                     early_stopping_rounds=None,\n",
              "                                     enable_categorical=False,\n",
              "                                     eval_metric=&#x27;merror&#x27;, feature_types=None,\n",
              "                                     gamma=None, grow_policy=None,\n",
              "                                     importance_type=None,\n",
              "                                     interaction_constraints=None,\n",
              "                                     learning_rate=N...\n",
              "                                     max_delta_step=None, max_depth=None,\n",
              "                                     max_leaves=None, min_child_weight=None,\n",
              "                                     missing=nan, monotone_constraints=None,\n",
              "                                     multi_strategy=None, n_estimators=None,\n",
              "                                     n_jobs=None, num_parallel_tree=None,\n",
              "                                     objective=&#x27;multi:softmax&#x27;, ...),\n",
              "             param_grid={&#x27;colsample_bytree&#x27;: [0.5, 1], &#x27;gamma&#x27;: [0.0, 1.0],\n",
              "                         &#x27;learning_rate&#x27;: [0.1, 0.5, 1], &#x27;max_depth&#x27;: [3, 4, 5],\n",
              "                         &#x27;subsample&#x27;: [0.6, 0.8, 1.0]},\n",
              "             scoring=&#x27;accuracy&#x27;, verbose=1)</pre></div></div></div><div class=\"sk-parallel\"><div class=\"sk-parallel-item\"><div class=\"sk-item\"><div class=\"sk-label-container\"><div class=\"sk-label sk-toggleable\"><input class=\"sk-toggleable__control sk-hidden--visually\" id=\"sk-estimator-id-7\" type=\"checkbox\" ><label for=\"sk-estimator-id-7\" class=\"sk-toggleable__label sk-toggleable__label-arrow\">estimator: XGBClassifier</label><div class=\"sk-toggleable__content\"><pre>XGBClassifier(base_score=None, booster=None, callbacks=None,\n",
              "              colsample_bylevel=None, colsample_bynode=None,\n",
              "              colsample_bytree=None, device=None, early_stopping_rounds=None,\n",
              "              enable_categorical=False, eval_metric=&#x27;merror&#x27;,\n",
              "              feature_types=None, gamma=None, grow_policy=None,\n",
              "              importance_type=None, interaction_constraints=None,\n",
              "              learning_rate=None, max_bin=None, max_cat_threshold=None,\n",
              "              max_cat_to_onehot=None, max_delta_step=None, max_depth=None,\n",
              "              max_leaves=None, min_child_weight=None, missing=nan,\n",
              "              monotone_constraints=None, multi_strategy=None, n_estimators=None,\n",
              "              n_jobs=None, num_parallel_tree=None, objective=&#x27;multi:softmax&#x27;, ...)</pre></div></div></div><div class=\"sk-serial\"><div class=\"sk-item\"><div class=\"sk-estimator sk-toggleable\"><input class=\"sk-toggleable__control sk-hidden--visually\" id=\"sk-estimator-id-8\" type=\"checkbox\" ><label for=\"sk-estimator-id-8\" class=\"sk-toggleable__label sk-toggleable__label-arrow\">XGBClassifier</label><div class=\"sk-toggleable__content\"><pre>XGBClassifier(base_score=None, booster=None, callbacks=None,\n",
              "              colsample_bylevel=None, colsample_bynode=None,\n",
              "              colsample_bytree=None, device=None, early_stopping_rounds=None,\n",
              "              enable_categorical=False, eval_metric=&#x27;merror&#x27;,\n",
              "              feature_types=None, gamma=None, grow_policy=None,\n",
              "              importance_type=None, interaction_constraints=None,\n",
              "              learning_rate=None, max_bin=None, max_cat_threshold=None,\n",
              "              max_cat_to_onehot=None, max_delta_step=None, max_depth=None,\n",
              "              max_leaves=None, min_child_weight=None, missing=nan,\n",
              "              monotone_constraints=None, multi_strategy=None, n_estimators=None,\n",
              "              n_jobs=None, num_parallel_tree=None, objective=&#x27;multi:softmax&#x27;, ...)</pre></div></div></div></div></div></div></div></div></div></div>"
            ]
          },
          "metadata": {},
          "execution_count": 48
        }
      ]
    },
    {
      "cell_type": "code",
      "source": [
        "top_params_ros = grid_search_ros.best_params_\n",
        "top_score_ros = grid_search_ros.best_score_\n",
        "top_model_ros = grid_search_ros.best_estimator_"
      ],
      "metadata": {
        "id": "S85YHDB1Uoty"
      },
      "execution_count": null,
      "outputs": []
    },
    {
      "cell_type": "code",
      "source": [
        "top_params_ros"
      ],
      "metadata": {
        "colab": {
          "base_uri": "https://localhost:8080/"
        },
        "id": "fnmJj8VIUorQ",
        "outputId": "af0e9043-e729-47c2-9b45-20359695b583"
      },
      "execution_count": null,
      "outputs": [
        {
          "output_type": "execute_result",
          "data": {
            "text/plain": [
              "{'colsample_bytree': 1,\n",
              " 'gamma': 0.0,\n",
              " 'learning_rate': 1,\n",
              " 'max_depth': 5,\n",
              " 'subsample': 0.6}"
            ]
          },
          "metadata": {},
          "execution_count": 50
        }
      ]
    },
    {
      "cell_type": "code",
      "source": [
        "top_score_ros"
      ],
      "metadata": {
        "colab": {
          "base_uri": "https://localhost:8080/"
        },
        "id": "GFWJj4ciUooB",
        "outputId": "2c2c2f04-62b9-4e50-c5a4-0a98a7566864"
      },
      "execution_count": null,
      "outputs": [
        {
          "output_type": "execute_result",
          "data": {
            "text/plain": [
              "0.726"
            ]
          },
          "metadata": {},
          "execution_count": 51
        }
      ]
    },
    {
      "cell_type": "code",
      "source": [
        "gs_oversampled_train_pred = xgb.predict(X_train_num_ros)\n",
        "print(classification_report(y_train_ros, gs_oversampled_train_pred))"
      ],
      "metadata": {
        "colab": {
          "base_uri": "https://localhost:8080/"
        },
        "id": "EnE5kYfTya6X",
        "outputId": "02a998f2-cbca-48ed-82f0-f8733da03b59"
      },
      "execution_count": null,
      "outputs": [
        {
          "output_type": "stream",
          "name": "stdout",
          "text": [
            "              precision    recall  f1-score   support\n",
            "\n",
            "           0       0.53      0.75      0.62       500\n",
            "           1       0.42      0.41      0.41       300\n",
            "           2       0.00      0.00      0.00       200\n",
            "\n",
            "    accuracy                           0.50      1000\n",
            "   macro avg       0.32      0.39      0.34      1000\n",
            "weighted avg       0.39      0.50      0.43      1000\n",
            "\n"
          ]
        },
        {
          "output_type": "stream",
          "name": "stderr",
          "text": [
            "/usr/local/lib/python3.10/dist-packages/sklearn/metrics/_classification.py:1344: UndefinedMetricWarning: Precision and F-score are ill-defined and being set to 0.0 in labels with no predicted samples. Use `zero_division` parameter to control this behavior.\n",
            "  _warn_prf(average, modifier, msg_start, len(result))\n",
            "/usr/local/lib/python3.10/dist-packages/sklearn/metrics/_classification.py:1344: UndefinedMetricWarning: Precision and F-score are ill-defined and being set to 0.0 in labels with no predicted samples. Use `zero_division` parameter to control this behavior.\n",
            "  _warn_prf(average, modifier, msg_start, len(result))\n",
            "/usr/local/lib/python3.10/dist-packages/sklearn/metrics/_classification.py:1344: UndefinedMetricWarning: Precision and F-score are ill-defined and being set to 0.0 in labels with no predicted samples. Use `zero_division` parameter to control this behavior.\n",
            "  _warn_prf(average, modifier, msg_start, len(result))\n"
          ]
        }
      ]
    },
    {
      "cell_type": "code",
      "source": [
        "top_pred_ros = top_model_ros.predict(X_test_num_ros)\n",
        "acc_ros = (top_pred_ros == y_test['cost']).mean()"
      ],
      "metadata": {
        "id": "MsVMFk8sUol9"
      },
      "execution_count": null,
      "outputs": []
    },
    {
      "cell_type": "code",
      "source": [
        "print(classification_report(y_test, top_pred_ros))"
      ],
      "metadata": {
        "colab": {
          "base_uri": "https://localhost:8080/"
        },
        "id": "i7bS0IPRUoi8",
        "outputId": "92d7c2f8-2f46-4ced-8786-7d9014049c92"
      },
      "execution_count": null,
      "outputs": [
        {
          "output_type": "stream",
          "name": "stdout",
          "text": [
            "              precision    recall  f1-score   support\n",
            "\n",
            "           0       0.60      0.61      0.60       105\n",
            "           1       0.39      0.37      0.38        70\n",
            "           2       0.00      0.00      0.00         3\n",
            "\n",
            "    accuracy                           0.51       178\n",
            "   macro avg       0.33      0.33      0.33       178\n",
            "weighted avg       0.51      0.51      0.51       178\n",
            "\n"
          ]
        }
      ]
    },
    {
      "cell_type": "code",
      "source": [
        "print(confusion_matrix(y_test, top_pred_ros))"
      ],
      "metadata": {
        "colab": {
          "base_uri": "https://localhost:8080/"
        },
        "id": "U57del_XUogw",
        "outputId": "2b1b9599-191c-4428-b0b7-14ff80af7c39"
      },
      "execution_count": null,
      "outputs": [
        {
          "output_type": "stream",
          "name": "stdout",
          "text": [
            "[[64 41  0]\n",
            " [40 26  4]\n",
            " [ 3  0  0]]\n"
          ]
        }
      ]
    },
    {
      "cell_type": "code",
      "source": [
        "print(f'Top XGBoost Model Accuracy: {acc_ros}')"
      ],
      "metadata": {
        "colab": {
          "base_uri": "https://localhost:8080/"
        },
        "id": "vlUpZ4FEP-MX",
        "outputId": "69bd965c-46e1-4b33-dc3b-738bb85fb11e"
      },
      "execution_count": null,
      "outputs": [
        {
          "output_type": "stream",
          "name": "stdout",
          "text": [
            "Top XGBoost Model Accuracy: 0.5056179775280899\n"
          ]
        }
      ]
    },
    {
      "cell_type": "markdown",
      "source": [
        "### SMOTE Oversampling"
      ],
      "metadata": {
        "id": "owsBt9xoPLGk"
      }
    },
    {
      "cell_type": "code",
      "source": [
        "smote = SMOTE(random_state=64)\n",
        "X_train_smote, y_train_smote = smote.fit_resample(X_train, y_train)\n",
        "\n",
        "xgb = XGBClassifier(\n",
        "    n_estimators=100, max_depth=2,\n",
        "    learning_rate=1,\n",
        "    objective='multi:softmax',\n",
        "    eval_metric='mlogloss'\n",
        ")\n",
        "\n",
        "xgb.fit(X_train_smote, y_train_smote)\n",
        "predictions = xgb.predict(X_test)\n",
        "print(classification_report(y_test, predictions))"
      ],
      "metadata": {
        "id": "MudBZ_LoV2T0",
        "colab": {
          "base_uri": "https://localhost:8080/"
        },
        "outputId": "ddaa7cec-a88e-47fe-eb1d-e13004d3baa0"
      },
      "execution_count": null,
      "outputs": [
        {
          "output_type": "stream",
          "name": "stdout",
          "text": [
            "              precision    recall  f1-score   support\n",
            "\n",
            "           0       0.58      0.71      0.64       105\n",
            "           1       0.41      0.24      0.31        70\n",
            "           2       0.00      0.00      0.00         3\n",
            "\n",
            "    accuracy                           0.52       178\n",
            "   macro avg       0.33      0.32      0.31       178\n",
            "weighted avg       0.50      0.52      0.50       178\n",
            "\n"
          ]
        }
      ]
    },
    {
      "cell_type": "code",
      "source": [
        "predictions = xgb.predict(X_train_smote)\n",
        "print(classification_report(y_train_smote, predictions))"
      ],
      "metadata": {
        "id": "vsG6gyyEP9zC",
        "colab": {
          "base_uri": "https://localhost:8080/"
        },
        "outputId": "73594b5d-9c36-4c8b-d132-f70cdf87fc30"
      },
      "execution_count": null,
      "outputs": [
        {
          "output_type": "stream",
          "name": "stdout",
          "text": [
            "              precision    recall  f1-score   support\n",
            "\n",
            "           0       0.78      0.89      0.83       458\n",
            "           1       0.89      0.74      0.81       458\n",
            "           2       0.95      0.99      0.97       458\n",
            "\n",
            "    accuracy                           0.87      1374\n",
            "   macro avg       0.87      0.87      0.87      1374\n",
            "weighted avg       0.87      0.87      0.87      1374\n",
            "\n"
          ]
        }
      ]
    },
    {
      "cell_type": "code",
      "execution_count": null,
      "metadata": {
        "id": "dFyNy1Lh8GfG"
      },
      "outputs": [],
      "source": []
    }
  ],
  "metadata": {
    "colab": {
      "provenance": []
    },
    "kernelspec": {
      "display_name": "Python 3",
      "name": "python3"
    },
    "language_info": {
      "name": "python"
    }
  },
  "nbformat": 4,
  "nbformat_minor": 0
}
